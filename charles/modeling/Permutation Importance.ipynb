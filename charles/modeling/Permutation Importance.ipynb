{
 "cells": [
  {
   "cell_type": "code",
   "execution_count": 22,
   "id": "fb41f28f",
   "metadata": {},
   "outputs": [],
   "source": [
    "import numpy as np\n",
    "import pandas as pd\n",
    "import sklearn\n",
    "from sklearn.model_selection import train_test_split, GridSearchCV\n",
    "from sklearn.linear_model import Lasso\n",
    "from sklearn.preprocessing import MinMaxScaler\n",
    "\n",
    "\n",
    "pd.set_option('display.max_columns', None)"
   ]
  },
  {
   "cell_type": "code",
   "execution_count": 16,
   "id": "a7629b44",
   "metadata": {},
   "outputs": [],
   "source": [
    "data = pd.read_csv('./../../communal/Ames_Housing_Price_Data_cleaned_2.csv')"
   ]
  },
  {
   "cell_type": "code",
   "execution_count": 17,
   "id": "9b766220",
   "metadata": {},
   "outputs": [],
   "source": [
    "log_price = np.log(data['SalePrice'])\n",
    "\n",
    "data.drop(['SalePrice','PID','lat','long','Prop_Addr', 'mean_LotFrontage', 'lot_bucket', 'GarageYrBlt'],axis = 1, inplace = True)\n"
   ]
  },
  {
   "cell_type": "code",
   "execution_count": 19,
   "id": "87be0ac3",
   "metadata": {},
   "outputs": [],
   "source": [
    "dummy = pd.get_dummies(data, drop_first = True)"
   ]
  },
  {
   "cell_type": "code",
   "execution_count": 26,
   "id": "a69df395",
   "metadata": {},
   "outputs": [],
   "source": [
    "X_train, X_test, y_train, y_test = train_test_split(dummy,log_price)\n",
    "scaler = MinMaxScaler()\n",
    "X_train = scaler.fit_transform(X_train)\n",
    "X_test = scaler.transform(X_test)\n",
    "\n"
   ]
  },
  {
   "cell_type": "code",
   "execution_count": 31,
   "id": "09cbef12",
   "metadata": {},
   "outputs": [
    {
     "name": "stdout",
     "output_type": "stream",
     "text": [
      "Fitting 5 folds for each of 1000 candidates, totalling 5000 fits\n"
     ]
    },
    {
     "data": {
      "text/plain": [
       "GridSearchCV(cv=5, estimator=Lasso(max_iter=2000000), n_jobs=-1,\n",
       "             param_grid={'alpha': array([1.00000000e-05, 1.09909910e-05, 1.19819820e-05, 1.29729730e-05,\n",
       "       1.39639640e-05, 1.49549550e-05, 1.59459459e-05, 1.69369369e-05,\n",
       "       1.79279279e-05, 1.89189189e-05, 1.99099099e-05, 2.09009009e-05,\n",
       "       2.18918919e-05, 2.28828829e-05, 2.38738739e-05, 2.48648649e-05,\n",
       "       2.58558559e-05, 2.6846...\n",
       "       9.77207207e-04, 9.78198198e-04, 9.79189189e-04, 9.80180180e-04,\n",
       "       9.81171171e-04, 9.82162162e-04, 9.83153153e-04, 9.84144144e-04,\n",
       "       9.85135135e-04, 9.86126126e-04, 9.87117117e-04, 9.88108108e-04,\n",
       "       9.89099099e-04, 9.90090090e-04, 9.91081081e-04, 9.92072072e-04,\n",
       "       9.93063063e-04, 9.94054054e-04, 9.95045045e-04, 9.96036036e-04,\n",
       "       9.97027027e-04, 9.98018018e-04, 9.99009009e-04, 1.00000000e-03])},\n",
       "             verbose=3)"
      ]
     },
     "execution_count": 31,
     "metadata": {},
     "output_type": "execute_result"
    }
   ],
   "source": [
    "lasso = Lasso(max_iter = 2000000)\n",
    "params = {'alpha' : np.linspace(1e-5,1e-3,1000)}\n",
    "gs = GridSearchCV(lasso,param_grid=params, n_jobs = -1,cv = 5,verbose = 3)\n",
    "gs.fit(X_train, y_train)"
   ]
  },
  {
   "cell_type": "code",
   "execution_count": 33,
   "id": "724b5f8d",
   "metadata": {},
   "outputs": [
    {
     "data": {
      "text/plain": [
       "0.00021513513513513513"
      ]
     },
     "execution_count": 33,
     "metadata": {},
     "output_type": "execute_result"
    }
   ],
   "source": [
    "best_estimator = gs.best_estimator_\n",
    "best_estimator.alpha"
   ]
  },
  {
   "cell_type": "code",
   "execution_count": 43,
   "id": "3e3e3be5",
   "metadata": {},
   "outputs": [],
   "source": [
    "ordered = pd.Series(best_estimator.coef_, index = dummy.columns).sort_values(key = abs, ascending = False)"
   ]
  },
  {
   "cell_type": "code",
   "execution_count": 44,
   "id": "0a121f83",
   "metadata": {},
   "outputs": [
    {
     "data": {
      "text/plain": [
       "GrLivArea              0.957211\n",
       "OverallQual            0.507176\n",
       "OverallCond            0.354942\n",
       "LotArea                0.273528\n",
       "TotalBsmtSF            0.255739\n",
       "                         ...   \n",
       "Exterior1st_HdBoard   -0.000000\n",
       "Exterior1st_ImStucc    0.000000\n",
       "Exterior1st_Plywood    0.000000\n",
       "Exterior1st_PreCast    0.000000\n",
       "Exterior1st_Wd Sdng   -0.000000\n",
       "Length: 266, dtype: float64"
      ]
     },
     "execution_count": 44,
     "metadata": {},
     "output_type": "execute_result"
    }
   ],
   "source": [
    "ordered"
   ]
  },
  {
   "cell_type": "code",
   "execution_count": 65,
   "id": "3af963fa",
   "metadata": {},
   "outputs": [
    {
     "name": "stdout",
     "output_type": "stream",
     "text": [
      "Fitting 5 folds for each of 1000 candidates, totalling 5000 fits\n"
     ]
    },
    {
     "data": {
      "text/plain": [
       "GridSearchCV(cv=5, estimator=Lasso(max_iter=2000000), n_jobs=-1,\n",
       "             param_grid={'alpha': array([1.00000000e-05, 1.09909910e-05, 1.19819820e-05, 1.29729730e-05,\n",
       "       1.39639640e-05, 1.49549550e-05, 1.59459459e-05, 1.69369369e-05,\n",
       "       1.79279279e-05, 1.89189189e-05, 1.99099099e-05, 2.09009009e-05,\n",
       "       2.18918919e-05, 2.28828829e-05, 2.38738739e-05, 2.48648649e-05,\n",
       "       2.58558559e-05, 2.6846...\n",
       "       9.77207207e-04, 9.78198198e-04, 9.79189189e-04, 9.80180180e-04,\n",
       "       9.81171171e-04, 9.82162162e-04, 9.83153153e-04, 9.84144144e-04,\n",
       "       9.85135135e-04, 9.86126126e-04, 9.87117117e-04, 9.88108108e-04,\n",
       "       9.89099099e-04, 9.90090090e-04, 9.91081081e-04, 9.92072072e-04,\n",
       "       9.93063063e-04, 9.94054054e-04, 9.95045045e-04, 9.96036036e-04,\n",
       "       9.97027027e-04, 9.98018018e-04, 9.99009009e-04, 1.00000000e-03])},\n",
       "             verbose=3)"
      ]
     },
     "execution_count": 65,
     "metadata": {},
     "output_type": "execute_result"
    }
   ],
   "source": [
    "widdled_down = dummy[ordered.index[:25]]\n",
    "\n",
    "X_train, X_test, y_train, y_test = train_test_split(widdled_down,log_price)\n",
    "scaler = MinMaxScaler()\n",
    "X_train = scaler.fit_transform(X_train)\n",
    "X_test = scaler.transform(X_test)\n",
    "\n",
    "lasso = Lasso(max_iter = 2000000)\n",
    "params = {'alpha' : np.linspace(1e-5,1e-3,1000)}\n",
    "gs = GridSearchCV(lasso,param_grid=params, n_jobs = -1,cv = 5,verbose = 3)\n",
    "gs.fit(X_train, y_train)"
   ]
  },
  {
   "cell_type": "code",
   "execution_count": 75,
   "id": "fb28c85d",
   "metadata": {},
   "outputs": [],
   "source": [
    "best_estimator = gs.best_estimator_\n",
    "\n",
    "from sklearn.inspection import permutation_importance\n",
    "\n",
    "X_train, X_test, y_train, y_test = train_test_split(widdled_down,log_price)\n",
    "scaler = MinMaxScaler()\n",
    "X_train = scaler.fit_transform(X_train)\n",
    "X_test = scaler.transform(X_test)\n",
    "\n",
    "r = permutation_importance(best_estimator,X_train, y_train, n_repeats = 30, random_state = 0)\n",
    "\n"
   ]
  },
  {
   "cell_type": "code",
   "execution_count": 82,
   "id": "ef27c4b2",
   "metadata": {},
   "outputs": [],
   "source": [
    "skel = []\n",
    "for i in r.importances_mean.argsort()[::-1]:\n",
    "    skel.append([ordered.index[i],round(r.importances_mean[i],3),round(r.importances_std[i],3) ])\n",
    "    \n",
    "f = pd.DataFrame(skel)"
   ]
  },
  {
   "cell_type": "code",
   "execution_count": 83,
   "id": "582ab273",
   "metadata": {},
   "outputs": [
    {
     "data": {
      "text/html": [
       "<div>\n",
       "<style scoped>\n",
       "    .dataframe tbody tr th:only-of-type {\n",
       "        vertical-align: middle;\n",
       "    }\n",
       "\n",
       "    .dataframe tbody tr th {\n",
       "        vertical-align: top;\n",
       "    }\n",
       "\n",
       "    .dataframe thead th {\n",
       "        text-align: right;\n",
       "    }\n",
       "</style>\n",
       "<table border=\"1\" class=\"dataframe\">\n",
       "  <thead>\n",
       "    <tr style=\"text-align: right;\">\n",
       "      <th></th>\n",
       "      <th>0</th>\n",
       "      <th>1</th>\n",
       "      <th>2</th>\n",
       "    </tr>\n",
       "  </thead>\n",
       "  <tbody>\n",
       "    <tr>\n",
       "      <th>0</th>\n",
       "      <td>GrLivArea</td>\n",
       "      <td>0.262</td>\n",
       "      <td>0.008</td>\n",
       "    </tr>\n",
       "    <tr>\n",
       "      <th>1</th>\n",
       "      <td>OverallQual</td>\n",
       "      <td>0.154</td>\n",
       "      <td>0.005</td>\n",
       "    </tr>\n",
       "    <tr>\n",
       "      <th>2</th>\n",
       "      <td>YearBuilt</td>\n",
       "      <td>0.151</td>\n",
       "      <td>0.004</td>\n",
       "    </tr>\n",
       "    <tr>\n",
       "      <th>3</th>\n",
       "      <td>OverallCond</td>\n",
       "      <td>0.045</td>\n",
       "      <td>0.002</td>\n",
       "    </tr>\n",
       "    <tr>\n",
       "      <th>4</th>\n",
       "      <td>TotalBsmtSF</td>\n",
       "      <td>0.022</td>\n",
       "      <td>0.001</td>\n",
       "    </tr>\n",
       "    <tr>\n",
       "      <th>5</th>\n",
       "      <td>BsmtFinSF1</td>\n",
       "      <td>0.019</td>\n",
       "      <td>0.001</td>\n",
       "    </tr>\n",
       "    <tr>\n",
       "      <th>6</th>\n",
       "      <td>GarageCars</td>\n",
       "      <td>0.014</td>\n",
       "      <td>0.001</td>\n",
       "    </tr>\n",
       "    <tr>\n",
       "      <th>7</th>\n",
       "      <td>SaleCondition_Partial</td>\n",
       "      <td>0.011</td>\n",
       "      <td>0.001</td>\n",
       "    </tr>\n",
       "    <tr>\n",
       "      <th>8</th>\n",
       "      <td>SaleCondition_Normal</td>\n",
       "      <td>0.010</td>\n",
       "      <td>0.001</td>\n",
       "    </tr>\n",
       "    <tr>\n",
       "      <th>9</th>\n",
       "      <td>Neighborhood_Crawfor</td>\n",
       "      <td>0.010</td>\n",
       "      <td>0.001</td>\n",
       "    </tr>\n",
       "    <tr>\n",
       "      <th>10</th>\n",
       "      <td>BldgType_Twnhs</td>\n",
       "      <td>0.007</td>\n",
       "      <td>0.001</td>\n",
       "    </tr>\n",
       "    <tr>\n",
       "      <th>11</th>\n",
       "      <td>LotArea</td>\n",
       "      <td>0.006</td>\n",
       "      <td>0.001</td>\n",
       "    </tr>\n",
       "    <tr>\n",
       "      <th>12</th>\n",
       "      <td>BldgType_Duplex</td>\n",
       "      <td>0.006</td>\n",
       "      <td>0.001</td>\n",
       "    </tr>\n",
       "    <tr>\n",
       "      <th>13</th>\n",
       "      <td>1stFlrSF</td>\n",
       "      <td>0.005</td>\n",
       "      <td>0.000</td>\n",
       "    </tr>\n",
       "    <tr>\n",
       "      <th>14</th>\n",
       "      <td>CentralAir_Y</td>\n",
       "      <td>0.004</td>\n",
       "      <td>0.001</td>\n",
       "    </tr>\n",
       "    <tr>\n",
       "      <th>15</th>\n",
       "      <td>BsmtFullBath</td>\n",
       "      <td>0.003</td>\n",
       "      <td>0.000</td>\n",
       "    </tr>\n",
       "    <tr>\n",
       "      <th>16</th>\n",
       "      <td>Neighborhood_MeadowV</td>\n",
       "      <td>0.003</td>\n",
       "      <td>0.000</td>\n",
       "    </tr>\n",
       "    <tr>\n",
       "      <th>17</th>\n",
       "      <td>Neighborhood_Somerst</td>\n",
       "      <td>0.003</td>\n",
       "      <td>0.000</td>\n",
       "    </tr>\n",
       "    <tr>\n",
       "      <th>18</th>\n",
       "      <td>ScreenPorch</td>\n",
       "      <td>0.002</td>\n",
       "      <td>0.000</td>\n",
       "    </tr>\n",
       "    <tr>\n",
       "      <th>19</th>\n",
       "      <td>MSZoning_C (all)</td>\n",
       "      <td>0.001</td>\n",
       "      <td>0.000</td>\n",
       "    </tr>\n",
       "    <tr>\n",
       "      <th>20</th>\n",
       "      <td>Neighborhood_StoneBr</td>\n",
       "      <td>0.001</td>\n",
       "      <td>0.000</td>\n",
       "    </tr>\n",
       "    <tr>\n",
       "      <th>21</th>\n",
       "      <td>SaleCondition_Alloca</td>\n",
       "      <td>0.001</td>\n",
       "      <td>0.000</td>\n",
       "    </tr>\n",
       "    <tr>\n",
       "      <th>22</th>\n",
       "      <td>Exterior1st_BrkFace</td>\n",
       "      <td>0.001</td>\n",
       "      <td>0.000</td>\n",
       "    </tr>\n",
       "    <tr>\n",
       "      <th>23</th>\n",
       "      <td>Functional_Maj2</td>\n",
       "      <td>0.001</td>\n",
       "      <td>0.000</td>\n",
       "    </tr>\n",
       "    <tr>\n",
       "      <th>24</th>\n",
       "      <td>BsmtFinSF2</td>\n",
       "      <td>0.001</td>\n",
       "      <td>0.000</td>\n",
       "    </tr>\n",
       "  </tbody>\n",
       "</table>\n",
       "</div>"
      ],
      "text/plain": [
       "                        0      1      2\n",
       "0               GrLivArea  0.262  0.008\n",
       "1             OverallQual  0.154  0.005\n",
       "2               YearBuilt  0.151  0.004\n",
       "3             OverallCond  0.045  0.002\n",
       "4             TotalBsmtSF  0.022  0.001\n",
       "5              BsmtFinSF1  0.019  0.001\n",
       "6              GarageCars  0.014  0.001\n",
       "7   SaleCondition_Partial  0.011  0.001\n",
       "8    SaleCondition_Normal  0.010  0.001\n",
       "9    Neighborhood_Crawfor  0.010  0.001\n",
       "10         BldgType_Twnhs  0.007  0.001\n",
       "11                LotArea  0.006  0.001\n",
       "12        BldgType_Duplex  0.006  0.001\n",
       "13               1stFlrSF  0.005  0.000\n",
       "14           CentralAir_Y  0.004  0.001\n",
       "15           BsmtFullBath  0.003  0.000\n",
       "16   Neighborhood_MeadowV  0.003  0.000\n",
       "17   Neighborhood_Somerst  0.003  0.000\n",
       "18            ScreenPorch  0.002  0.000\n",
       "19       MSZoning_C (all)  0.001  0.000\n",
       "20   Neighborhood_StoneBr  0.001  0.000\n",
       "21   SaleCondition_Alloca  0.001  0.000\n",
       "22    Exterior1st_BrkFace  0.001  0.000\n",
       "23        Functional_Maj2  0.001  0.000\n",
       "24             BsmtFinSF2  0.001  0.000"
      ]
     },
     "execution_count": 83,
     "metadata": {},
     "output_type": "execute_result"
    }
   ],
   "source": [
    "f"
   ]
  },
  {
   "cell_type": "code",
   "execution_count": 84,
   "id": "2ddf9435",
   "metadata": {},
   "outputs": [
    {
     "data": {
      "text/plain": [
       "0.9226905193265396"
      ]
     },
     "execution_count": 84,
     "metadata": {},
     "output_type": "execute_result"
    }
   ],
   "source": [
    "best_estimator.score(X_test, y_test)"
   ]
  },
  {
   "cell_type": "code",
   "execution_count": 87,
   "id": "64adee18",
   "metadata": {},
   "outputs": [],
   "source": [
    "from sklearn.ensemble import GradientBoostingRegressor\n",
    "\n",
    "gbr = GradientBoostingRegressor()\n",
    "parameters = {\n",
    "    \"n_estimators\":[850, 900, 950, 1000],\n",
    "    \"max_depth\":[4, 5, 6],\n",
    "    \"learning_rate\":[0.005, 0.01, 0.025, 0.05, 0.075],\n",
    "    \"subsample\":[0.4, 0.6, 0.7, 0.8, 0.9],\n",
    "    \"max_features\":[7, 8]\n",
    "}\n",
    "\n",
    "grid_search = GridSearchCV(estimator = gbr, param_grid = parameters, n_jobs = -1, cv = 5, verbose = 3)"
   ]
  },
  {
   "cell_type": "code",
   "execution_count": 88,
   "id": "b64e4f0d",
   "metadata": {},
   "outputs": [
    {
     "name": "stdout",
     "output_type": "stream",
     "text": [
      "Fitting 5 folds for each of 600 candidates, totalling 3000 fits\n"
     ]
    },
    {
     "data": {
      "text/plain": [
       "GridSearchCV(cv=5, estimator=GradientBoostingRegressor(), n_jobs=-1,\n",
       "             param_grid={'learning_rate': [0.005, 0.01, 0.025, 0.05, 0.075],\n",
       "                         'max_depth': [4, 5, 6], 'max_features': [7, 8],\n",
       "                         'n_estimators': [850, 900, 950, 1000],\n",
       "                         'subsample': [0.4, 0.6, 0.7, 0.8, 0.9]},\n",
       "             verbose=3)"
      ]
     },
     "execution_count": 88,
     "metadata": {},
     "output_type": "execute_result"
    }
   ],
   "source": [
    "grid_search.fit(X_train, y_train)"
   ]
  },
  {
   "cell_type": "code",
   "execution_count": 93,
   "id": "9872913a",
   "metadata": {},
   "outputs": [
    {
     "name": "stdout",
     "output_type": "stream",
     "text": [
      "0.9679392901310736\n",
      "0.9249684448289214\n"
     ]
    }
   ],
   "source": [
    "gbm_best = grid_search.best_estimator_\n",
    "print(gbm_best.score(X_train, y_train))\n",
    "print(gbm_best.score(X_test, y_test))"
   ]
  },
  {
   "cell_type": "code",
   "execution_count": null,
   "id": "198b0db7",
   "metadata": {},
   "outputs": [],
   "source": []
  }
 ],
 "metadata": {
  "kernelspec": {
   "display_name": "Python 3",
   "language": "python",
   "name": "python3"
  },
  "language_info": {
   "codemirror_mode": {
    "name": "ipython",
    "version": 3
   },
   "file_extension": ".py",
   "mimetype": "text/x-python",
   "name": "python",
   "nbconvert_exporter": "python",
   "pygments_lexer": "ipython3",
   "version": "3.8.8"
  }
 },
 "nbformat": 4,
 "nbformat_minor": 5
}

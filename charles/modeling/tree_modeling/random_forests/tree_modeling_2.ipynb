{
 "cells": [
  {
   "cell_type": "code",
   "execution_count": 1,
   "id": "2df8c1a7",
   "metadata": {},
   "outputs": [],
   "source": [
    "import pandas as pd\n",
    "import numpy as np\n",
    "pd.set_option('display.max_columns',None)\n",
    "data = pd.read_csv('./../data/ames_v5_local.csv',index_col=False)\n",
    "import sys\n",
    "sys.path.insert(0,'./../helpers')\n",
    "import helper"
   ]
  },
  {
   "cell_type": "code",
   "execution_count": 2,
   "id": "8bc70b15",
   "metadata": {},
   "outputs": [],
   "source": [
    "predict = data.SalePrice\n",
    "log_predict = np.log(predict)\n",
    "data.drop('SalePrice', inplace = True, axis = 1)\n",
    "dummy = pd.get_dummies(data)"
   ]
  },
  {
   "cell_type": "code",
   "execution_count": 3,
   "id": "2fc0f34e",
   "metadata": {},
   "outputs": [],
   "source": [
    "# def runGridSearch(gs, X_train,X_test, y_train, y_test, file, message):\n",
    "#     import joblib\n",
    "#     print('joblib imported')\n",
    "#     gs.fit(X_train, y_train)\n",
    "#     best_estimator = gs.best_estimator_\n",
    "#     train_score = best_estimator.score(X_train, y_train)\n",
    "#     test_score = best_estimator.score(X_test, y_test)\n",
    "    \n",
    "\n",
    "#     with open(file, 'w') as f:\n",
    "#         f.writelines('ReadMe : \\n')\n",
    "#         f.writelines(message + '\\n\\n\\n\\n')\n",
    "#         f.writelines(f'Model : {best_estimator}\\n')\n",
    "#         f.writelines(f'TRAIN SCORE : {str(train_score)} \\n')\n",
    "#         f.writelines(f'TEST SCORE : {str(test_score)} \\n\\n\\n')\n",
    "        \n",
    "#         f.writelines(f'Train Size : {len(X_train)}\\n')\n",
    "#         f.writelines(f'Test Size : {len(X_test)}\\n\\n')\n",
    "        \n",
    "#         f.writelines('GRID SEARCH PARAMATER DICTIONARY\\n')\n",
    "#         f.writelines(str(gs.get_params()) + '\\n\\n')\n",
    "# #         f.writelines(pd.DataFrame.from_dict([gs.get_params()]).T.to_string() + '\\n\\n')\n",
    "#         f.writelines('BEST ESTIMATOR PARAMATER DICTIONARY\\n')\n",
    "#         f.writelines(pd.DataFrame.from_dict([best_estimator.get_params()]).T.to_string() + '\\n\\n')\n",
    "#     joblib.dump(best_estimator,'be.joblib')\n",
    "\n",
    "#     return gs"
   ]
  },
  {
   "cell_type": "code",
   "execution_count": 4,
   "id": "1ee8a68a",
   "metadata": {},
   "outputs": [],
   "source": [
    "import sklearn\n",
    "from sklearn.linear_model import Lasso\n",
    "from sklearn.model_selection import GridSearchCV\n",
    "from sklearn.model_selection import train_test_split\n",
    "from sklearn.preprocessing import MinMaxScaler\n",
    "\n",
    "X_train, X_test, y_train, y_test = train_test_split(dummy,log_predict)\n",
    "\n",
    "scaler = MinMaxScaler()\n",
    "X_train = scaler.fit_transform(X_train)\n",
    "X_test = scaler.transform(X_test)\n",
    "\n",
    "params = {'alpha': np.linspace(1e-7,.002,10)}\n",
    "\n",
    "gs = GridSearchCV(Lasso(max_iter = 200000),param_grid=params, cv = 5)\n"
   ]
  },
  {
   "cell_type": "code",
   "execution_count": 5,
   "id": "ab2971ca",
   "metadata": {},
   "outputs": [
    {
     "name": "stdout",
     "output_type": "stream",
     "text": [
      "joblib imported\n",
      "change made\n"
     ]
    }
   ],
   "source": [
    "message = 'Lasso Regression'\n",
    "gs = helper.runGridSearch(gs,X_train, X_test, y_train,y_test,'lasso_play',message)"
   ]
  },
  {
   "cell_type": "code",
   "execution_count": 17,
   "id": "19ebd857",
   "metadata": {},
   "outputs": [
    {
     "data": {
      "text/plain": [
       "\"{'alpha': 0.00024251212121212124, 'copy_X': True, 'fit_intercept': True, 'max_iter': 200000, 'normalize': False, 'positive': False, 'precompute': False, 'random_state': None, 'selection': 'cyclic', 'tol': 0.0001, 'warm_start': False}\""
      ]
     },
     "execution_count": 17,
     "metadata": {},
     "output_type": "execute_result"
    }
   ],
   "source": [
    "be = gs.best_estimator_\n",
    "str(be.get_params())"
   ]
  },
  {
   "cell_type": "code",
   "execution_count": 182,
   "id": "3e83f9ff",
   "metadata": {},
   "outputs": [],
   "source": [
    "loaded = joblib.load('be.joblib')"
   ]
  },
  {
   "cell_type": "code",
   "execution_count": 186,
   "id": "bbebcea2",
   "metadata": {},
   "outputs": [
    {
     "data": {
      "text/plain": [
       "0.9291947472023565"
      ]
     },
     "execution_count": 186,
     "metadata": {},
     "output_type": "execute_result"
    }
   ],
   "source": [
    "loaded.score(X_train,y_train)"
   ]
  },
  {
   "cell_type": "code",
   "execution_count": 187,
   "id": "60b33259",
   "metadata": {},
   "outputs": [
    {
     "data": {
      "text/plain": [
       "0.00020211010101010106"
      ]
     },
     "execution_count": 187,
     "metadata": {},
     "output_type": "execute_result"
    }
   ],
   "source": [
    "loaded.alpha"
   ]
  },
  {
   "cell_type": "code",
   "execution_count": null,
   "id": "9c99c2c7",
   "metadata": {},
   "outputs": [],
   "source": []
  }
 ],
 "metadata": {
  "kernelspec": {
   "display_name": "Python 3",
   "language": "python",
   "name": "python3"
  },
  "language_info": {
   "codemirror_mode": {
    "name": "ipython",
    "version": 3
   },
   "file_extension": ".py",
   "mimetype": "text/x-python",
   "name": "python",
   "nbconvert_exporter": "python",
   "pygments_lexer": "ipython3",
   "version": "3.8.8"
  }
 },
 "nbformat": 4,
 "nbformat_minor": 5
}

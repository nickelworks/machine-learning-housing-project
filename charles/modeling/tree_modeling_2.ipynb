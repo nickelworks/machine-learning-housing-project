{
 "cells": [
  {
   "cell_type": "code",
   "execution_count": 8,
   "id": "2df8c1a7",
   "metadata": {},
   "outputs": [],
   "source": [
    "import pandas as pd\n",
    "import numpy as np\n",
    "pd.set_option('display.max_columns',None)\n",
    "data = pd.read_csv('./../data/ames_v5_local.csv',index_col=False)\n",
    "import sys\n",
    "sys.path.insert(0,'./../helpers')\n",
    "import helper\n",
    "import joblib\n",
    "\n",
    "predict = data.SalePrice\n",
    "log_predict = np.log(predict)\n",
    "data.drop('SalePrice', inplace = True, axis = 1)\n",
    "dummy = pd.get_dummies(data)"
   ]
  },
  {
   "cell_type": "code",
   "execution_count": 2,
   "id": "8bc70b15",
   "metadata": {},
   "outputs": [],
   "source": []
  },
  {
   "cell_type": "code",
   "execution_count": 4,
   "id": "1ee8a68a",
   "metadata": {},
   "outputs": [],
   "source": [
    "import sklearn\n",
    "from sklearn.linear_model import Lasso\n",
    "from sklearn.model_selection import GridSearchCV\n",
    "from sklearn.model_selection import train_test_split\n",
    "from sklearn.preprocessing import MinMaxScaler\n",
    "\n",
    "X_train, X_test, y_train, y_test = train_test_split(dummy,log_predict)\n",
    "\n",
    "scaler = MinMaxScaler()\n",
    "X_train = scaler.fit_transform(X_train)\n",
    "X_test = scaler.transform(X_test)\n",
    "\n",
    "params = {'alpha': np.linspace(1e-7,.002,10)}\n",
    "\n",
    "gs = GridSearchCV(Lasso(max_iter = 200000),param_grid=params, cv = 5)\n"
   ]
  },
  {
   "cell_type": "code",
   "execution_count": 5,
   "id": "ab2971ca",
   "metadata": {},
   "outputs": [
    {
     "name": "stdout",
     "output_type": "stream",
     "text": [
      "joblib imported\n",
      "change made\n"
     ]
    }
   ],
   "source": [
    "message = 'Lasso Regression'\n",
    "gs = helper.runGridSearch(gs,X_train, X_test, y_train,y_test,'lasso_play',message)"
   ]
  },
  {
   "cell_type": "markdown",
   "id": "6a493dae",
   "metadata": {},
   "source": [
    "# Running a Tree Search for why not"
   ]
  },
  {
   "cell_type": "code",
   "execution_count": 30,
   "id": "77144086",
   "metadata": {},
   "outputs": [],
   "source": [
    "message = 'Tree Search cuz why not'\n",
    "from sklearn.ensemble import RandomForestRegressor\n",
    "params = {'max_depth' : range(10,12),\n",
    "         'n_estimators' : range(1000,3000,100),\n",
    "          \n",
    "         }\n",
    "forest = RandomForestRegressor(max_features='sqrt')\n",
    "forest_grid_Search = GridSearchCV(forest,cv = 4, n_jobs = -1,verbose = 3, param_grid = params)"
   ]
  },
  {
   "cell_type": "code",
   "execution_count": 31,
   "id": "de87a2d5",
   "metadata": {
    "scrolled": true
   },
   "outputs": [
    {
     "name": "stdout",
     "output_type": "stream",
     "text": [
      "joblib imported\n",
      "change made\n",
      "Fitting 4 folds for each of 40 candidates, totalling 160 fits\n"
     ]
    }
   ],
   "source": [
    "forest_grid_Search = helper.runGridSearch(forest_grid_Search,X_train, X_test, y_train, y_test,'random_forest_3',message )"
   ]
  },
  {
   "cell_type": "code",
   "execution_count": 39,
   "id": "9f2ac55b",
   "metadata": {},
   "outputs": [
    {
     "data": {
      "text/plain": [
       "OverallQual             0.087625\n",
       "logGrLivArea            0.069719\n",
       "GrLivArea               0.066844\n",
       "YearBuilt               0.049270\n",
       "CombinedBathroom        0.045018\n",
       "                          ...   \n",
       "Neighborhood_Landmrk    0.000005\n",
       "GarageCond_Ex           0.000005\n",
       "BsmtCond_Ex             0.000001\n",
       "Exterior1st_ImStucc     0.000000\n",
       "ExterCond_Po            0.000000\n",
       "Length: 185, dtype: float64"
      ]
     },
     "execution_count": 39,
     "metadata": {},
     "output_type": "execute_result"
    }
   ],
   "source": [
    "pd.Series(forest_grid_Search.best_estimator_.feature_importances_,index = dummy.columns).sort_values(ascending = False)"
   ]
  },
  {
   "cell_type": "code",
   "execution_count": null,
   "id": "9561732f",
   "metadata": {},
   "outputs": [],
   "source": []
  }
 ],
 "metadata": {
  "kernelspec": {
   "display_name": "Python 3",
   "language": "python",
   "name": "python3"
  },
  "language_info": {
   "codemirror_mode": {
    "name": "ipython",
    "version": 3
   },
   "file_extension": ".py",
   "mimetype": "text/x-python",
   "name": "python",
   "nbconvert_exporter": "python",
   "pygments_lexer": "ipython3",
   "version": "3.8.8"
  }
 },
 "nbformat": 4,
 "nbformat_minor": 5
}

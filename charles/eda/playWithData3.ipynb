{
 "cells": [
  {
   "cell_type": "code",
   "execution_count": 1,
   "id": "d8178981",
   "metadata": {},
   "outputs": [],
   "source": [
    "import pandas as pd\n",
    "import numpy as np\n",
    "import seaborn as sns\n"
   ]
  },
  {
   "cell_type": "code",
   "execution_count": 59,
   "id": "a10eb454",
   "metadata": {},
   "outputs": [],
   "source": [
    "data = pd.read_csv('./../../communal/Ames_Housing_Price_Data_cleaned_3.csv')\n",
    "data.head()\n",
    "price = data['SalePrice']\n",
    "data.drop('SalePrice', axis = 1, inplace = True)\n",
    "data.drop('PID', axis = 1, inplace = True)\n",
    "data.drop('lot_bucket',axis = 1, inplace = True)\n",
    "data.drop('mean_LotFrontage',axis= 1, inplace = True)"
   ]
  },
  {
   "cell_type": "code",
   "execution_count": 60,
   "id": "fb1d0935",
   "metadata": {},
   "outputs": [],
   "source": [
    "not_sure = []\n",
    "\n",
    "continuous = ['GrLivArea','LotFrontage','LotArea','MasVnrArea',\n",
    "              'BsmtFinSF1','BsmtFinSF2','BsmtUnfSF',\n",
    "              'TotalBsmtSF','1stFlrSF','2ndFlrSF', 'LowQualFinSF', \n",
    "              'GarageArea','WoodDeckSF','TotalPorchSF']\n",
    "\n",
    "discrete = ['YearBuilt','YearRemodAdd','BsmtFullBath','BsmtHalfBath',\n",
    "            'FullBath','HalfBath','BedroomAbvGr','TotRmsAbvGrd','Fireplaces',\n",
    "            'GarageYrBlt','GarageCars','MoSold','YrSold']\n",
    "\n",
    "ordinal = ['OverallCond','OverallQual','ExterQual','ExterCond','BsmtQual','BsmtCond',\n",
    "           'BsmtExposure','HeatingQC','KitchenQual','FireplaceQu','GarageFinish','GarageQual',\n",
    "          'GarageCond']\n",
    "\n",
    "categorical = ['MSSubClass','MSZoning','LotShape',\n",
    "               'Neighborhood','BldgType','HouseStyle','Exterior1st',\n",
    "               'MasVnrType','Foundation','BsmtFinType1','CentralAir','Electrical',\n",
    "               'GarageType','PavedDrive']"
   ]
  },
  {
   "cell_type": "code",
   "execution_count": 61,
   "id": "55613f15",
   "metadata": {},
   "outputs": [
    {
     "data": {
      "text/plain": [
       "Index(['GrLivArea', 'MSSubClass', 'MSZoning', 'LotFrontage', 'LotArea',\n",
       "       'LotShape', 'Neighborhood', 'BldgType', 'HouseStyle', 'OverallQual',\n",
       "       'OverallCond', 'YearBuilt', 'YearRemodAdd', 'Exterior1st', 'MasVnrType',\n",
       "       'MasVnrArea', 'ExterQual', 'ExterCond', 'Foundation', 'BsmtQual',\n",
       "       'BsmtCond', 'BsmtExposure', 'BsmtFinType1', 'BsmtFinSF1', 'BsmtFinSF2',\n",
       "       'BsmtUnfSF', 'TotalBsmtSF', 'HeatingQC', 'CentralAir', 'Electrical',\n",
       "       '1stFlrSF', '2ndFlrSF', 'LowQualFinSF', 'BsmtFullBath', 'BsmtHalfBath',\n",
       "       'FullBath', 'HalfBath', 'BedroomAbvGr', 'KitchenQual', 'TotRmsAbvGrd',\n",
       "       'Fireplaces', 'FireplaceQu', 'GarageType', 'GarageYrBlt',\n",
       "       'GarageFinish', 'GarageCars', 'GarageArea', 'GarageQual', 'GarageCond',\n",
       "       'PavedDrive', 'WoodDeckSF', 'MoSold', 'YrSold', 'Prop_Addr', 'lat',\n",
       "       'long', 'TotalPorchSF'],\n",
       "      dtype='object')"
      ]
     },
     "execution_count": 61,
     "metadata": {},
     "output_type": "execute_result"
    }
   ],
   "source": [
    "data.columns"
   ]
  },
  {
   "cell_type": "code",
   "execution_count": null,
   "id": "4ccea7cb",
   "metadata": {},
   "outputs": [],
   "source": [
    "from sklearn.feature_selection import f_regression\n",
    "F_values, p_values = f_regression(selected_rows,data.loc[selected_rows.index,'SalePrice'])\n",
    "\n",
    "pd.Series(p_values, index=selected_rows.columns).sort_values()"
   ]
  }
 ],
 "metadata": {
  "kernelspec": {
   "display_name": "Python 3",
   "language": "python",
   "name": "python3"
  },
  "language_info": {
   "codemirror_mode": {
    "name": "ipython",
    "version": 3
   },
   "file_extension": ".py",
   "mimetype": "text/x-python",
   "name": "python",
   "nbconvert_exporter": "python",
   "pygments_lexer": "ipython3",
   "version": "3.8.8"
  }
 },
 "nbformat": 4,
 "nbformat_minor": 5
}

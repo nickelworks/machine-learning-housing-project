{
 "cells": [
  {
   "cell_type": "code",
   "execution_count": 1,
   "id": "70af14a3",
   "metadata": {},
   "outputs": [],
   "source": [
    "import pandas as pd\n",
    "import numpy as np\n",
    "import seaborn as sns\n",
    "from matplotlib import pyplot as plt\n",
    "import pickle\n",
    "import sys\n",
    "\n",
    "from sklearn.model_selection import train_test_split\n",
    "from sklearn import preprocessing\n",
    "from sklearn import linear_model\n",
    "from sklearn.linear_model import Lasso\n",
    "from sklearn.model_selection import GridSearchCV\n",
    "from sklearn.preprocessing import MinMaxScaler\n",
    "\n",
    "sys.path.insert(0,'../charles/helpers')\n",
    "import helper\n",
    "import joblib"
   ]
  },
  {
   "cell_type": "code",
   "execution_count": 2,
   "id": "78575239",
   "metadata": {},
   "outputs": [],
   "source": [
    "data = pd.read_csv('../communal/Ames_Housing_Price_Data_cleaned_2.csv', header = [0])\n",
    "\n",
    "pd.set_option(\"display.max_columns\", None)\n",
    "\n",
    "data.drop(['PID', 'lot_bucket', 'mean_LotFrontage', 'Prop_Addr', 'GarageYrBlt', 'lat', 'long'], axis = 1, inplace = True)\n",
    "\n",
    "data.drop(['YearRemodAdd', 'Exterior2nd', 'BsmtFinSF1', 'BsmtFinSF2',\n",
    "           'BsmtUnfSF', '1stFlrSF', '2ndFlrSF', 'LowQualFinSF', \n",
    "           'TotRmsAbvGrd', 'GarageCars'], axis = 1, inplace = True)\n",
    "data['Total_Porch'] = data['OpenPorchSF'] + data['EnclosedPorch'] + \\\n",
    "                      data['3SsnPorch'] + data['ScreenPorch']\n",
    "data.drop(['OpenPorchSF', 'EnclosedPorch', '3SsnPorch', 'ScreenPorch'],\n",
    "           axis = 1, inplace = True)"
   ]
  },
  {
   "cell_type": "code",
   "execution_count": 3,
   "id": "21aec2b4",
   "metadata": {},
   "outputs": [],
   "source": [
    "y = data['SalePrice'].apply(lambda x: np.log(x))\n",
    "x = data.drop(['SalePrice'], axis = 1)\n",
    "x = pd.get_dummies(x, drop_first = True)"
   ]
  },
  {
   "cell_type": "code",
   "execution_count": 4,
   "id": "e8e95a4e",
   "metadata": {},
   "outputs": [],
   "source": [
    "X_train, X_test, y_train, y_test = train_test_split(x,y)\n",
    "\n",
    "scaler = MinMaxScaler()\n",
    "X_train = scaler.fit_transform(X_train)\n",
    "X_test = scaler.transform(X_test)\n",
    "\n",
    "params = {'alpha': np.linspace(1e-5,.01,100)}\n",
    "\n",
    "lasso_gs = GridSearchCV(Lasso(max_iter = 500000),param_grid=params, cv = 5)"
   ]
  },
  {
   "cell_type": "code",
   "execution_count": 5,
   "id": "10b566a5",
   "metadata": {},
   "outputs": [
    {
     "name": "stdout",
     "output_type": "stream",
     "text": [
      "joblib imported\n",
      "change made\n"
     ]
    }
   ],
   "source": [
    "lasso_gs = helper.runGridSearch(lasso_gs, X_train, X_test, y_train, y_test, 'lasso_all', 'all features')"
   ]
  },
  {
   "cell_type": "code",
   "execution_count": null,
   "id": "1673573d",
   "metadata": {},
   "outputs": [],
   "source": []
  }
 ],
 "metadata": {
  "kernelspec": {
   "display_name": "Python 3",
   "language": "python",
   "name": "python3"
  },
  "language_info": {
   "codemirror_mode": {
    "name": "ipython",
    "version": 3
   },
   "file_extension": ".py",
   "mimetype": "text/x-python",
   "name": "python",
   "nbconvert_exporter": "python",
   "pygments_lexer": "ipython3",
   "version": "3.8.8"
  }
 },
 "nbformat": 4,
 "nbformat_minor": 5
}

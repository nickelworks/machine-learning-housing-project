{
 "cells": [
  {
   "cell_type": "code",
   "execution_count": 1,
   "id": "738e1b43",
   "metadata": {},
   "outputs": [],
   "source": [
    "import pandas as pd\n",
    "import numpy as np\n",
    "import seaborn as sns\n",
    "from matplotlib import pyplot as plt\n",
    "import pickle\n",
    "import sys\n",
    "\n",
    "from sklearn.model_selection import train_test_split\n",
    "from sklearn import preprocessing\n",
    "from sklearn import linear_model\n",
    "from sklearn.linear_model import Lasso\n",
    "from sklearn.model_selection import GridSearchCV\n",
    "from sklearn.preprocessing import MinMaxScaler\n",
    "\n",
    "sys.path.insert(0,'../charles/helpers')\n",
    "import helper\n",
    "import joblib"
   ]
  },
  {
   "cell_type": "code",
   "execution_count": 2,
   "id": "ead2cbec",
   "metadata": {},
   "outputs": [],
   "source": [
    "data = pd.read_csv('../communal/Ames_Housing_Price_Data_cleaned_2.csv', header = [0])\n",
    "\n",
    "pd.set_option(\"display.max_columns\", None)\n",
    "\n",
    "data.drop(['PID', 'lot_bucket', 'mean_LotFrontage', 'Prop_Addr', 'GarageYrBlt', 'lat', 'long'], axis = 1, inplace = True)\n",
    "\n",
    "data.drop(['YearRemodAdd', 'Exterior2nd', 'BsmtFinSF1', 'BsmtFinSF2',\n",
    "           'BsmtUnfSF', '1stFlrSF', '2ndFlrSF', 'LowQualFinSF', \n",
    "           'TotRmsAbvGrd', 'GarageCars'], axis = 1, inplace = True)\n",
    "data['Total_Porch'] = data['OpenPorchSF'] + data['EnclosedPorch'] + \\\n",
    "                      data['3SsnPorch'] + data['ScreenPorch']\n",
    "data.drop(['OpenPorchSF', 'EnclosedPorch', '3SsnPorch', 'ScreenPorch'],\n",
    "           axis = 1, inplace = True)"
   ]
  },
  {
   "cell_type": "code",
   "execution_count": 3,
   "id": "4f2e3b12",
   "metadata": {},
   "outputs": [],
   "source": [
    "y = data['SalePrice'].apply(lambda x: np.log(x))\n",
    "x = data.drop(['SalePrice'], axis = 1)\n",
    "x = pd.get_dummies(x, drop_first = True)"
   ]
  },
  {
   "cell_type": "code",
   "execution_count": 4,
   "id": "b8cb0a9d",
   "metadata": {},
   "outputs": [],
   "source": [
    "X_train, X_test, y_train, y_test = train_test_split(x,y)\n",
    "\n",
    "scaler = MinMaxScaler()\n",
    "X_train = scaler.fit_transform(X_train)\n",
    "X_test = scaler.transform(X_test)\n",
    "\n",
    "params = {'alpha': np.linspace(1e-7,1e-3,1000)}\n",
    "\n",
    "lasso_gs = GridSearchCV(Lasso(max_iter = 500000),param_grid=params, cv = 5)"
   ]
  },
  {
   "cell_type": "code",
   "execution_count": 5,
   "id": "77189aaa",
   "metadata": {},
   "outputs": [
    {
     "name": "stdout",
     "output_type": "stream",
     "text": [
      "joblib imported\n",
      "change made\n"
     ]
    }
   ],
   "source": [
    "lasso_gs = helper.runGridSearch(lasso_gs, X_train, X_test, y_train, y_test, 'lasso_all', 'all features')"
   ]
  },
  {
   "cell_type": "code",
   "execution_count": 6,
   "id": "a89c2f22",
   "metadata": {},
   "outputs": [
    {
     "data": {
      "text/plain": [
       "0.0002763486486486487"
      ]
     },
     "execution_count": 6,
     "metadata": {},
     "output_type": "execute_result"
    }
   ],
   "source": [
    "lasso_gs.best_estimator_.alpha"
   ]
  },
  {
   "cell_type": "code",
   "execution_count": 7,
   "id": "9476f746",
   "metadata": {},
   "outputs": [
    {
     "data": {
      "text/plain": [
       "0.9299682502474976"
      ]
     },
     "execution_count": 7,
     "metadata": {},
     "output_type": "execute_result"
    }
   ],
   "source": [
    "lasso_gs.score(X_train, y_train)"
   ]
  },
  {
   "cell_type": "code",
   "execution_count": 8,
   "id": "c6b4fcf1",
   "metadata": {},
   "outputs": [
    {
     "data": {
      "text/plain": [
       "0.9187567546261017"
      ]
     },
     "execution_count": 8,
     "metadata": {},
     "output_type": "execute_result"
    }
   ],
   "source": [
    "lasso_gs.score(X_test, y_test)"
   ]
  },
  {
   "cell_type": "code",
   "execution_count": null,
   "id": "ffa68ed7",
   "metadata": {},
   "outputs": [],
   "source": [
    "lasso_gs_df = pd.DataFrame(X_train, columns = x.columns)"
   ]
  },
  {
   "cell_type": "code",
   "execution_count": 9,
   "id": "ead5ea50",
   "metadata": {},
   "outputs": [
    {
     "data": {
      "text/plain": [
       "[(1.180384602161, 'GrLivArea'),\n",
       " (0.4847462166810315, 'OverallQual'),\n",
       " (0.3312488631315472, 'OverallCond'),\n",
       " (0.30737954062840084, 'TotalBsmtSF'),\n",
       " (-0.29657801637518394, 'Condition2_PosN'),\n",
       " (0.21883367020809033, 'YearBuilt'),\n",
       " (0.20014337731954884, 'GarageArea'),\n",
       " (-0.19666548747302695, 'MSZoning_C (all)'),\n",
       " (0.12139130445563352, 'LotArea'),\n",
       " (0.10562448289295315, 'Neighborhood_Crawfor'),\n",
       " (-0.09952009128877051, 'Neighborhood_MeadowV'),\n",
       " (0.09867607043850014, 'Fireplaces'),\n",
       " (0.09598389216017113, 'BsmtFullBath'),\n",
       " (0.08727640152733482, 'Total_Porch'),\n",
       " (0.08517119797043032, 'Neighborhood_Somerst'),\n",
       " (-0.08092714067756943, 'BldgType_Twnhs'),\n",
       " (0.07896175112418229, 'SaleCondition_Partial'),\n",
       " (-0.07647051597769913, 'ExterCond_Fa'),\n",
       " (0.0744969710772724, 'Exterior1st_BrkFace'),\n",
       " (0.06957188464007424, 'CentralAir_Y'),\n",
       " (0.06836112616578296, 'Neighborhood_StoneBr'),\n",
       " (-0.0631356366353868, 'BsmtExposure_None'),\n",
       " (-0.06071534634555036, 'BsmtQual_Fa'),\n",
       " (-0.05996552564907705, 'BldgType_Duplex'),\n",
       " (-0.05948830071165588, 'KitchenQual_TA'),\n",
       " (0.05777885765991443, 'BsmtExposure_Gd'),\n",
       " (0.05637030551123468, 'SaleCondition_Normal'),\n",
       " (-0.055378958416793, 'KitchenQual_Fa'),\n",
       " (-0.04777194075751014, 'BsmtQual_TA'),\n",
       " (0.04623856368801677, 'Neighborhood_NridgHt'),\n",
       " (0.042508456654417895, 'Condition1_Norm'),\n",
       " (-0.04076967326855433, 'BsmtQual_Gd'),\n",
       " (0.0383354793329426, 'Functional_Typ'),\n",
       " (-0.03824687777736088, 'MSSubClass'),\n",
       " (-0.03795751548398819, 'BsmtFinType1_Unf'),\n",
       " (-0.03701042987364193, 'Neighborhood_Edwards'),\n",
       " (-0.03651042474096125, 'KitchenQual_Gd'),\n",
       " (-0.03632816719150593, 'GarageCond_Fa'),\n",
       " (-0.03457696703989041, 'HeatingQC_TA'),\n",
       " (0.03416764526391865, 'MSZoning_RL'),\n",
       " (0.032518988705828145, 'Neighborhood_Timber'),\n",
       " (0.032011285894510334, 'Foundation_PConc'),\n",
       " (0.030228576683033616, 'PavedDrive_Y'),\n",
       " (-0.02932751295992478, 'HeatingQC_Fa'),\n",
       " (-0.029287529858190428, 'Heating_GasA'),\n",
       " (0.026946999284200898, 'GarageCond_TA'),\n",
       " (0.026808256940925403, 'Neighborhood_ClearCr'),\n",
       " (-0.025487109442567768, 'MSZoning_RM'),\n",
       " (-0.025430464082363928, 'Neighborhood_OldTown'),\n",
       " (0.024922847781876575, 'LandContour_Low'),\n",
       " (0.023693674630622087, 'GarageType_Attchd'),\n",
       " (-0.023327183897792994, 'Neighborhood_NAmes'),\n",
       " (0.022157624774066426, 'LotShape_IR2'),\n",
       " (0.022019190950792095, 'LandContour_Lvl'),\n",
       " (-0.02122597172289098, 'Neighborhood_SWISU'),\n",
       " (-0.02120522146011891, 'BsmtFinType1_LwQ'),\n",
       " (0.021171496361116097, 'LotConfig_CulDSac'),\n",
       " (0.02079222021054868, 'WoodDeckSF'),\n",
       " (-0.01935592769486789, 'Alley_None'),\n",
       " (0.019107275933881302, 'HouseStyle_SFoyer'),\n",
       " (-0.018289940607540724, 'BsmtExposure_No'),\n",
       " (-0.01775424280437206, 'BsmtFinType1_Rec'),\n",
       " (0.01752203498837864, 'SaleCondition_Alloca'),\n",
       " (-0.01642802398366609, 'ExterQual_TA'),\n",
       " (-0.01544916180791219, 'Neighborhood_SawyerW'),\n",
       " (0.014920730830027974, 'Exterior1st_VinylSd'),\n",
       " (-0.014361385946005348, 'GarageType_Basment'),\n",
       " (0.013692056300341529, 'Condition1_PosA'),\n",
       " (0.013651178932051434, 'FullBath'),\n",
       " (-0.013357899635467404, 'GarageQual_Fa'),\n",
       " (-0.013133275517951038, 'BsmtExposure_Mn'),\n",
       " (0.012923415828198101, 'LandSlope_Mod'),\n",
       " (-0.01273153534398668, 'ExterQual_Gd'),\n",
       " (-0.012717137356498438, 'BldgType_TwnhsE'),\n",
       " (0.011920089676115736, 'RoofMatl_Tar&Grv'),\n",
       " (-0.011873481729490131, 'YrSold'),\n",
       " (0.011763596523695843, 'LandContour_HLS'),\n",
       " (-0.011693243004726309, 'FireplaceQu_None'),\n",
       " (0.011493357445611677, 'HalfBath'),\n",
       " (0.011372671087633209, 'Neighborhood_NoRidge'),\n",
       " (-0.011096992885982102, 'HouseStyle_2Story'),\n",
       " (-0.01080138078982396, 'HouseStyle_1Story'),\n",
       " (0.010711551427965559, 'MasVnrType_Stone'),\n",
       " (-0.010407366039629976, 'LotConfig_FR2'),\n",
       " (0.010261854904173084, 'Heating_GasW'),\n",
       " (-0.010064885843652296, 'HeatingQC_Gd'),\n",
       " (0.0096648347187238, 'BsmtFinType1_GLQ'),\n",
       " (0.00927150842367607, 'Foundation_CBlock'),\n",
       " (0.008618819308995166, 'Exterior1st_MetalSd'),\n",
       " (0.008393473834691403, 'BsmtCond_Gd'),\n",
       " (0.00773508708122568, 'Functional_Min2'),\n",
       " (0.007583416506078905, 'BsmtFinType2_Unf'),\n",
       " (-0.00724038520341449, 'Neighborhood_BrDale'),\n",
       " (0.0072177984804016404, 'MasVnrArea'),\n",
       " (-0.007200352190221433, 'Neighborhood_CollgCr'),\n",
       " (0.007187735333774509, 'Exterior1st_Wd Sdng'),\n",
       " (0.006391011770307923, 'Electrical_SBrkr'),\n",
       " (-0.005631272748506584, 'MoSold'),\n",
       " (-0.0056100724910250884, 'GarageFinish_RFn'),\n",
       " (-0.004929065458166571, 'GarageFinish_Unf'),\n",
       " (-0.004660225102136068, 'SaleType_WD '),\n",
       " (0.004632567198982665, 'BsmtFinType2_GLQ'),\n",
       " (-0.004228428551387048, 'BsmtFinType1_BLQ'),\n",
       " (-0.0038312378957635895, 'Fence_MnPrv'),\n",
       " (-0.0037486770756671372, 'RoofStyle_Gable'),\n",
       " (0.0036747029470428853, 'ExterCond_TA'),\n",
       " (-0.003367378943846366, 'LotShape_Reg'),\n",
       " (-0.0032981491852799257, 'Exterior1st_CemntBd'),\n",
       " (-0.0027007418514052215, 'MasVnrType_None'),\n",
       " (0.0026787182248678046, 'LotFrontage'),\n",
       " (-0.002252107659784403, 'Exterior1st_HdBoard'),\n",
       " (0.0018195674785645064, 'PavedDrive_P'),\n",
       " (0.001528201681136235, 'BsmtFinType2_LwQ'),\n",
       " (-0.0015094976078817047, 'BsmtFinType2_BLQ'),\n",
       " (0.0013689298538593743, 'FireplaceQu_Gd'),\n",
       " (-0.0013644768677825928, 'Neighborhood_NWAmes'),\n",
       " (-0.001279480799475912, 'LotConfig_Inside'),\n",
       " (0.0010270955814490397, 'LandSlope_Sev'),\n",
       " (0.0008012945553319382, 'SaleType_ConLD'),\n",
       " (-0.0007812515406515984, 'BsmtFinType2_Rec'),\n",
       " (0.0, 'BsmtHalfBath'),\n",
       " (-0.0, 'BedroomAbvGr'),\n",
       " (-0.0, 'KitchenAbvGr'),\n",
       " (0.0, 'PoolArea'),\n",
       " (0.0, 'MiscVal'),\n",
       " (0.0, 'MSZoning_FV'),\n",
       " (0.0, 'MSZoning_I (all)'),\n",
       " (0.0, 'MSZoning_RH'),\n",
       " (-0.0, 'Street_Pave'),\n",
       " (0.0, 'Alley_Pave'),\n",
       " (0.0, 'LotShape_IR3'),\n",
       " (-0.0, 'Utilities_NoSewr'),\n",
       " (-0.0, 'LotConfig_FR3'),\n",
       " (0.0, 'Neighborhood_Blueste'),\n",
       " (0.0, 'Neighborhood_BrkSide'),\n",
       " (0.0, 'Neighborhood_Gilbert'),\n",
       " (0.0, 'Neighborhood_Greens'),\n",
       " (0.0, 'Neighborhood_GrnHill'),\n",
       " (-0.0, 'Neighborhood_IDOTRR'),\n",
       " (0.0, 'Neighborhood_Landmrk'),\n",
       " (-0.0, 'Neighborhood_Mitchel'),\n",
       " (-0.0, 'Neighborhood_NPkVill'),\n",
       " (0.0, 'Neighborhood_Sawyer'),\n",
       " (0.0, 'Neighborhood_Veenker'),\n",
       " (-0.0, 'Condition1_Feedr'),\n",
       " (0.0, 'Condition1_PosN'),\n",
       " (-0.0, 'Condition1_RRAe'),\n",
       " (0.0, 'Condition1_RRAn'),\n",
       " (-0.0, 'Condition1_RRNe'),\n",
       " (0.0, 'Condition1_RRNn'),\n",
       " (-0.0, 'Condition2_Feedr'),\n",
       " (0.0, 'Condition2_Norm'),\n",
       " (0.0, 'Condition2_PosA'),\n",
       " (-0.0, 'Condition2_RRAe'),\n",
       " (-0.0, 'Condition2_RRAn'),\n",
       " (0.0, 'Condition2_RRNn'),\n",
       " (0.0, 'BldgType_2fmCon'),\n",
       " (-0.0, 'HouseStyle_1.5Unf'),\n",
       " (0.0, 'HouseStyle_2.5Fin'),\n",
       " (0.0, 'HouseStyle_2.5Unf'),\n",
       " (0.0, 'HouseStyle_SLvl'),\n",
       " (-0.0, 'RoofStyle_Gambrel'),\n",
       " (-0.0, 'RoofStyle_Hip'),\n",
       " (0.0, 'RoofStyle_Mansard'),\n",
       " (0.0, 'RoofStyle_Shed'),\n",
       " (0.0, 'RoofMatl_Membran'),\n",
       " (0.0, 'RoofMatl_Metal'),\n",
       " (0.0, 'RoofMatl_Roll'),\n",
       " (0.0, 'RoofMatl_WdShake'),\n",
       " (0.0, 'RoofMatl_WdShngl'),\n",
       " (0.0, 'Exterior1st_AsphShn'),\n",
       " (0.0, 'Exterior1st_BrkComm'),\n",
       " (-0.0, 'Exterior1st_CBlock'),\n",
       " (0.0, 'Exterior1st_ImStucc'),\n",
       " (-0.0, 'Exterior1st_Plywood'),\n",
       " (0.0, 'Exterior1st_PreCast'),\n",
       " (0.0, 'Exterior1st_Stucco'),\n",
       " (0.0, 'Exterior1st_WdShing'),\n",
       " (0.0, 'MasVnrType_BrkFace'),\n",
       " (-0.0, 'ExterQual_Fa'),\n",
       " (-0.0, 'ExterCond_Gd'),\n",
       " (0.0, 'ExterCond_Po'),\n",
       " (-0.0, 'Foundation_Slab'),\n",
       " (0.0, 'Foundation_Stone'),\n",
       " (-0.0, 'Foundation_Wood'),\n",
       " (-0.0, 'BsmtQual_None'),\n",
       " (0.0, 'BsmtQual_Po'),\n",
       " (-0.0, 'BsmtCond_Fa'),\n",
       " (-0.0, 'BsmtCond_None'),\n",
       " (0.0, 'BsmtCond_Po'),\n",
       " (-0.0, 'BsmtCond_TA'),\n",
       " (-0.0, 'BsmtFinType1_None'),\n",
       " (-0.0, 'BsmtFinType2_None'),\n",
       " (-0.0, 'Heating_Grav'),\n",
       " (-0.0, 'Heating_OthW'),\n",
       " (0.0, 'Heating_Wall'),\n",
       " (-0.0, 'HeatingQC_Po'),\n",
       " (-0.0, 'Electrical_FuseF'),\n",
       " (0.0, 'Electrical_FuseP'),\n",
       " (0.0, 'KitchenQual_Po'),\n",
       " (-0.0, 'Functional_Maj2'),\n",
       " (-0.0, 'Functional_Min1'),\n",
       " (0.0, 'Functional_Mod'),\n",
       " (0.0, 'Functional_Sal'),\n",
       " (-0.0, 'FireplaceQu_Fa'),\n",
       " (-0.0, 'FireplaceQu_Po'),\n",
       " (0.0, 'FireplaceQu_TA'),\n",
       " (-0.0, 'GarageType_BuiltIn'),\n",
       " (-0.0, 'GarageType_CarPort'),\n",
       " (0.0, 'GarageType_Detchd'),\n",
       " (-0.0, 'GarageType_None'),\n",
       " (-0.0, 'GarageFinish_None'),\n",
       " (0.0, 'GarageQual_Gd'),\n",
       " (-0.0, 'GarageQual_None'),\n",
       " (-0.0, 'GarageQual_Po'),\n",
       " (0.0, 'GarageQual_TA'),\n",
       " (-0.0, 'GarageCond_Gd'),\n",
       " (-0.0, 'GarageCond_None'),\n",
       " (0.0, 'GarageCond_Po'),\n",
       " (-0.0, 'PoolQC_Fa'),\n",
       " (0.0, 'PoolQC_Gd'),\n",
       " (-0.0, 'PoolQC_None'),\n",
       " (0.0, 'PoolQC_TA'),\n",
       " (-0.0, 'Fence_GdWo'),\n",
       " (-0.0, 'Fence_MnWw'),\n",
       " (0.0, 'Fence_None'),\n",
       " (0.0, 'MiscFeature_None'),\n",
       " (-0.0, 'MiscFeature_Othr'),\n",
       " (-0.0, 'MiscFeature_Shed'),\n",
       " (-0.0, 'MiscFeature_TenC'),\n",
       " (0.0, 'SaleType_CWD'),\n",
       " (0.0, 'SaleType_Con'),\n",
       " (0.0, 'SaleType_ConLI'),\n",
       " (0.0, 'SaleType_ConLw'),\n",
       " (0.0, 'SaleType_New'),\n",
       " (-0.0, 'SaleType_Oth'),\n",
       " (-0.0, 'SaleType_VWD'),\n",
       " (0.0, 'SaleCondition_AdjLand'),\n",
       " (0.0, 'SaleCondition_Family')]"
      ]
     },
     "execution_count": 9,
     "metadata": {},
     "output_type": "execute_result"
    }
   ],
   "source": [
    "coefs = lasso_gs.best_estimator_.coef_\n",
    "coef_list = list(zip(coefs, x.columns))\n",
    "sorted(coef_list, key = lambda x: abs(x[0]), reverse = True)"
   ]
  },
  {
   "cell_type": "code",
   "execution_count": 12,
   "id": "1b73a42a",
   "metadata": {},
   "outputs": [],
   "source": [
    "x_train_df = pd.DataFrame(X_train, columns = x.columns)"
   ]
  },
  {
   "cell_type": "code",
   "execution_count": 13,
   "id": "4e8d1a50",
   "metadata": {},
   "outputs": [],
   "source": [
    "x_test_df = pd.DataFrame(X_test, columns = x.columns)"
   ]
  },
  {
   "cell_type": "code",
   "execution_count": 15,
   "id": "986577b7",
   "metadata": {},
   "outputs": [],
   "source": [
    "def sub_lists (lst):\n",
    "    lists = [[]]\n",
    "    for i in range(len(lst) + 1):\n",
    "        for j in range(i):\n",
    "            lists.append(lst[j:i])\n",
    "    return lists"
   ]
  },
  {
   "cell_type": "code",
   "execution_count": 30,
   "id": "e0457cd2",
   "metadata": {},
   "outputs": [],
   "source": [
    "col_combinations = sub_lists(list(x_test_df.columns))[1:]"
   ]
  },
  {
   "cell_type": "code",
   "execution_count": 33,
   "id": "c8c308bc",
   "metadata": {},
   "outputs": [
    {
     "ename": "ValueError",
     "evalue": "matmul: Input operand 1 has a mismatch in its core dimension 0, with gufunc signature (n?,k),(k,m?)->(n?,m?) (size 239 is different from 1)",
     "output_type": "error",
     "traceback": [
      "\u001b[0;31m---------------------------------------------------------------------------\u001b[0m",
      "\u001b[0;31mValueError\u001b[0m                                Traceback (most recent call last)",
      "\u001b[0;32m<ipython-input-33-c5b8bb0f3f40>\u001b[0m in \u001b[0;36m<module>\u001b[0;34m\u001b[0m\n\u001b[1;32m      1\u001b[0m \u001b[0mscore_dict\u001b[0m \u001b[0;34m=\u001b[0m \u001b[0;34m{\u001b[0m\u001b[0;34m}\u001b[0m\u001b[0;34m\u001b[0m\u001b[0;34m\u001b[0m\u001b[0m\n\u001b[1;32m      2\u001b[0m \u001b[0;32mfor\u001b[0m \u001b[0mc\u001b[0m \u001b[0;32min\u001b[0m \u001b[0mcol_combinations\u001b[0m\u001b[0;34m:\u001b[0m\u001b[0;34m\u001b[0m\u001b[0;34m\u001b[0m\u001b[0m\n\u001b[0;32m----> 3\u001b[0;31m     \u001b[0mscore\u001b[0m \u001b[0;34m=\u001b[0m \u001b[0mlasso_gs\u001b[0m\u001b[0;34m.\u001b[0m\u001b[0mscore\u001b[0m\u001b[0;34m(\u001b[0m\u001b[0mx_test_df\u001b[0m\u001b[0;34m[\u001b[0m\u001b[0mc\u001b[0m\u001b[0;34m]\u001b[0m\u001b[0;34m,\u001b[0m \u001b[0my_test\u001b[0m\u001b[0;34m)\u001b[0m\u001b[0;34m\u001b[0m\u001b[0;34m\u001b[0m\u001b[0m\n\u001b[0m\u001b[1;32m      4\u001b[0m     \u001b[0mscore_dict\u001b[0m\u001b[0;34m[\u001b[0m\u001b[0mc\u001b[0m\u001b[0;34m]\u001b[0m \u001b[0;34m=\u001b[0m \u001b[0mscore\u001b[0m\u001b[0;34m\u001b[0m\u001b[0;34m\u001b[0m\u001b[0m\n",
      "\u001b[0;32m~/opt/anaconda3/lib/python3.8/site-packages/sklearn/model_selection/_search.py\u001b[0m in \u001b[0;36mscore\u001b[0;34m(self, X, y)\u001b[0m\n\u001b[1;32m    484\u001b[0m \u001b[0;34m\u001b[0m\u001b[0m\n\u001b[1;32m    485\u001b[0m         \u001b[0;31m# callable\u001b[0m\u001b[0;34m\u001b[0m\u001b[0;34m\u001b[0m\u001b[0;34m\u001b[0m\u001b[0m\n\u001b[0;32m--> 486\u001b[0;31m         \u001b[0mscore\u001b[0m \u001b[0;34m=\u001b[0m \u001b[0mself\u001b[0m\u001b[0;34m.\u001b[0m\u001b[0mscorer_\u001b[0m\u001b[0;34m(\u001b[0m\u001b[0mself\u001b[0m\u001b[0;34m.\u001b[0m\u001b[0mbest_estimator_\u001b[0m\u001b[0;34m,\u001b[0m \u001b[0mX\u001b[0m\u001b[0;34m,\u001b[0m \u001b[0my\u001b[0m\u001b[0;34m)\u001b[0m\u001b[0;34m\u001b[0m\u001b[0;34m\u001b[0m\u001b[0m\n\u001b[0m\u001b[1;32m    487\u001b[0m         \u001b[0;32mif\u001b[0m \u001b[0mself\u001b[0m\u001b[0;34m.\u001b[0m\u001b[0mmultimetric_\u001b[0m\u001b[0;34m:\u001b[0m\u001b[0;34m\u001b[0m\u001b[0;34m\u001b[0m\u001b[0m\n\u001b[1;32m    488\u001b[0m             \u001b[0mscore\u001b[0m \u001b[0;34m=\u001b[0m \u001b[0mscore\u001b[0m\u001b[0;34m[\u001b[0m\u001b[0mself\u001b[0m\u001b[0;34m.\u001b[0m\u001b[0mrefit\u001b[0m\u001b[0;34m]\u001b[0m\u001b[0;34m\u001b[0m\u001b[0;34m\u001b[0m\u001b[0m\n",
      "\u001b[0;32m~/opt/anaconda3/lib/python3.8/site-packages/sklearn/metrics/_scorer.py\u001b[0m in \u001b[0;36m_passthrough_scorer\u001b[0;34m(estimator, *args, **kwargs)\u001b[0m\n\u001b[1;32m    395\u001b[0m \u001b[0;32mdef\u001b[0m \u001b[0m_passthrough_scorer\u001b[0m\u001b[0;34m(\u001b[0m\u001b[0mestimator\u001b[0m\u001b[0;34m,\u001b[0m \u001b[0;34m*\u001b[0m\u001b[0margs\u001b[0m\u001b[0;34m,\u001b[0m \u001b[0;34m**\u001b[0m\u001b[0mkwargs\u001b[0m\u001b[0;34m)\u001b[0m\u001b[0;34m:\u001b[0m\u001b[0;34m\u001b[0m\u001b[0;34m\u001b[0m\u001b[0m\n\u001b[1;32m    396\u001b[0m     \u001b[0;34m\"\"\"Function that wraps estimator.score\"\"\"\u001b[0m\u001b[0;34m\u001b[0m\u001b[0;34m\u001b[0m\u001b[0m\n\u001b[0;32m--> 397\u001b[0;31m     \u001b[0;32mreturn\u001b[0m \u001b[0mestimator\u001b[0m\u001b[0;34m.\u001b[0m\u001b[0mscore\u001b[0m\u001b[0;34m(\u001b[0m\u001b[0;34m*\u001b[0m\u001b[0margs\u001b[0m\u001b[0;34m,\u001b[0m \u001b[0;34m**\u001b[0m\u001b[0mkwargs\u001b[0m\u001b[0;34m)\u001b[0m\u001b[0;34m\u001b[0m\u001b[0;34m\u001b[0m\u001b[0m\n\u001b[0m\u001b[1;32m    398\u001b[0m \u001b[0;34m\u001b[0m\u001b[0m\n\u001b[1;32m    399\u001b[0m \u001b[0;34m\u001b[0m\u001b[0m\n",
      "\u001b[0;32m~/opt/anaconda3/lib/python3.8/site-packages/sklearn/base.py\u001b[0m in \u001b[0;36mscore\u001b[0;34m(self, X, y, sample_weight)\u001b[0m\n\u001b[1;32m    551\u001b[0m \u001b[0;34m\u001b[0m\u001b[0m\n\u001b[1;32m    552\u001b[0m         \u001b[0;32mfrom\u001b[0m \u001b[0;34m.\u001b[0m\u001b[0mmetrics\u001b[0m \u001b[0;32mimport\u001b[0m \u001b[0mr2_score\u001b[0m\u001b[0;34m\u001b[0m\u001b[0;34m\u001b[0m\u001b[0m\n\u001b[0;32m--> 553\u001b[0;31m         \u001b[0my_pred\u001b[0m \u001b[0;34m=\u001b[0m \u001b[0mself\u001b[0m\u001b[0;34m.\u001b[0m\u001b[0mpredict\u001b[0m\u001b[0;34m(\u001b[0m\u001b[0mX\u001b[0m\u001b[0;34m)\u001b[0m\u001b[0;34m\u001b[0m\u001b[0;34m\u001b[0m\u001b[0m\n\u001b[0m\u001b[1;32m    554\u001b[0m         \u001b[0;32mreturn\u001b[0m \u001b[0mr2_score\u001b[0m\u001b[0;34m(\u001b[0m\u001b[0my\u001b[0m\u001b[0;34m,\u001b[0m \u001b[0my_pred\u001b[0m\u001b[0;34m,\u001b[0m \u001b[0msample_weight\u001b[0m\u001b[0;34m=\u001b[0m\u001b[0msample_weight\u001b[0m\u001b[0;34m)\u001b[0m\u001b[0;34m\u001b[0m\u001b[0;34m\u001b[0m\u001b[0m\n\u001b[1;32m    555\u001b[0m \u001b[0;34m\u001b[0m\u001b[0m\n",
      "\u001b[0;32m~/opt/anaconda3/lib/python3.8/site-packages/sklearn/linear_model/_base.py\u001b[0m in \u001b[0;36mpredict\u001b[0;34m(self, X)\u001b[0m\n\u001b[1;32m    236\u001b[0m             \u001b[0mReturns\u001b[0m \u001b[0mpredicted\u001b[0m \u001b[0mvalues\u001b[0m\u001b[0;34m.\u001b[0m\u001b[0;34m\u001b[0m\u001b[0;34m\u001b[0m\u001b[0m\n\u001b[1;32m    237\u001b[0m         \"\"\"\n\u001b[0;32m--> 238\u001b[0;31m         \u001b[0;32mreturn\u001b[0m \u001b[0mself\u001b[0m\u001b[0;34m.\u001b[0m\u001b[0m_decision_function\u001b[0m\u001b[0;34m(\u001b[0m\u001b[0mX\u001b[0m\u001b[0;34m)\u001b[0m\u001b[0;34m\u001b[0m\u001b[0;34m\u001b[0m\u001b[0m\n\u001b[0m\u001b[1;32m    239\u001b[0m \u001b[0;34m\u001b[0m\u001b[0m\n\u001b[1;32m    240\u001b[0m     \u001b[0m_preprocess_data\u001b[0m \u001b[0;34m=\u001b[0m \u001b[0mstaticmethod\u001b[0m\u001b[0;34m(\u001b[0m\u001b[0m_preprocess_data\u001b[0m\u001b[0;34m)\u001b[0m\u001b[0;34m\u001b[0m\u001b[0;34m\u001b[0m\u001b[0m\n",
      "\u001b[0;32m~/opt/anaconda3/lib/python3.8/site-packages/sklearn/linear_model/_coordinate_descent.py\u001b[0m in \u001b[0;36m_decision_function\u001b[0;34m(self, X)\u001b[0m\n\u001b[1;32m    896\u001b[0m                                    dense_output=True) + self.intercept_\n\u001b[1;32m    897\u001b[0m         \u001b[0;32melse\u001b[0m\u001b[0;34m:\u001b[0m\u001b[0;34m\u001b[0m\u001b[0;34m\u001b[0m\u001b[0m\n\u001b[0;32m--> 898\u001b[0;31m             \u001b[0;32mreturn\u001b[0m \u001b[0msuper\u001b[0m\u001b[0;34m(\u001b[0m\u001b[0;34m)\u001b[0m\u001b[0;34m.\u001b[0m\u001b[0m_decision_function\u001b[0m\u001b[0;34m(\u001b[0m\u001b[0mX\u001b[0m\u001b[0;34m)\u001b[0m\u001b[0;34m\u001b[0m\u001b[0;34m\u001b[0m\u001b[0m\n\u001b[0m\u001b[1;32m    899\u001b[0m \u001b[0;34m\u001b[0m\u001b[0m\n\u001b[1;32m    900\u001b[0m \u001b[0;34m\u001b[0m\u001b[0m\n",
      "\u001b[0;32m~/opt/anaconda3/lib/python3.8/site-packages/sklearn/linear_model/_base.py\u001b[0m in \u001b[0;36m_decision_function\u001b[0;34m(self, X)\u001b[0m\n\u001b[1;32m    219\u001b[0m \u001b[0;34m\u001b[0m\u001b[0m\n\u001b[1;32m    220\u001b[0m         \u001b[0mX\u001b[0m \u001b[0;34m=\u001b[0m \u001b[0mcheck_array\u001b[0m\u001b[0;34m(\u001b[0m\u001b[0mX\u001b[0m\u001b[0;34m,\u001b[0m \u001b[0maccept_sparse\u001b[0m\u001b[0;34m=\u001b[0m\u001b[0;34m[\u001b[0m\u001b[0;34m'csr'\u001b[0m\u001b[0;34m,\u001b[0m \u001b[0;34m'csc'\u001b[0m\u001b[0;34m,\u001b[0m \u001b[0;34m'coo'\u001b[0m\u001b[0;34m]\u001b[0m\u001b[0;34m)\u001b[0m\u001b[0;34m\u001b[0m\u001b[0;34m\u001b[0m\u001b[0m\n\u001b[0;32m--> 221\u001b[0;31m         return safe_sparse_dot(X, self.coef_.T,\n\u001b[0m\u001b[1;32m    222\u001b[0m                                dense_output=True) + self.intercept_\n\u001b[1;32m    223\u001b[0m \u001b[0;34m\u001b[0m\u001b[0m\n",
      "\u001b[0;32m~/opt/anaconda3/lib/python3.8/site-packages/sklearn/utils/validation.py\u001b[0m in \u001b[0;36minner_f\u001b[0;34m(*args, **kwargs)\u001b[0m\n\u001b[1;32m     61\u001b[0m             \u001b[0mextra_args\u001b[0m \u001b[0;34m=\u001b[0m \u001b[0mlen\u001b[0m\u001b[0;34m(\u001b[0m\u001b[0margs\u001b[0m\u001b[0;34m)\u001b[0m \u001b[0;34m-\u001b[0m \u001b[0mlen\u001b[0m\u001b[0;34m(\u001b[0m\u001b[0mall_args\u001b[0m\u001b[0;34m)\u001b[0m\u001b[0;34m\u001b[0m\u001b[0;34m\u001b[0m\u001b[0m\n\u001b[1;32m     62\u001b[0m             \u001b[0;32mif\u001b[0m \u001b[0mextra_args\u001b[0m \u001b[0;34m<=\u001b[0m \u001b[0;36m0\u001b[0m\u001b[0;34m:\u001b[0m\u001b[0;34m\u001b[0m\u001b[0;34m\u001b[0m\u001b[0m\n\u001b[0;32m---> 63\u001b[0;31m                 \u001b[0;32mreturn\u001b[0m \u001b[0mf\u001b[0m\u001b[0;34m(\u001b[0m\u001b[0;34m*\u001b[0m\u001b[0margs\u001b[0m\u001b[0;34m,\u001b[0m \u001b[0;34m**\u001b[0m\u001b[0mkwargs\u001b[0m\u001b[0;34m)\u001b[0m\u001b[0;34m\u001b[0m\u001b[0;34m\u001b[0m\u001b[0m\n\u001b[0m\u001b[1;32m     64\u001b[0m \u001b[0;34m\u001b[0m\u001b[0m\n\u001b[1;32m     65\u001b[0m             \u001b[0;31m# extra_args > 0\u001b[0m\u001b[0;34m\u001b[0m\u001b[0;34m\u001b[0m\u001b[0;34m\u001b[0m\u001b[0m\n",
      "\u001b[0;32m~/opt/anaconda3/lib/python3.8/site-packages/sklearn/utils/extmath.py\u001b[0m in \u001b[0;36msafe_sparse_dot\u001b[0;34m(a, b, dense_output)\u001b[0m\n\u001b[1;32m    150\u001b[0m             \u001b[0mret\u001b[0m \u001b[0;34m=\u001b[0m \u001b[0mnp\u001b[0m\u001b[0;34m.\u001b[0m\u001b[0mdot\u001b[0m\u001b[0;34m(\u001b[0m\u001b[0ma\u001b[0m\u001b[0;34m,\u001b[0m \u001b[0mb\u001b[0m\u001b[0;34m)\u001b[0m\u001b[0;34m\u001b[0m\u001b[0;34m\u001b[0m\u001b[0m\n\u001b[1;32m    151\u001b[0m     \u001b[0;32melse\u001b[0m\u001b[0;34m:\u001b[0m\u001b[0;34m\u001b[0m\u001b[0;34m\u001b[0m\u001b[0m\n\u001b[0;32m--> 152\u001b[0;31m         \u001b[0mret\u001b[0m \u001b[0;34m=\u001b[0m \u001b[0ma\u001b[0m \u001b[0;34m@\u001b[0m \u001b[0mb\u001b[0m\u001b[0;34m\u001b[0m\u001b[0;34m\u001b[0m\u001b[0m\n\u001b[0m\u001b[1;32m    153\u001b[0m \u001b[0;34m\u001b[0m\u001b[0m\n\u001b[1;32m    154\u001b[0m     if (sparse.issparse(a) and sparse.issparse(b)\n",
      "\u001b[0;31mValueError\u001b[0m: matmul: Input operand 1 has a mismatch in its core dimension 0, with gufunc signature (n?,k),(k,m?)->(n?,m?) (size 239 is different from 1)"
     ]
    }
   ],
   "source": [
    "score_dict = {}\n",
    "for c in col_combinations:\n",
    "    score = lasso_gs.score(x_test_df[c], y_test)\n",
    "    score_dict[c] = score"
   ]
  }
 ],
 "metadata": {
  "kernelspec": {
   "display_name": "Python 3",
   "language": "python",
   "name": "python3"
  },
  "language_info": {
   "codemirror_mode": {
    "name": "ipython",
    "version": 3
   },
   "file_extension": ".py",
   "mimetype": "text/x-python",
   "name": "python",
   "nbconvert_exporter": "python",
   "pygments_lexer": "ipython3",
   "version": "3.8.8"
  }
 },
 "nbformat": 4,
 "nbformat_minor": 5
}

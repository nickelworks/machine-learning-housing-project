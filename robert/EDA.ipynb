{
 "cells": [
  {
   "cell_type": "code",
   "execution_count": 20,
   "id": "1da054d0",
   "metadata": {},
   "outputs": [
    {
     "data": {
      "text/html": [
       "<div>\n",
       "<style scoped>\n",
       "    .dataframe tbody tr th:only-of-type {\n",
       "        vertical-align: middle;\n",
       "    }\n",
       "\n",
       "    .dataframe tbody tr th {\n",
       "        vertical-align: top;\n",
       "    }\n",
       "\n",
       "    .dataframe thead th {\n",
       "        text-align: right;\n",
       "    }\n",
       "</style>\n",
       "<table border=\"1\" class=\"dataframe\">\n",
       "  <thead>\n",
       "    <tr style=\"text-align: right;\">\n",
       "      <th></th>\n",
       "      <th>Unnamed: 0</th>\n",
       "      <th>PID</th>\n",
       "      <th>GrLivArea</th>\n",
       "      <th>SalePrice</th>\n",
       "      <th>MSSubClass</th>\n",
       "      <th>MSZoning</th>\n",
       "      <th>LotFrontage</th>\n",
       "      <th>LotArea</th>\n",
       "      <th>Street</th>\n",
       "      <th>Alley</th>\n",
       "      <th>LotShape</th>\n",
       "      <th>LandContour</th>\n",
       "      <th>Utilities</th>\n",
       "      <th>LotConfig</th>\n",
       "      <th>LandSlope</th>\n",
       "      <th>Neighborhood</th>\n",
       "      <th>Condition1</th>\n",
       "      <th>Condition2</th>\n",
       "      <th>BldgType</th>\n",
       "      <th>HouseStyle</th>\n",
       "      <th>OverallQual</th>\n",
       "      <th>OverallCond</th>\n",
       "      <th>YearBuilt</th>\n",
       "      <th>YearRemodAdd</th>\n",
       "      <th>RoofStyle</th>\n",
       "      <th>RoofMatl</th>\n",
       "      <th>Exterior1st</th>\n",
       "      <th>Exterior2nd</th>\n",
       "      <th>MasVnrType</th>\n",
       "      <th>MasVnrArea</th>\n",
       "      <th>ExterQual</th>\n",
       "      <th>ExterCond</th>\n",
       "      <th>Foundation</th>\n",
       "      <th>BsmtQual</th>\n",
       "      <th>BsmtCond</th>\n",
       "      <th>BsmtExposure</th>\n",
       "      <th>BsmtFinType1</th>\n",
       "      <th>BsmtFinSF1</th>\n",
       "      <th>BsmtFinType2</th>\n",
       "      <th>BsmtFinSF2</th>\n",
       "      <th>BsmtUnfSF</th>\n",
       "      <th>TotalBsmtSF</th>\n",
       "      <th>Heating</th>\n",
       "      <th>HeatingQC</th>\n",
       "      <th>CentralAir</th>\n",
       "      <th>Electrical</th>\n",
       "      <th>1stFlrSF</th>\n",
       "      <th>2ndFlrSF</th>\n",
       "      <th>LowQualFinSF</th>\n",
       "      <th>BsmtFullBath</th>\n",
       "      <th>BsmtHalfBath</th>\n",
       "      <th>FullBath</th>\n",
       "      <th>HalfBath</th>\n",
       "      <th>BedroomAbvGr</th>\n",
       "      <th>KitchenAbvGr</th>\n",
       "      <th>KitchenQual</th>\n",
       "      <th>TotRmsAbvGrd</th>\n",
       "      <th>Functional</th>\n",
       "      <th>Fireplaces</th>\n",
       "      <th>FireplaceQu</th>\n",
       "      <th>GarageType</th>\n",
       "      <th>GarageYrBlt</th>\n",
       "      <th>GarageFinish</th>\n",
       "      <th>GarageCars</th>\n",
       "      <th>GarageArea</th>\n",
       "      <th>GarageQual</th>\n",
       "      <th>GarageCond</th>\n",
       "      <th>PavedDrive</th>\n",
       "      <th>WoodDeckSF</th>\n",
       "      <th>OpenPorchSF</th>\n",
       "      <th>EnclosedPorch</th>\n",
       "      <th>3SsnPorch</th>\n",
       "      <th>ScreenPorch</th>\n",
       "      <th>PoolArea</th>\n",
       "      <th>PoolQC</th>\n",
       "      <th>Fence</th>\n",
       "      <th>MiscFeature</th>\n",
       "      <th>MiscVal</th>\n",
       "      <th>MoSold</th>\n",
       "      <th>YrSold</th>\n",
       "      <th>SaleType</th>\n",
       "      <th>SaleCondition</th>\n",
       "      <th>lot_bucket</th>\n",
       "      <th>mean_LotFrontage</th>\n",
       "    </tr>\n",
       "  </thead>\n",
       "  <tbody>\n",
       "    <tr>\n",
       "      <th>0</th>\n",
       "      <td>1</td>\n",
       "      <td>909176150</td>\n",
       "      <td>856</td>\n",
       "      <td>126000</td>\n",
       "      <td>30</td>\n",
       "      <td>RL</td>\n",
       "      <td>64.9</td>\n",
       "      <td>7890</td>\n",
       "      <td>Pave</td>\n",
       "      <td>None</td>\n",
       "      <td>Reg</td>\n",
       "      <td>Lvl</td>\n",
       "      <td>AllPub</td>\n",
       "      <td>Corner</td>\n",
       "      <td>Gtl</td>\n",
       "      <td>SWISU</td>\n",
       "      <td>Norm</td>\n",
       "      <td>Norm</td>\n",
       "      <td>1Fam</td>\n",
       "      <td>1Story</td>\n",
       "      <td>6</td>\n",
       "      <td>6</td>\n",
       "      <td>1939</td>\n",
       "      <td>1950</td>\n",
       "      <td>Gable</td>\n",
       "      <td>CompShg</td>\n",
       "      <td>Wd Sdng</td>\n",
       "      <td>Wd Sdng</td>\n",
       "      <td>None</td>\n",
       "      <td>0.0</td>\n",
       "      <td>TA</td>\n",
       "      <td>TA</td>\n",
       "      <td>CBlock</td>\n",
       "      <td>TA</td>\n",
       "      <td>TA</td>\n",
       "      <td>No</td>\n",
       "      <td>Rec</td>\n",
       "      <td>238.0</td>\n",
       "      <td>Unf</td>\n",
       "      <td>0.0</td>\n",
       "      <td>618.0</td>\n",
       "      <td>856.0</td>\n",
       "      <td>GasA</td>\n",
       "      <td>TA</td>\n",
       "      <td>Y</td>\n",
       "      <td>SBrkr</td>\n",
       "      <td>856</td>\n",
       "      <td>0</td>\n",
       "      <td>0</td>\n",
       "      <td>1.0</td>\n",
       "      <td>0.0</td>\n",
       "      <td>1</td>\n",
       "      <td>0</td>\n",
       "      <td>2</td>\n",
       "      <td>1</td>\n",
       "      <td>TA</td>\n",
       "      <td>4</td>\n",
       "      <td>Typ</td>\n",
       "      <td>1</td>\n",
       "      <td>Gd</td>\n",
       "      <td>Detchd</td>\n",
       "      <td>1939.0</td>\n",
       "      <td>Unf</td>\n",
       "      <td>2.0</td>\n",
       "      <td>399.0</td>\n",
       "      <td>TA</td>\n",
       "      <td>TA</td>\n",
       "      <td>Y</td>\n",
       "      <td>0</td>\n",
       "      <td>0</td>\n",
       "      <td>0</td>\n",
       "      <td>0</td>\n",
       "      <td>166</td>\n",
       "      <td>0</td>\n",
       "      <td>None</td>\n",
       "      <td>None</td>\n",
       "      <td>None</td>\n",
       "      <td>0</td>\n",
       "      <td>3</td>\n",
       "      <td>2010</td>\n",
       "      <td>WD</td>\n",
       "      <td>Normal</td>\n",
       "      <td>(7298.458, 8298.201]</td>\n",
       "      <td>64.939130</td>\n",
       "    </tr>\n",
       "    <tr>\n",
       "      <th>1</th>\n",
       "      <td>2</td>\n",
       "      <td>905476230</td>\n",
       "      <td>1049</td>\n",
       "      <td>139500</td>\n",
       "      <td>120</td>\n",
       "      <td>RL</td>\n",
       "      <td>42.0</td>\n",
       "      <td>4235</td>\n",
       "      <td>Pave</td>\n",
       "      <td>None</td>\n",
       "      <td>Reg</td>\n",
       "      <td>Lvl</td>\n",
       "      <td>AllPub</td>\n",
       "      <td>Inside</td>\n",
       "      <td>Gtl</td>\n",
       "      <td>Edwards</td>\n",
       "      <td>Norm</td>\n",
       "      <td>Norm</td>\n",
       "      <td>TwnhsE</td>\n",
       "      <td>1Story</td>\n",
       "      <td>5</td>\n",
       "      <td>5</td>\n",
       "      <td>1984</td>\n",
       "      <td>1984</td>\n",
       "      <td>Gable</td>\n",
       "      <td>CompShg</td>\n",
       "      <td>HdBoard</td>\n",
       "      <td>HdBoard</td>\n",
       "      <td>BrkFace</td>\n",
       "      <td>149.0</td>\n",
       "      <td>Gd</td>\n",
       "      <td>TA</td>\n",
       "      <td>CBlock</td>\n",
       "      <td>Gd</td>\n",
       "      <td>TA</td>\n",
       "      <td>Mn</td>\n",
       "      <td>GLQ</td>\n",
       "      <td>552.0</td>\n",
       "      <td>ALQ</td>\n",
       "      <td>393.0</td>\n",
       "      <td>104.0</td>\n",
       "      <td>1049.0</td>\n",
       "      <td>GasA</td>\n",
       "      <td>TA</td>\n",
       "      <td>Y</td>\n",
       "      <td>SBrkr</td>\n",
       "      <td>1049</td>\n",
       "      <td>0</td>\n",
       "      <td>0</td>\n",
       "      <td>1.0</td>\n",
       "      <td>0.0</td>\n",
       "      <td>2</td>\n",
       "      <td>0</td>\n",
       "      <td>2</td>\n",
       "      <td>1</td>\n",
       "      <td>Gd</td>\n",
       "      <td>5</td>\n",
       "      <td>Typ</td>\n",
       "      <td>0</td>\n",
       "      <td>None</td>\n",
       "      <td>Attchd</td>\n",
       "      <td>1984.0</td>\n",
       "      <td>Fin</td>\n",
       "      <td>1.0</td>\n",
       "      <td>266.0</td>\n",
       "      <td>TA</td>\n",
       "      <td>TA</td>\n",
       "      <td>Y</td>\n",
       "      <td>0</td>\n",
       "      <td>105</td>\n",
       "      <td>0</td>\n",
       "      <td>0</td>\n",
       "      <td>0</td>\n",
       "      <td>0</td>\n",
       "      <td>None</td>\n",
       "      <td>None</td>\n",
       "      <td>None</td>\n",
       "      <td>0</td>\n",
       "      <td>2</td>\n",
       "      <td>2009</td>\n",
       "      <td>WD</td>\n",
       "      <td>Normal</td>\n",
       "      <td>(3299.486, 4299.229]</td>\n",
       "      <td>46.154930</td>\n",
       "    </tr>\n",
       "    <tr>\n",
       "      <th>2</th>\n",
       "      <td>3</td>\n",
       "      <td>911128020</td>\n",
       "      <td>1001</td>\n",
       "      <td>124900</td>\n",
       "      <td>30</td>\n",
       "      <td>C (all)</td>\n",
       "      <td>60.0</td>\n",
       "      <td>6060</td>\n",
       "      <td>Pave</td>\n",
       "      <td>None</td>\n",
       "      <td>Reg</td>\n",
       "      <td>Lvl</td>\n",
       "      <td>AllPub</td>\n",
       "      <td>Inside</td>\n",
       "      <td>Gtl</td>\n",
       "      <td>IDOTRR</td>\n",
       "      <td>Norm</td>\n",
       "      <td>Norm</td>\n",
       "      <td>1Fam</td>\n",
       "      <td>1Story</td>\n",
       "      <td>5</td>\n",
       "      <td>9</td>\n",
       "      <td>1930</td>\n",
       "      <td>2007</td>\n",
       "      <td>Hip</td>\n",
       "      <td>CompShg</td>\n",
       "      <td>MetalSd</td>\n",
       "      <td>MetalSd</td>\n",
       "      <td>None</td>\n",
       "      <td>0.0</td>\n",
       "      <td>Gd</td>\n",
       "      <td>TA</td>\n",
       "      <td>BrkTil</td>\n",
       "      <td>TA</td>\n",
       "      <td>TA</td>\n",
       "      <td>No</td>\n",
       "      <td>ALQ</td>\n",
       "      <td>737.0</td>\n",
       "      <td>Unf</td>\n",
       "      <td>0.0</td>\n",
       "      <td>100.0</td>\n",
       "      <td>837.0</td>\n",
       "      <td>GasA</td>\n",
       "      <td>Ex</td>\n",
       "      <td>Y</td>\n",
       "      <td>SBrkr</td>\n",
       "      <td>1001</td>\n",
       "      <td>0</td>\n",
       "      <td>0</td>\n",
       "      <td>0.0</td>\n",
       "      <td>0.0</td>\n",
       "      <td>1</td>\n",
       "      <td>0</td>\n",
       "      <td>2</td>\n",
       "      <td>1</td>\n",
       "      <td>Gd</td>\n",
       "      <td>5</td>\n",
       "      <td>Typ</td>\n",
       "      <td>0</td>\n",
       "      <td>None</td>\n",
       "      <td>Detchd</td>\n",
       "      <td>1930.0</td>\n",
       "      <td>Unf</td>\n",
       "      <td>1.0</td>\n",
       "      <td>216.0</td>\n",
       "      <td>TA</td>\n",
       "      <td>Po</td>\n",
       "      <td>N</td>\n",
       "      <td>154</td>\n",
       "      <td>0</td>\n",
       "      <td>42</td>\n",
       "      <td>86</td>\n",
       "      <td>0</td>\n",
       "      <td>0</td>\n",
       "      <td>None</td>\n",
       "      <td>None</td>\n",
       "      <td>None</td>\n",
       "      <td>0</td>\n",
       "      <td>11</td>\n",
       "      <td>2007</td>\n",
       "      <td>WD</td>\n",
       "      <td>Normal</td>\n",
       "      <td>(5298.972, 6298.715]</td>\n",
       "      <td>54.060150</td>\n",
       "    </tr>\n",
       "    <tr>\n",
       "      <th>3</th>\n",
       "      <td>4</td>\n",
       "      <td>535377150</td>\n",
       "      <td>1039</td>\n",
       "      <td>114000</td>\n",
       "      <td>70</td>\n",
       "      <td>RL</td>\n",
       "      <td>80.0</td>\n",
       "      <td>8146</td>\n",
       "      <td>Pave</td>\n",
       "      <td>None</td>\n",
       "      <td>Reg</td>\n",
       "      <td>Lvl</td>\n",
       "      <td>AllPub</td>\n",
       "      <td>Corner</td>\n",
       "      <td>Gtl</td>\n",
       "      <td>OldTown</td>\n",
       "      <td>Norm</td>\n",
       "      <td>Norm</td>\n",
       "      <td>1Fam</td>\n",
       "      <td>2Story</td>\n",
       "      <td>4</td>\n",
       "      <td>8</td>\n",
       "      <td>1900</td>\n",
       "      <td>2003</td>\n",
       "      <td>Gable</td>\n",
       "      <td>CompShg</td>\n",
       "      <td>MetalSd</td>\n",
       "      <td>MetalSd</td>\n",
       "      <td>None</td>\n",
       "      <td>0.0</td>\n",
       "      <td>Gd</td>\n",
       "      <td>Gd</td>\n",
       "      <td>BrkTil</td>\n",
       "      <td>Fa</td>\n",
       "      <td>TA</td>\n",
       "      <td>No</td>\n",
       "      <td>Unf</td>\n",
       "      <td>0.0</td>\n",
       "      <td>Unf</td>\n",
       "      <td>0.0</td>\n",
       "      <td>405.0</td>\n",
       "      <td>405.0</td>\n",
       "      <td>GasA</td>\n",
       "      <td>Gd</td>\n",
       "      <td>Y</td>\n",
       "      <td>SBrkr</td>\n",
       "      <td>717</td>\n",
       "      <td>322</td>\n",
       "      <td>0</td>\n",
       "      <td>0.0</td>\n",
       "      <td>0.0</td>\n",
       "      <td>1</td>\n",
       "      <td>0</td>\n",
       "      <td>2</td>\n",
       "      <td>1</td>\n",
       "      <td>TA</td>\n",
       "      <td>6</td>\n",
       "      <td>Typ</td>\n",
       "      <td>0</td>\n",
       "      <td>None</td>\n",
       "      <td>Detchd</td>\n",
       "      <td>1940.0</td>\n",
       "      <td>Unf</td>\n",
       "      <td>1.0</td>\n",
       "      <td>281.0</td>\n",
       "      <td>TA</td>\n",
       "      <td>TA</td>\n",
       "      <td>N</td>\n",
       "      <td>0</td>\n",
       "      <td>0</td>\n",
       "      <td>168</td>\n",
       "      <td>0</td>\n",
       "      <td>111</td>\n",
       "      <td>0</td>\n",
       "      <td>None</td>\n",
       "      <td>None</td>\n",
       "      <td>None</td>\n",
       "      <td>0</td>\n",
       "      <td>5</td>\n",
       "      <td>2009</td>\n",
       "      <td>WD</td>\n",
       "      <td>Normal</td>\n",
       "      <td>(7298.458, 8298.201]</td>\n",
       "      <td>64.939130</td>\n",
       "    </tr>\n",
       "    <tr>\n",
       "      <th>4</th>\n",
       "      <td>5</td>\n",
       "      <td>534177230</td>\n",
       "      <td>1665</td>\n",
       "      <td>227000</td>\n",
       "      <td>60</td>\n",
       "      <td>RL</td>\n",
       "      <td>70.0</td>\n",
       "      <td>8400</td>\n",
       "      <td>Pave</td>\n",
       "      <td>None</td>\n",
       "      <td>Reg</td>\n",
       "      <td>Lvl</td>\n",
       "      <td>AllPub</td>\n",
       "      <td>Inside</td>\n",
       "      <td>Gtl</td>\n",
       "      <td>NWAmes</td>\n",
       "      <td>Norm</td>\n",
       "      <td>Norm</td>\n",
       "      <td>1Fam</td>\n",
       "      <td>2Story</td>\n",
       "      <td>8</td>\n",
       "      <td>6</td>\n",
       "      <td>2001</td>\n",
       "      <td>2001</td>\n",
       "      <td>Gable</td>\n",
       "      <td>CompShg</td>\n",
       "      <td>VinylSd</td>\n",
       "      <td>VinylSd</td>\n",
       "      <td>None</td>\n",
       "      <td>0.0</td>\n",
       "      <td>Gd</td>\n",
       "      <td>TA</td>\n",
       "      <td>PConc</td>\n",
       "      <td>Gd</td>\n",
       "      <td>TA</td>\n",
       "      <td>No</td>\n",
       "      <td>GLQ</td>\n",
       "      <td>643.0</td>\n",
       "      <td>Unf</td>\n",
       "      <td>0.0</td>\n",
       "      <td>167.0</td>\n",
       "      <td>810.0</td>\n",
       "      <td>GasA</td>\n",
       "      <td>Ex</td>\n",
       "      <td>Y</td>\n",
       "      <td>SBrkr</td>\n",
       "      <td>810</td>\n",
       "      <td>855</td>\n",
       "      <td>0</td>\n",
       "      <td>1.0</td>\n",
       "      <td>0.0</td>\n",
       "      <td>2</td>\n",
       "      <td>1</td>\n",
       "      <td>3</td>\n",
       "      <td>1</td>\n",
       "      <td>Gd</td>\n",
       "      <td>6</td>\n",
       "      <td>Typ</td>\n",
       "      <td>0</td>\n",
       "      <td>None</td>\n",
       "      <td>Attchd</td>\n",
       "      <td>2001.0</td>\n",
       "      <td>Fin</td>\n",
       "      <td>2.0</td>\n",
       "      <td>528.0</td>\n",
       "      <td>TA</td>\n",
       "      <td>TA</td>\n",
       "      <td>Y</td>\n",
       "      <td>0</td>\n",
       "      <td>45</td>\n",
       "      <td>0</td>\n",
       "      <td>0</td>\n",
       "      <td>0</td>\n",
       "      <td>0</td>\n",
       "      <td>None</td>\n",
       "      <td>None</td>\n",
       "      <td>None</td>\n",
       "      <td>0</td>\n",
       "      <td>11</td>\n",
       "      <td>2009</td>\n",
       "      <td>WD</td>\n",
       "      <td>Normal</td>\n",
       "      <td>(8298.201, 9297.944]</td>\n",
       "      <td>68.724832</td>\n",
       "    </tr>\n",
       "  </tbody>\n",
       "</table>\n",
       "</div>"
      ],
      "text/plain": [
       "   Unnamed: 0        PID  GrLivArea  SalePrice  MSSubClass MSZoning  \\\n",
       "0           1  909176150        856     126000          30       RL   \n",
       "1           2  905476230       1049     139500         120       RL   \n",
       "2           3  911128020       1001     124900          30  C (all)   \n",
       "3           4  535377150       1039     114000          70       RL   \n",
       "4           5  534177230       1665     227000          60       RL   \n",
       "\n",
       "   LotFrontage  LotArea Street Alley LotShape LandContour Utilities LotConfig  \\\n",
       "0         64.9     7890   Pave  None      Reg         Lvl    AllPub    Corner   \n",
       "1         42.0     4235   Pave  None      Reg         Lvl    AllPub    Inside   \n",
       "2         60.0     6060   Pave  None      Reg         Lvl    AllPub    Inside   \n",
       "3         80.0     8146   Pave  None      Reg         Lvl    AllPub    Corner   \n",
       "4         70.0     8400   Pave  None      Reg         Lvl    AllPub    Inside   \n",
       "\n",
       "  LandSlope Neighborhood Condition1 Condition2 BldgType HouseStyle  \\\n",
       "0       Gtl        SWISU       Norm       Norm     1Fam     1Story   \n",
       "1       Gtl      Edwards       Norm       Norm   TwnhsE     1Story   \n",
       "2       Gtl       IDOTRR       Norm       Norm     1Fam     1Story   \n",
       "3       Gtl      OldTown       Norm       Norm     1Fam     2Story   \n",
       "4       Gtl       NWAmes       Norm       Norm     1Fam     2Story   \n",
       "\n",
       "   OverallQual  OverallCond  YearBuilt  YearRemodAdd RoofStyle RoofMatl  \\\n",
       "0            6            6       1939          1950     Gable  CompShg   \n",
       "1            5            5       1984          1984     Gable  CompShg   \n",
       "2            5            9       1930          2007       Hip  CompShg   \n",
       "3            4            8       1900          2003     Gable  CompShg   \n",
       "4            8            6       2001          2001     Gable  CompShg   \n",
       "\n",
       "  Exterior1st Exterior2nd MasVnrType  MasVnrArea ExterQual ExterCond  \\\n",
       "0     Wd Sdng     Wd Sdng       None         0.0        TA        TA   \n",
       "1     HdBoard     HdBoard    BrkFace       149.0        Gd        TA   \n",
       "2     MetalSd     MetalSd       None         0.0        Gd        TA   \n",
       "3     MetalSd     MetalSd       None         0.0        Gd        Gd   \n",
       "4     VinylSd     VinylSd       None         0.0        Gd        TA   \n",
       "\n",
       "  Foundation BsmtQual BsmtCond BsmtExposure BsmtFinType1  BsmtFinSF1  \\\n",
       "0     CBlock       TA       TA           No          Rec       238.0   \n",
       "1     CBlock       Gd       TA           Mn          GLQ       552.0   \n",
       "2     BrkTil       TA       TA           No          ALQ       737.0   \n",
       "3     BrkTil       Fa       TA           No          Unf         0.0   \n",
       "4      PConc       Gd       TA           No          GLQ       643.0   \n",
       "\n",
       "  BsmtFinType2  BsmtFinSF2  BsmtUnfSF  TotalBsmtSF Heating HeatingQC  \\\n",
       "0          Unf         0.0      618.0        856.0    GasA        TA   \n",
       "1          ALQ       393.0      104.0       1049.0    GasA        TA   \n",
       "2          Unf         0.0      100.0        837.0    GasA        Ex   \n",
       "3          Unf         0.0      405.0        405.0    GasA        Gd   \n",
       "4          Unf         0.0      167.0        810.0    GasA        Ex   \n",
       "\n",
       "  CentralAir Electrical  1stFlrSF  2ndFlrSF  LowQualFinSF  BsmtFullBath  \\\n",
       "0          Y      SBrkr       856         0             0           1.0   \n",
       "1          Y      SBrkr      1049         0             0           1.0   \n",
       "2          Y      SBrkr      1001         0             0           0.0   \n",
       "3          Y      SBrkr       717       322             0           0.0   \n",
       "4          Y      SBrkr       810       855             0           1.0   \n",
       "\n",
       "   BsmtHalfBath  FullBath  HalfBath  BedroomAbvGr  KitchenAbvGr KitchenQual  \\\n",
       "0           0.0         1         0             2             1          TA   \n",
       "1           0.0         2         0             2             1          Gd   \n",
       "2           0.0         1         0             2             1          Gd   \n",
       "3           0.0         1         0             2             1          TA   \n",
       "4           0.0         2         1             3             1          Gd   \n",
       "\n",
       "   TotRmsAbvGrd Functional  Fireplaces FireplaceQu GarageType GarageYrBlt  \\\n",
       "0             4        Typ           1          Gd     Detchd      1939.0   \n",
       "1             5        Typ           0        None     Attchd      1984.0   \n",
       "2             5        Typ           0        None     Detchd      1930.0   \n",
       "3             6        Typ           0        None     Detchd      1940.0   \n",
       "4             6        Typ           0        None     Attchd      2001.0   \n",
       "\n",
       "  GarageFinish  GarageCars  GarageArea GarageQual GarageCond PavedDrive  \\\n",
       "0          Unf         2.0       399.0         TA         TA          Y   \n",
       "1          Fin         1.0       266.0         TA         TA          Y   \n",
       "2          Unf         1.0       216.0         TA         Po          N   \n",
       "3          Unf         1.0       281.0         TA         TA          N   \n",
       "4          Fin         2.0       528.0         TA         TA          Y   \n",
       "\n",
       "   WoodDeckSF  OpenPorchSF  EnclosedPorch  3SsnPorch  ScreenPorch  PoolArea  \\\n",
       "0           0            0              0          0          166         0   \n",
       "1           0          105              0          0            0         0   \n",
       "2         154            0             42         86            0         0   \n",
       "3           0            0            168          0          111         0   \n",
       "4           0           45              0          0            0         0   \n",
       "\n",
       "  PoolQC Fence MiscFeature  MiscVal  MoSold  YrSold SaleType SaleCondition  \\\n",
       "0   None  None        None        0       3    2010      WD         Normal   \n",
       "1   None  None        None        0       2    2009      WD         Normal   \n",
       "2   None  None        None        0      11    2007      WD         Normal   \n",
       "3   None  None        None        0       5    2009      WD         Normal   \n",
       "4   None  None        None        0      11    2009      WD         Normal   \n",
       "\n",
       "             lot_bucket  mean_LotFrontage  \n",
       "0  (7298.458, 8298.201]         64.939130  \n",
       "1  (3299.486, 4299.229]         46.154930  \n",
       "2  (5298.972, 6298.715]         54.060150  \n",
       "3  (7298.458, 8298.201]         64.939130  \n",
       "4  (8298.201, 9297.944]         68.724832  "
      ]
     },
     "execution_count": 20,
     "metadata": {},
     "output_type": "execute_result"
    }
   ],
   "source": [
    "import pandas as pd\n",
    "import numpy as np\n",
    "import seaborn as sns\n",
    "from matplotlib import pyplot as plt\n",
    "\n",
    "df = pd.read_csv('../communal/Ames_Housing_Price_Data_cleaned.csv', header = [0])\n",
    "\n",
    "pd.set_option(\"display.max_columns\", None)\n",
    "\n",
    "df.head(5)"
   ]
  },
  {
   "cell_type": "code",
   "execution_count": 2,
   "id": "991924f6",
   "metadata": {},
   "outputs": [],
   "source": [
    "numerical_columns = ['GrLivArea', 'LotFrontage', 'LotArea', 'YearBuilt', 'YearRemodAdd', \n",
    "                    'MasVnrArea', 'BsmtFinSF1', 'BsmtFinSF2', 'BsmtUnfSF', 'TotalBsmtSF', '1stFlrSF',\n",
    "                    '2ndFlrSF', 'GarageYrBlt', 'GarageArea', 'WoodDeckSF', 'OpenPorchSF', 'EnclosedPorch',\n",
    "                    '3SsnPorch', 'ScreenPorch', 'PoolArea']\n",
    "\n",
    "categorical_columns = ['MSSubClass', 'MSZoning', 'Street', 'Alley', 'LotShape', 'LandContour', 'Utilities',\n",
    "                      'LotConfig', 'LandSlope', 'Neighborhood', 'Condition1', 'Condition2','BldgType',\n",
    "                      'HouseStyle', 'OverallQual', 'OverallCond', 'RoofStyle', 'RoofMatl', 'Exterior1st',\n",
    "                      'Exterior2nd', 'MasVnrType', 'ExterQual', 'ExterCond', 'Foundation', 'BsmtQual',\n",
    "                      'BsmtCond', 'BsmtExposure', 'BsmtFinType1', 'BsmtFinType2', 'Heating', 'HeatingQC',\n",
    "                      'CentralAir', 'Electrical', 'BsmtFullBath', 'BsmtHalfBath', 'FullBath', 'HalfBath',\n",
    "                      'BedroomAbvGr', 'KitchenAbvGr', 'KitchenQual', 'TotRmsAbvGrd', 'Functional', 'Fireplaces',\n",
    "                      'FireplaceQu', 'GarageType', 'GarageFinish', 'GarageCars', 'GarageQual', 'GarageCond',\n",
    "                      'PavedDrive', 'PoolQC', 'Fence', 'MiscFeature', 'MiscVal', 'MoSold', 'YrSold', 'SaleType',\n",
    "                      'SaleCondition']"
   ]
  },
  {
   "cell_type": "code",
   "execution_count": 10,
   "id": "5fab525f",
   "metadata": {},
   "outputs": [
    {
     "data": {
      "text/plain": [
       "<Figure size 432x288 with 0 Axes>"
      ]
     },
     "metadata": {},
     "output_type": "display_data"
    }
   ],
   "source": [
    "for el in numerical_columns:\n",
    "    x_y = sns.scatterplot(data = df, x = el, y = 'SalePrice')\n",
    "    x_y.set_ylabel('SalePrice')\n",
    "    plt.savefig('numerical/x_y/{x_axis}.png'.format(x_axis = el), dpi = 300)\n",
    "    plt.clf()\n",
    "    \n",
    "    x_logy = sns.scatterplot(data = df, x = el, y = 'SalePrice')\n",
    "    x_logy.set_yscale('log')\n",
    "    x_logy.set_ylabel('log(SalePrice)')\n",
    "    plt.savefig('numerical/x_logy/{x_axis}.png'.format(x_axis = el), dpi = 300)\n",
    "    plt.clf()\n",
    "    \n",
    "    logx_logy = sns.scatterplot(data = df, x = el, y = 'SalePrice')\n",
    "    logx_logy.set_xscale('log')\n",
    "    logx_logy.set_yscale('log')\n",
    "    plt.savefig('numerical/logx_logy/{x_axis}.png'.format(x_axis = el), dpi = 300)\n",
    "    plt.clf()"
   ]
  },
  {
   "cell_type": "code",
   "execution_count": 6,
   "id": "19d32a59",
   "metadata": {},
   "outputs": [
    {
     "data": {
      "text/plain": [
       "<Figure size 432x288 with 0 Axes>"
      ]
     },
     "metadata": {},
     "output_type": "display_data"
    }
   ],
   "source": [
    "for el in categorical_columns:\n",
    "    x_y = sns.boxplot(data = df, x = el, y = 'SalePrice')\n",
    "    plt.savefig('categorical/x_y/{x_axis}.png'.format(x_axis = el), dpi = 300)\n",
    "    plt.clf()\n",
    "    \n",
    "    x_logy = sns.boxplot(data = df, x = el, y = 'SalePrice')\n",
    "    x_logy.set_yscale('log')\n",
    "    plt.savefig('categorical/x_logy/{x_axis}.png'.format(x_axis = el), dpi = 300)\n",
    "    plt.clf()"
   ]
  },
  {
   "cell_type": "code",
   "execution_count": 7,
   "id": "e64d7cd2",
   "metadata": {},
   "outputs": [
    {
     "data": {
      "text/plain": [
       "<Figure size 432x288 with 0 Axes>"
      ]
     },
     "metadata": {},
     "output_type": "display_data"
    }
   ],
   "source": [
    "for col in df.columns:\n",
    "    sns.histplot(data = df, x = col)\n",
    "    plt.savefig('histograms/{feature}.png'.format(feature = col), dpi = 300)\n",
    "    plt.clf()"
   ]
  },
  {
   "cell_type": "code",
   "execution_count": 6,
   "id": "0e235a80",
   "metadata": {},
   "outputs": [
    {
     "data": {
      "text/plain": [
       "<AxesSubplot:xlabel='YearBuilt', ylabel='Count'>"
      ]
     },
     "execution_count": 6,
     "metadata": {},
     "output_type": "execute_result"
    },
    {
     "data": {
      "image/png": "[encoded data removed]",
      "text/plain": [
       "<Figure size 432x288 with 1 Axes>"
      ]
     },
     "metadata": {
      "needs_background": "light"
     },
     "output_type": "display_data"
    }
   ],
   "source": [
    "sns.histplot(data = df, x = 'YearBuilt', binwidth = 1)"
   ]
  },
  {
   "cell_type": "code",
   "execution_count": 8,
   "id": "c41b0b12",
   "metadata": {},
   "outputs": [
    {
     "name": "stderr",
     "output_type": "stream",
     "text": [
      "<ipython-input-8-ddf4278f7151>:3: RuntimeWarning: More than 20 figures have been opened. Figures created through the pyplot interface (`matplotlib.pyplot.figure`) are retained until explicitly closed and may consume too much memory. (To control this warning, see the rcParam `figure.max_open_warning`).\n",
      "  fig, axes = plt.subplots(2, 1, figsize = (18, 14))\n"
     ]
    },
    {
     "data": {
      "text/plain": [
       "<Figure size 1296x1008 with 0 Axes>"
      ]
     },
     "metadata": {},
     "output_type": "display_data"
    },
    {
     "data": {
      "text/plain": [
       "<Figure size 1296x1008 with 0 Axes>"
      ]
     },
     "metadata": {},
     "output_type": "display_data"
    },
    {
     "data": {
      "text/plain": [
       "<Figure size 1296x1008 with 0 Axes>"
      ]
     },
     "metadata": {},
     "output_type": "display_data"
    },
    {
     "data": {
      "text/plain": [
       "<Figure size 1296x1008 with 0 Axes>"
      ]
     },
     "metadata": {},
     "output_type": "display_data"
    },
    {
     "data": {
      "text/plain": [
       "<Figure size 1296x1008 with 0 Axes>"
      ]
     },
     "metadata": {},
     "output_type": "display_data"
    },
    {
     "data": {
      "text/plain": [
       "<Figure size 1296x1008 with 0 Axes>"
      ]
     },
     "metadata": {},
     "output_type": "display_data"
    },
    {
     "data": {
      "text/plain": [
       "<Figure size 1296x1008 with 0 Axes>"
      ]
     },
     "metadata": {},
     "output_type": "display_data"
    },
    {
     "data": {
      "text/plain": [
       "<Figure size 1296x1008 with 0 Axes>"
      ]
     },
     "metadata": {},
     "output_type": "display_data"
    },
    {
     "data": {
      "text/plain": [
       "<Figure size 1296x1008 with 0 Axes>"
      ]
     },
     "metadata": {},
     "output_type": "display_data"
    },
    {
     "data": {
      "text/plain": [
       "<Figure size 1296x1008 with 0 Axes>"
      ]
     },
     "metadata": {},
     "output_type": "display_data"
    },
    {
     "data": {
      "text/plain": [
       "<Figure size 1296x1008 with 0 Axes>"
      ]
     },
     "metadata": {},
     "output_type": "display_data"
    },
    {
     "data": {
      "text/plain": [
       "<Figure size 1296x1008 with 0 Axes>"
      ]
     },
     "metadata": {},
     "output_type": "display_data"
    },
    {
     "data": {
      "text/plain": [
       "<Figure size 1296x1008 with 0 Axes>"
      ]
     },
     "metadata": {},
     "output_type": "display_data"
    },
    {
     "data": {
      "text/plain": [
       "<Figure size 1296x1008 with 0 Axes>"
      ]
     },
     "metadata": {},
     "output_type": "display_data"
    },
    {
     "data": {
      "text/plain": [
       "<Figure size 1296x1008 with 0 Axes>"
      ]
     },
     "metadata": {},
     "output_type": "display_data"
    },
    {
     "data": {
      "text/plain": [
       "<Figure size 1296x1008 with 0 Axes>"
      ]
     },
     "metadata": {},
     "output_type": "display_data"
    },
    {
     "data": {
      "text/plain": [
       "<Figure size 1296x1008 with 0 Axes>"
      ]
     },
     "metadata": {},
     "output_type": "display_data"
    },
    {
     "data": {
      "text/plain": [
       "<Figure size 1296x1008 with 0 Axes>"
      ]
     },
     "metadata": {},
     "output_type": "display_data"
    },
    {
     "data": {
      "text/plain": [
       "<Figure size 1296x1008 with 0 Axes>"
      ]
     },
     "metadata": {},
     "output_type": "display_data"
    },
    {
     "data": {
      "text/plain": [
       "<Figure size 1296x1008 with 0 Axes>"
      ]
     },
     "metadata": {},
     "output_type": "display_data"
    },
    {
     "data": {
      "text/plain": [
       "<Figure size 1296x1008 with 0 Axes>"
      ]
     },
     "metadata": {},
     "output_type": "display_data"
    },
    {
     "data": {
      "text/plain": [
       "<Figure size 1296x1008 with 0 Axes>"
      ]
     },
     "metadata": {},
     "output_type": "display_data"
    },
    {
     "data": {
      "text/plain": [
       "<Figure size 1296x1008 with 0 Axes>"
      ]
     },
     "metadata": {},
     "output_type": "display_data"
    },
    {
     "data": {
      "text/plain": [
       "<Figure size 1296x1008 with 0 Axes>"
      ]
     },
     "metadata": {},
     "output_type": "display_data"
    },
    {
     "data": {
      "text/plain": [
       "<Figure size 1296x1008 with 0 Axes>"
      ]
     },
     "metadata": {},
     "output_type": "display_data"
    },
    {
     "data": {
      "text/plain": [
       "<Figure size 1296x1008 with 0 Axes>"
      ]
     },
     "metadata": {},
     "output_type": "display_data"
    },
    {
     "data": {
      "text/plain": [
       "<Figure size 1296x1008 with 0 Axes>"
      ]
     },
     "metadata": {},
     "output_type": "display_data"
    },
    {
     "data": {
      "text/plain": [
       "<Figure size 1296x1008 with 0 Axes>"
      ]
     },
     "metadata": {},
     "output_type": "display_data"
    },
    {
     "data": {
      "text/plain": [
       "<Figure size 1296x1008 with 0 Axes>"
      ]
     },
     "metadata": {},
     "output_type": "display_data"
    },
    {
     "data": {
      "text/plain": [
       "<Figure size 1296x1008 with 0 Axes>"
      ]
     },
     "metadata": {},
     "output_type": "display_data"
    },
    {
     "data": {
      "text/plain": [
       "<Figure size 1296x1008 with 0 Axes>"
      ]
     },
     "metadata": {},
     "output_type": "display_data"
    },
    {
     "data": {
      "text/plain": [
       "<Figure size 1296x1008 with 0 Axes>"
      ]
     },
     "metadata": {},
     "output_type": "display_data"
    },
    {
     "data": {
      "text/plain": [
       "<Figure size 1296x1008 with 0 Axes>"
      ]
     },
     "metadata": {},
     "output_type": "display_data"
    },
    {
     "data": {
      "text/plain": [
       "<Figure size 1296x1008 with 0 Axes>"
      ]
     },
     "metadata": {},
     "output_type": "display_data"
    },
    {
     "data": {
      "text/plain": [
       "<Figure size 1296x1008 with 0 Axes>"
      ]
     },
     "metadata": {},
     "output_type": "display_data"
    },
    {
     "data": {
      "text/plain": [
       "<Figure size 1296x1008 with 0 Axes>"
      ]
     },
     "metadata": {},
     "output_type": "display_data"
    },
    {
     "data": {
      "text/plain": [
       "<Figure size 1296x1008 with 0 Axes>"
      ]
     },
     "metadata": {},
     "output_type": "display_data"
    },
    {
     "data": {
      "text/plain": [
       "<Figure size 1296x1008 with 0 Axes>"
      ]
     },
     "metadata": {},
     "output_type": "display_data"
    },
    {
     "data": {
      "text/plain": [
       "<Figure size 1296x1008 with 0 Axes>"
      ]
     },
     "metadata": {},
     "output_type": "display_data"
    },
    {
     "data": {
      "text/plain": [
       "<Figure size 1296x1008 with 0 Axes>"
      ]
     },
     "metadata": {},
     "output_type": "display_data"
    },
    {
     "data": {
      "text/plain": [
       "<Figure size 1296x1008 with 0 Axes>"
      ]
     },
     "metadata": {},
     "output_type": "display_data"
    },
    {
     "data": {
      "text/plain": [
       "<Figure size 1296x1008 with 0 Axes>"
      ]
     },
     "metadata": {},
     "output_type": "display_data"
    },
    {
     "data": {
      "text/plain": [
       "<Figure size 1296x1008 with 0 Axes>"
      ]
     },
     "metadata": {},
     "output_type": "display_data"
    },
    {
     "data": {
      "text/plain": [
       "<Figure size 1296x1008 with 0 Axes>"
      ]
     },
     "metadata": {},
     "output_type": "display_data"
    },
    {
     "data": {
      "text/plain": [
       "<Figure size 1296x1008 with 0 Axes>"
      ]
     },
     "metadata": {},
     "output_type": "display_data"
    },
    {
     "data": {
      "text/plain": [
       "<Figure size 1296x1008 with 0 Axes>"
      ]
     },
     "metadata": {},
     "output_type": "display_data"
    },
    {
     "data": {
      "text/plain": [
       "<Figure size 1296x1008 with 0 Axes>"
      ]
     },
     "metadata": {},
     "output_type": "display_data"
    },
    {
     "data": {
      "text/plain": [
       "<Figure size 1296x1008 with 0 Axes>"
      ]
     },
     "metadata": {},
     "output_type": "display_data"
    },
    {
     "data": {
      "text/plain": [
       "<Figure size 1296x1008 with 0 Axes>"
      ]
     },
     "metadata": {},
     "output_type": "display_data"
    },
    {
     "data": {
      "text/plain": [
       "<Figure size 1296x1008 with 0 Axes>"
      ]
     },
     "metadata": {},
     "output_type": "display_data"
    },
    {
     "data": {
      "text/plain": [
       "<Figure size 1296x1008 with 0 Axes>"
      ]
     },
     "metadata": {},
     "output_type": "display_data"
    },
    {
     "data": {
      "text/plain": [
       "<Figure size 1296x1008 with 0 Axes>"
      ]
     },
     "metadata": {},
     "output_type": "display_data"
    },
    {
     "data": {
      "text/plain": [
       "<Figure size 1296x1008 with 0 Axes>"
      ]
     },
     "metadata": {},
     "output_type": "display_data"
    },
    {
     "data": {
      "text/plain": [
       "<Figure size 1296x1008 with 0 Axes>"
      ]
     },
     "metadata": {},
     "output_type": "display_data"
    },
    {
     "data": {
      "text/plain": [
       "<Figure size 1296x1008 with 0 Axes>"
      ]
     },
     "metadata": {},
     "output_type": "display_data"
    },
    {
     "data": {
      "text/plain": [
       "<Figure size 1296x1008 with 0 Axes>"
      ]
     },
     "metadata": {},
     "output_type": "display_data"
    },
    {
     "data": {
      "text/plain": [
       "<Figure size 1296x1008 with 0 Axes>"
      ]
     },
     "metadata": {},
     "output_type": "display_data"
    },
    {
     "data": {
      "text/plain": [
       "<Figure size 1296x1008 with 0 Axes>"
      ]
     },
     "metadata": {},
     "output_type": "display_data"
    }
   ],
   "source": [
    "#Making figures with stacked boxplots/histograms for categorical variables.\n",
    "for el in categorical_columns:\n",
    "    fig, axes = plt.subplots(2, 1, figsize = (18, 14))\n",
    "    sns.boxplot(ax = axes[0], data = df, x = el, y = 'SalePrice')\n",
    "    sns.histplot(ax = axes[1], data = df, x = el)\n",
    "    plt.savefig('stacked_boxplots_histograms/{x_axis}.png'.format(x_axis = el), dpi = 300)\n",
    "    plt.clf()"
   ]
  },
  {
   "cell_type": "code",
   "execution_count": 22,
   "id": "f18a50d6",
   "metadata": {},
   "outputs": [
    {
     "name": "stderr",
     "output_type": "stream",
     "text": [
      "<ipython-input-22-145d49c1a2ff>:2: RuntimeWarning: More than 20 figures have been opened. Figures created through the pyplot interface (`matplotlib.pyplot.figure`) are retained until explicitly closed and may consume too much memory. (To control this warning, see the rcParam `figure.max_open_warning`).\n",
      "  fig, axes = plt.subplots(2, 1, figsize = (18, 14))\n"
     ]
    },
    {
     "data": {
      "text/plain": [
       "<Figure size 1296x1008 with 0 Axes>"
      ]
     },
     "metadata": {},
     "output_type": "display_data"
    },
    {
     "data": {
      "text/plain": [
       "<Figure size 1296x1008 with 0 Axes>"
      ]
     },
     "metadata": {},
     "output_type": "display_data"
    },
    {
     "data": {
      "text/plain": [
       "<Figure size 1296x1008 with 0 Axes>"
      ]
     },
     "metadata": {},
     "output_type": "display_data"
    },
    {
     "data": {
      "text/plain": [
       "<Figure size 1296x1008 with 0 Axes>"
      ]
     },
     "metadata": {},
     "output_type": "display_data"
    },
    {
     "data": {
      "text/plain": [
       "<Figure size 1296x1008 with 0 Axes>"
      ]
     },
     "metadata": {},
     "output_type": "display_data"
    },
    {
     "data": {
      "text/plain": [
       "<Figure size 1296x1008 with 0 Axes>"
      ]
     },
     "metadata": {},
     "output_type": "display_data"
    },
    {
     "data": {
      "text/plain": [
       "<Figure size 1296x1008 with 0 Axes>"
      ]
     },
     "metadata": {},
     "output_type": "display_data"
    },
    {
     "data": {
      "text/plain": [
       "<Figure size 1296x1008 with 0 Axes>"
      ]
     },
     "metadata": {},
     "output_type": "display_data"
    },
    {
     "data": {
      "text/plain": [
       "<Figure size 1296x1008 with 0 Axes>"
      ]
     },
     "metadata": {},
     "output_type": "display_data"
    },
    {
     "data": {
      "text/plain": [
       "<Figure size 1296x1008 with 0 Axes>"
      ]
     },
     "metadata": {},
     "output_type": "display_data"
    },
    {
     "data": {
      "text/plain": [
       "<Figure size 1296x1008 with 0 Axes>"
      ]
     },
     "metadata": {},
     "output_type": "display_data"
    },
    {
     "data": {
      "text/plain": [
       "<Figure size 1296x1008 with 0 Axes>"
      ]
     },
     "metadata": {},
     "output_type": "display_data"
    },
    {
     "data": {
      "text/plain": [
       "<Figure size 1296x1008 with 0 Axes>"
      ]
     },
     "metadata": {},
     "output_type": "display_data"
    },
    {
     "data": {
      "text/plain": [
       "<Figure size 1296x1008 with 0 Axes>"
      ]
     },
     "metadata": {},
     "output_type": "display_data"
    },
    {
     "data": {
      "text/plain": [
       "<Figure size 1296x1008 with 0 Axes>"
      ]
     },
     "metadata": {},
     "output_type": "display_data"
    },
    {
     "data": {
      "text/plain": [
       "<Figure size 1296x1008 with 0 Axes>"
      ]
     },
     "metadata": {},
     "output_type": "display_data"
    },
    {
     "data": {
      "text/plain": [
       "<Figure size 1296x1008 with 0 Axes>"
      ]
     },
     "metadata": {},
     "output_type": "display_data"
    },
    {
     "data": {
      "text/plain": [
       "<Figure size 1296x1008 with 0 Axes>"
      ]
     },
     "metadata": {},
     "output_type": "display_data"
    },
    {
     "data": {
      "text/plain": [
       "<Figure size 1296x1008 with 0 Axes>"
      ]
     },
     "metadata": {},
     "output_type": "display_data"
    },
    {
     "data": {
      "text/plain": [
       "<Figure size 1296x1008 with 0 Axes>"
      ]
     },
     "metadata": {},
     "output_type": "display_data"
    },
    {
     "data": {
      "text/plain": [
       "<Figure size 1296x1008 with 0 Axes>"
      ]
     },
     "metadata": {},
     "output_type": "display_data"
    },
    {
     "data": {
      "text/plain": [
       "<Figure size 1296x1008 with 0 Axes>"
      ]
     },
     "metadata": {},
     "output_type": "display_data"
    },
    {
     "data": {
      "text/plain": [
       "<Figure size 1296x1008 with 0 Axes>"
      ]
     },
     "metadata": {},
     "output_type": "display_data"
    },
    {
     "data": {
      "text/plain": [
       "<Figure size 1296x1008 with 0 Axes>"
      ]
     },
     "metadata": {},
     "output_type": "display_data"
    },
    {
     "data": {
      "text/plain": [
       "<Figure size 1296x1008 with 0 Axes>"
      ]
     },
     "metadata": {},
     "output_type": "display_data"
    },
    {
     "data": {
      "text/plain": [
       "<Figure size 1296x1008 with 0 Axes>"
      ]
     },
     "metadata": {},
     "output_type": "display_data"
    },
    {
     "data": {
      "text/plain": [
       "<Figure size 1296x1008 with 0 Axes>"
      ]
     },
     "metadata": {},
     "output_type": "display_data"
    },
    {
     "data": {
      "text/plain": [
       "<Figure size 1296x1008 with 0 Axes>"
      ]
     },
     "metadata": {},
     "output_type": "display_data"
    },
    {
     "data": {
      "text/plain": [
       "<Figure size 1296x1008 with 0 Axes>"
      ]
     },
     "metadata": {},
     "output_type": "display_data"
    },
    {
     "data": {
      "text/plain": [
       "<Figure size 1296x1008 with 0 Axes>"
      ]
     },
     "metadata": {},
     "output_type": "display_data"
    },
    {
     "data": {
      "text/plain": [
       "<Figure size 1296x1008 with 0 Axes>"
      ]
     },
     "metadata": {},
     "output_type": "display_data"
    },
    {
     "data": {
      "text/plain": [
       "<Figure size 1296x1008 with 0 Axes>"
      ]
     },
     "metadata": {},
     "output_type": "display_data"
    },
    {
     "data": {
      "text/plain": [
       "<Figure size 1296x1008 with 0 Axes>"
      ]
     },
     "metadata": {},
     "output_type": "display_data"
    },
    {
     "data": {
      "text/plain": [
       "<Figure size 1296x1008 with 0 Axes>"
      ]
     },
     "metadata": {},
     "output_type": "display_data"
    },
    {
     "data": {
      "text/plain": [
       "<Figure size 1296x1008 with 0 Axes>"
      ]
     },
     "metadata": {},
     "output_type": "display_data"
    },
    {
     "data": {
      "text/plain": [
       "<Figure size 1296x1008 with 0 Axes>"
      ]
     },
     "metadata": {},
     "output_type": "display_data"
    },
    {
     "data": {
      "text/plain": [
       "<Figure size 1296x1008 with 0 Axes>"
      ]
     },
     "metadata": {},
     "output_type": "display_data"
    },
    {
     "data": {
      "text/plain": [
       "<Figure size 1296x1008 with 0 Axes>"
      ]
     },
     "metadata": {},
     "output_type": "display_data"
    },
    {
     "data": {
      "text/plain": [
       "<Figure size 1296x1008 with 0 Axes>"
      ]
     },
     "metadata": {},
     "output_type": "display_data"
    },
    {
     "data": {
      "text/plain": [
       "<Figure size 1296x1008 with 0 Axes>"
      ]
     },
     "metadata": {},
     "output_type": "display_data"
    },
    {
     "data": {
      "text/plain": [
       "<Figure size 1296x1008 with 0 Axes>"
      ]
     },
     "metadata": {},
     "output_type": "display_data"
    },
    {
     "data": {
      "text/plain": [
       "<Figure size 1296x1008 with 0 Axes>"
      ]
     },
     "metadata": {},
     "output_type": "display_data"
    },
    {
     "data": {
      "text/plain": [
       "<Figure size 1296x1008 with 0 Axes>"
      ]
     },
     "metadata": {},
     "output_type": "display_data"
    },
    {
     "data": {
      "text/plain": [
       "<Figure size 1296x1008 with 0 Axes>"
      ]
     },
     "metadata": {},
     "output_type": "display_data"
    },
    {
     "data": {
      "text/plain": [
       "<Figure size 1296x1008 with 0 Axes>"
      ]
     },
     "metadata": {},
     "output_type": "display_data"
    },
    {
     "data": {
      "text/plain": [
       "<Figure size 1296x1008 with 0 Axes>"
      ]
     },
     "metadata": {},
     "output_type": "display_data"
    },
    {
     "data": {
      "text/plain": [
       "<Figure size 1296x1008 with 0 Axes>"
      ]
     },
     "metadata": {},
     "output_type": "display_data"
    },
    {
     "data": {
      "text/plain": [
       "<Figure size 1296x1008 with 0 Axes>"
      ]
     },
     "metadata": {},
     "output_type": "display_data"
    },
    {
     "data": {
      "text/plain": [
       "<Figure size 1296x1008 with 0 Axes>"
      ]
     },
     "metadata": {},
     "output_type": "display_data"
    },
    {
     "data": {
      "text/plain": [
       "<Figure size 1296x1008 with 0 Axes>"
      ]
     },
     "metadata": {},
     "output_type": "display_data"
    },
    {
     "data": {
      "text/plain": [
       "<Figure size 1296x1008 with 0 Axes>"
      ]
     },
     "metadata": {},
     "output_type": "display_data"
    },
    {
     "data": {
      "text/plain": [
       "<Figure size 1296x1008 with 0 Axes>"
      ]
     },
     "metadata": {},
     "output_type": "display_data"
    },
    {
     "data": {
      "text/plain": [
       "<Figure size 1296x1008 with 0 Axes>"
      ]
     },
     "metadata": {},
     "output_type": "display_data"
    },
    {
     "data": {
      "text/plain": [
       "<Figure size 1296x1008 with 0 Axes>"
      ]
     },
     "metadata": {},
     "output_type": "display_data"
    },
    {
     "data": {
      "text/plain": [
       "<Figure size 1296x1008 with 0 Axes>"
      ]
     },
     "metadata": {},
     "output_type": "display_data"
    },
    {
     "data": {
      "text/plain": [
       "<Figure size 1296x1008 with 0 Axes>"
      ]
     },
     "metadata": {},
     "output_type": "display_data"
    },
    {
     "data": {
      "text/plain": [
       "<Figure size 1296x1008 with 0 Axes>"
      ]
     },
     "metadata": {},
     "output_type": "display_data"
    },
    {
     "data": {
      "text/plain": [
       "<Figure size 1296x1008 with 0 Axes>"
      ]
     },
     "metadata": {},
     "output_type": "display_data"
    }
   ],
   "source": [
    "for el in categorical_columns:\n",
    "    fig, axes = plt.subplots(2, 1, figsize = (18, 14))\n",
    "    sns.boxplot(ax = axes[0], data = df, x = el, y = 'price_per_sqft')\n",
    "    sns.histplot(ax = axes[1], data = df, x = el)\n",
    "    plt.savefig('stacked_boxplots_histograms_per_sqft/{x_axis}.png'.format(x_axis = el), dpi = 300)\n",
    "    plt.clf()"
   ]
  },
  {
   "cell_type": "code",
   "execution_count": 8,
   "id": "8c29a124",
   "metadata": {},
   "outputs": [
    {
     "data": {
      "image/png": "[encoded data removed]",
      "text/plain": [
       "<Figure size 432x288 with 1 Axes>"
      ]
     },
     "metadata": {
      "needs_background": "light"
     },
     "output_type": "display_data"
    }
   ],
   "source": [
    "x = sns.histplot(data = df, x = 'SalePrice')"
   ]
  },
  {
   "cell_type": "code",
   "execution_count": 9,
   "id": "a34280e7",
   "metadata": {},
   "outputs": [
    {
     "data": {
      "image/png": "[encoded data removed]",
      "text/plain": [
       "<Figure size 432x288 with 1 Axes>"
      ]
     },
     "metadata": {
      "needs_background": "light"
     },
     "output_type": "display_data"
    }
   ],
   "source": [
    "x = sns.histplot(data = df, x = 'SalePrice')\n",
    "x.set_xscale('log')"
   ]
  },
  {
   "cell_type": "code",
   "execution_count": 10,
   "id": "ee2114f3",
   "metadata": {},
   "outputs": [
    {
     "data": {
      "text/plain": [
       "<AxesSubplot:xlabel='MSSubClass', ylabel='SalePrice'>"
      ]
     },
     "execution_count": 10,
     "metadata": {},
     "output_type": "execute_result"
    },
    {
     "data": {
      "image/png": "[encoded data removed]",
      "text/plain": [
       "<Figure size 432x288 with 1 Axes>"
      ]
     },
     "metadata": {
      "needs_background": "light"
     },
     "output_type": "display_data"
    }
   ],
   "source": [
    "sns.boxplot(data = df, x = 'MSSubClass', y = 'SalePrice')"
   ]
  },
  {
   "cell_type": "code",
   "execution_count": 20,
   "id": "72f6d00a",
   "metadata": {},
   "outputs": [],
   "source": [
    "corr_matrix = df.corr()\n",
    "top_10_with_price = corr_matrix['SalePrice'].sort_values(ascending = False)[1:11]\n",
    "top_10_features = []\n",
    "for feature in list(top_10_with_price.items()):\n",
    "    top_10_features.append(feature[0])\n",
    "\n",
    "corr_dict = {}\n",
    "for feature in top_10_features:\n",
    "    corr_dict[feature] = corr_matrix[feature].sort_values(ascending = False)[1:11]"
   ]
  },
  {
   "cell_type": "code",
   "execution_count": 21,
   "id": "ab071a87",
   "metadata": {},
   "outputs": [
    {
     "data": {
      "text/plain": [
       "{'OverallQual': SalePrice       0.790501\n",
       " GarageCars      0.581029\n",
       " YearBuilt       0.574400\n",
       " GrLivArea       0.559897\n",
       " YearRemodAdd    0.546297\n",
       " GarageArea      0.538261\n",
       " TotalBsmtSF     0.528648\n",
       " FullBath        0.508255\n",
       " 1stFlrSF        0.454481\n",
       " MasVnrArea      0.401996\n",
       " Name: OverallQual, dtype: float64,\n",
       " 'GrLivArea': TotRmsAbvGrd    0.807445\n",
       " SalePrice       0.719981\n",
       " 2ndFlrSF        0.665001\n",
       " FullBath        0.643937\n",
       " OverallQual     0.559897\n",
       " 1stFlrSF        0.539135\n",
       " BedroomAbvGr    0.538022\n",
       " GarageCars      0.493786\n",
       " GarageArea      0.476029\n",
       " Fireplaces      0.457926\n",
       " Name: GrLivArea, dtype: float64,\n",
       " 'TotalBsmtSF': 1stFlrSF       0.784271\n",
       " SalePrice      0.652494\n",
       " OverallQual    0.528648\n",
       " BsmtFinSF1     0.512920\n",
       " GarageArea     0.465312\n",
       " GarageCars     0.435601\n",
       " BsmtUnfSF      0.422157\n",
       " GrLivArea      0.410370\n",
       " YearBuilt      0.401240\n",
       " MasVnrArea     0.360725\n",
       " Name: TotalBsmtSF, dtype: float64,\n",
       " '1stFlrSF': TotalBsmtSF         0.784271\n",
       " SalePrice           0.642613\n",
       " GrLivArea           0.539135\n",
       " GarageArea          0.480196\n",
       " OverallQual         0.454481\n",
       " GarageCars          0.441270\n",
       " BsmtFinSF1          0.426904\n",
       " mean_LotFrontage    0.422921\n",
       " Fireplaces          0.408737\n",
       " LotFrontage         0.401609\n",
       " Name: 1stFlrSF, dtype: float64,\n",
       " 'GarageCars': GarageArea      0.889828\n",
       " SalePrice       0.638424\n",
       " OverallQual     0.581029\n",
       " YearBuilt       0.520136\n",
       " GrLivArea       0.493786\n",
       " FullBath        0.471445\n",
       " 1stFlrSF        0.441270\n",
       " TotalBsmtSF     0.435601\n",
       " YearRemodAdd    0.396958\n",
       " TotRmsAbvGrd    0.353527\n",
       " Name: GarageCars, dtype: float64,\n",
       " 'GarageArea': GarageCars      0.889828\n",
       " SalePrice       0.634669\n",
       " OverallQual     0.538261\n",
       " 1stFlrSF        0.480196\n",
       " GrLivArea       0.476029\n",
       " TotalBsmtSF     0.465312\n",
       " YearBuilt       0.463881\n",
       " FullBath        0.402666\n",
       " MasVnrArea      0.347454\n",
       " YearRemodAdd    0.347419\n",
       " Name: GarageArea, dtype: float64,\n",
       " 'YearBuilt': OverallQual     0.574400\n",
       " YearRemodAdd    0.572276\n",
       " SalePrice       0.544370\n",
       " GarageCars      0.520136\n",
       " GarageArea      0.463881\n",
       " FullBath        0.450065\n",
       " TotalBsmtSF     0.401240\n",
       " BsmtFinSF1      0.303842\n",
       " MasVnrArea      0.302447\n",
       " 1stFlrSF        0.294691\n",
       " Name: YearBuilt, dtype: float64,\n",
       " 'FullBath': GrLivArea       0.643937\n",
       " SalePrice       0.534982\n",
       " TotRmsAbvGrd    0.534357\n",
       " OverallQual     0.508255\n",
       " GarageCars      0.471445\n",
       " YearBuilt       0.450065\n",
       " YearRemodAdd    0.434877\n",
       " 2ndFlrSF        0.411392\n",
       " GarageArea      0.402666\n",
       " 1stFlrSF        0.371874\n",
       " Name: FullBath, dtype: float64,\n",
       " 'YearRemodAdd': YearBuilt      0.572276\n",
       " OverallQual    0.546297\n",
       " SalePrice      0.514309\n",
       " FullBath       0.434877\n",
       " GarageCars     0.396958\n",
       " GarageArea     0.347419\n",
       " GrLivArea      0.306035\n",
       " TotalBsmtSF    0.273058\n",
       " OpenPorchSF    0.226677\n",
       " WoodDeckSF     0.218273\n",
       " Name: YearRemodAdd, dtype: float64,\n",
       " 'MasVnrArea': SalePrice       0.498432\n",
       " OverallQual     0.401996\n",
       " GrLivArea       0.385898\n",
       " 1stFlrSF        0.361919\n",
       " TotalBsmtSF     0.360725\n",
       " GarageArea      0.347454\n",
       " GarageCars      0.346217\n",
       " YearBuilt       0.302447\n",
       " BsmtFinSF1      0.276034\n",
       " TotRmsAbvGrd    0.261412\n",
       " Name: MasVnrArea, dtype: float64}"
      ]
     },
     "execution_count": 21,
     "metadata": {},
     "output_type": "execute_result"
    }
   ],
   "source": [
    "corr_dict"
   ]
  },
  {
   "cell_type": "code",
   "execution_count": 19,
   "id": "1a5377be",
   "metadata": {
    "scrolled": true
   },
   "outputs": [
    {
     "name": "stdout",
     "output_type": "stream",
     "text": [
      "SalePrice         1.000000\n",
      "OverallQual       0.790501\n",
      "GrLivArea         0.719981\n",
      "TotalBsmtSF       0.652494\n",
      "1stFlrSF          0.642613\n",
      "GarageCars        0.638424\n",
      "GarageArea        0.634669\n",
      "price_per_sqft    0.575509\n",
      "YearBuilt         0.544370\n",
      "FullBath          0.534982\n",
      "Name: SalePrice, dtype: float64\n",
      "PID             -0.226276\n",
      "EnclosedPorch   -0.123235\n",
      "KitchenAbvGr    -0.113977\n",
      "OverallCond     -0.101091\n",
      "MSSubClass      -0.084587\n",
      "BsmtHalfBath    -0.033786\n",
      "LowQualFinSF    -0.030835\n",
      "Unnamed: 0      -0.028413\n",
      "MiscVal         -0.018877\n",
      "YrSold          -0.001376\n",
      "Name: SalePrice, dtype: float64\n"
     ]
    }
   ],
   "source": [
    "corr_matrix = df.corr()\n",
    "pos_corr_saleprice = corr_matrix['SalePrice'].sort_values(ascending = False)[:10]\n",
    "neg_corr_saleprice = corr_matrix['SalePrice'].sort_values(ascending = True)[:10]\n",
    "print(pos_corr_saleprice)\n",
    "print(neg_corr_saleprice)\n",
    "\n",
    "#sns.heatmap(corr_matrix, annot=True)\n",
    "#plt.savefig('correlations.png')"
   ]
  },
  {
   "cell_type": "code",
   "execution_count": 3,
   "id": "42bad115",
   "metadata": {},
   "outputs": [],
   "source": [
    "#histogram for each neighborhood of sale price and price/sq ft\n",
    "df['price_per_sqft'] = round(df['SalePrice']/(df['1stFlrSF'] + df['2ndFlrSF'] ), 2)"
   ]
  },
  {
   "cell_type": "code",
   "execution_count": 13,
   "id": "5e29c773",
   "metadata": {},
   "outputs": [
    {
     "data": {
      "text/plain": [
       "<Figure size 432x288 with 0 Axes>"
      ]
     },
     "metadata": {},
     "output_type": "display_data"
    }
   ],
   "source": [
    "for neighborhood in df['Neighborhood']:\n",
    "    sns.histplot(data = df[df['Neighborhood'] == neighborhood], x = 'SalePrice', binwidth = 25000)\n",
    "    plt.savefig('neighborhoods/sale_price/{nhood}.png'.format(nhood = neighborhood), dpi = 300)\n",
    "    plt.clf()"
   ]
  },
  {
   "cell_type": "code",
   "execution_count": 17,
   "id": "9ea0d1e3",
   "metadata": {},
   "outputs": [
    {
     "data": {
      "text/plain": [
       "<Figure size 432x288 with 0 Axes>"
      ]
     },
     "metadata": {},
     "output_type": "display_data"
    }
   ],
   "source": [
    "for neighborhood in df['Neighborhood']:\n",
    "    sns.histplot(data = df[df['Neighborhood'] == neighborhood], x = 'price_per_sqft', binwidth = 10)\n",
    "    plt.savefig('neighborhoods/price_per_sqft/{nhood}.png'.format(nhood = neighborhood), dpi = 300)\n",
    "    plt.clf()"
   ]
  },
  {
   "cell_type": "code",
   "execution_count": 10,
   "id": "1fc00a49",
   "metadata": {},
   "outputs": [
    {
     "name": "stdout",
     "output_type": "stream",
     "text": [
      "SalePrice           1.000000\n",
      "living_SF           0.821729\n",
      "total               0.819266\n",
      "OverallQual         0.790501\n",
      "1st_2nd             0.725657\n",
      "GrLivArea           0.719981\n",
      "TotalBsmtSF         0.652494\n",
      "1stFlrSF            0.642613\n",
      "GarageCars          0.638424\n",
      "GarageArea          0.634669\n",
      "YearBuilt           0.544370\n",
      "FullBath            0.534982\n",
      "YearRemodAdd        0.514309\n",
      "MasVnrArea          0.498432\n",
      "TotRmsAbvGrd        0.490219\n",
      "Fireplaces          0.488184\n",
      "BsmtFinSF1          0.461070\n",
      "Bsmt_SF_1_2         0.444919\n",
      "mean_LotFrontage    0.336274\n",
      "WoodDeckSF          0.333232\n",
      "LotFrontage         0.328277\n",
      "OpenPorchSF         0.306540\n",
      "BsmtFullBath        0.290755\n",
      "HalfBath            0.285875\n",
      "LotArea             0.274443\n",
      "2ndFlrSF            0.263144\n",
      "BsmtUnfSF           0.168060\n",
      "BedroomAbvGr        0.151806\n",
      "ScreenPorch         0.121463\n",
      "3SsnPorch           0.031260\n",
      "PoolArea            0.030844\n",
      "BsmtFinSF2          0.022668\n",
      "MoSold              0.012591\n",
      "YrSold             -0.001376\n",
      "MiscVal            -0.018877\n",
      "Unnamed: 0         -0.028413\n",
      "LowQualFinSF       -0.030835\n",
      "BsmtHalfBath       -0.033786\n",
      "MSSubClass         -0.084587\n",
      "OverallCond        -0.101091\n",
      "KitchenAbvGr       -0.113977\n",
      "EnclosedPorch      -0.123235\n",
      "PID                -0.226276\n",
      "Name: SalePrice, dtype: float64\n"
     ]
    }
   ],
   "source": [
    "#df['1st_2nd'] = df['1stFlrSF'] + df['2ndFlrSF']\n",
    "#df['Bsmt_SF_1_2'] = df['BsmtFinSF1'] + df['BsmtFinSF2']\n",
    "#df['living_SF'] = df['1stFlrSF'] + df['2ndFlrSF'] + df['TotalBsmtSF']\n",
    "#df['total'] = df['GrLivArea'] + df['TotalBsmtSF']\n",
    "\n",
    "corr_matrix = df.corr()\n",
    "pos_corr_saleprice = corr_matrix['SalePrice'].sort_values(ascending = False)\n",
    "print(pos_corr_saleprice)"
   ]
  }
 ],
 "metadata": {
  "kernelspec": {
   "display_name": "Python 3",
   "language": "python",
   "name": "python3"
  },
  "language_info": {
   "codemirror_mode": {
    "name": "ipython",
    "version": 3
   },
   "file_extension": ".py",
   "mimetype": "text/x-python",
   "name": "python",
   "nbconvert_exporter": "python",
   "pygments_lexer": "ipython3",
   "version": "3.8.8"
  }
 },
 "nbformat": 4,
 "nbformat_minor": 5
}

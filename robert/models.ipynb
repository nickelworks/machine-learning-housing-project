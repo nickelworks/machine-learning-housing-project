{
 "cells": [
  {
   "cell_type": "code",
   "execution_count": 26,
   "id": "abc41e06",
   "metadata": {},
   "outputs": [],
   "source": [
    "import pandas as pd\n",
    "import numpy as np\n",
    "import seaborn as sns\n",
    "from matplotlib import pyplot as plt\n",
    "import pickle"
   ]
  },
  {
   "cell_type": "code",
   "execution_count": 27,
   "id": "ddace907",
   "metadata": {},
   "outputs": [],
   "source": [
    "data = pd.read_csv('../communal/Ames_Housing_Price_Data_cleaned_2.csv', header = [0])\n",
    "\n",
    "pd.set_option(\"display.max_columns\", None)\n",
    "\n",
    "data.drop(['PID', 'lot_bucket', 'mean_LotFrontage', 'Prop_Addr', 'GarageYrBlt', 'lat', 'long'], axis = 1, inplace = True)"
   ]
  },
  {
   "cell_type": "code",
   "execution_count": 28,
   "id": "e642578e",
   "metadata": {},
   "outputs": [],
   "source": [
    "from sklearn.model_selection import train_test_split\n",
    "from sklearn import preprocessing\n",
    "from sklearn import linear_model\n",
    "from sklearn.linear_model import Lasso\n",
    "from sklearn.model_selection import GridSearchCV\n",
    "from sklearn.preprocessing import MinMaxScaler"
   ]
  },
  {
   "cell_type": "code",
   "execution_count": 4,
   "id": "64e6442a",
   "metadata": {},
   "outputs": [],
   "source": [
    "#data['GrLivArea_log'] = data['GrLivArea'].apply(lambda x: np.log(x))\n",
    "#data.drop('GrLivArea', axis = 1, inplace = True)"
   ]
  },
  {
   "cell_type": "code",
   "execution_count": 29,
   "id": "13820cbb",
   "metadata": {},
   "outputs": [],
   "source": [
    "y = data['SalePrice'].apply(lambda x: np.log(x))"
   ]
  },
  {
   "cell_type": "code",
   "execution_count": 30,
   "id": "077b4292",
   "metadata": {},
   "outputs": [],
   "source": [
    "x = data.drop(['SalePrice'], axis = 1)"
   ]
  },
  {
   "cell_type": "code",
   "execution_count": 31,
   "id": "ea29413a",
   "metadata": {},
   "outputs": [],
   "source": [
    "x = pd.get_dummies(x, drop_first = True)"
   ]
  },
  {
   "cell_type": "markdown",
   "id": "ca701e3d",
   "metadata": {},
   "source": [
    "## Lasso with all features"
   ]
  },
  {
   "cell_type": "code",
   "execution_count": null,
   "id": "08187162",
   "metadata": {},
   "outputs": [],
   "source": [
    "coefs = grid_search.best_estimator_.coef_\n",
    "coef_list = list(zip(coefs, x.columns))\n",
    "sorted(coef_list, key = lambda x: abs(x[0]), reverse = True)"
   ]
  },
  {
   "cell_type": "code",
   "execution_count": null,
   "id": "3df237bb",
   "metadata": {},
   "outputs": [],
   "source": [
    "x_train, x_test, y_train, y_test = train_test_split(x, y, test_size=0.3)"
   ]
  },
  {
   "cell_type": "code",
   "execution_count": null,
   "id": "de23bc59",
   "metadata": {},
   "outputs": [],
   "source": [
    "x_scaled = MinMaxScaler()\n",
    "x_train = x_scaled.fit_transform(x_train)"
   ]
  },
  {
   "cell_type": "code",
   "execution_count": null,
   "id": "8c831e05",
   "metadata": {},
   "outputs": [],
   "source": [
    "lasso_model = linear_model.Lasso()\n",
    "\n",
    "params = {'alpha': np.linspace(1e-6, 1e-3, 1000)}\n",
    "\n",
    "grid_search = GridSearchCV(linear_model.Lasso(max_iter = 1000000),\n",
    "                          params,\n",
    "                          cv = 5)"
   ]
  },
  {
   "cell_type": "code",
   "execution_count": null,
   "id": "d3675eed",
   "metadata": {},
   "outputs": [],
   "source": [
    "grid_search.fit(x_train, y_train)"
   ]
  },
  {
   "cell_type": "code",
   "execution_count": null,
   "id": "263a0c57",
   "metadata": {},
   "outputs": [],
   "source": [
    "grid_search.score(x_train, y_train)"
   ]
  },
  {
   "cell_type": "code",
   "execution_count": null,
   "id": "fb65a404",
   "metadata": {},
   "outputs": [],
   "source": [
    "x_test = x_scaled.fit_transform(x_test)"
   ]
  },
  {
   "cell_type": "code",
   "execution_count": null,
   "id": "5ec32662",
   "metadata": {},
   "outputs": [],
   "source": [
    "grid_search.score(x_test, y_test)"
   ]
  },
  {
   "cell_type": "code",
   "execution_count": null,
   "id": "4717e078",
   "metadata": {},
   "outputs": [],
   "source": [
    "coefs = grid_search.best_estimator_.coef_"
   ]
  },
  {
   "cell_type": "code",
   "execution_count": null,
   "id": "672f2b80",
   "metadata": {},
   "outputs": [],
   "source": [
    "grid_search.best_estimator_.alpha"
   ]
  },
  {
   "cell_type": "code",
   "execution_count": null,
   "id": "64768591",
   "metadata": {},
   "outputs": [],
   "source": [
    "coef_list = list(zip(coefs, x.columns))"
   ]
  },
  {
   "cell_type": "code",
   "execution_count": null,
   "id": "04f0d48c",
   "metadata": {},
   "outputs": [],
   "source": [
    "sorted(coef_list, key = lambda x: abs(x[0]), reverse = True)"
   ]
  },
  {
   "cell_type": "markdown",
   "id": "e9efefc6",
   "metadata": {},
   "source": [
    "## Lasso with feature selection"
   ]
  },
  {
   "cell_type": "code",
   "execution_count": 8,
   "id": "f723add7",
   "metadata": {},
   "outputs": [],
   "source": [
    "data.drop(['YearRemodAdd', 'Exterior2nd', 'BsmtFinSF1', 'BsmtFinSF2',\n",
    "           'BsmtUnfSF', '1stFlrSF', '2ndFlrSF', 'LowQualFinSF', \n",
    "           'TotRmsAbvGrd', 'GarageCars'], axis = 1, inplace = True)\n",
    "data['Total_Porch'] = data['OpenPorchSF'] + data['EnclosedPorch'] + \\\n",
    "                      data['3SsnPorch'] + data['ScreenPorch']\n",
    "data.drop(['OpenPorchSF', 'EnclosedPorch', '3SsnPorch', 'ScreenPorch'],\n",
    "           axis = 1, inplace = True)"
   ]
  },
  {
   "cell_type": "code",
   "execution_count": 45,
   "id": "4ad69bcb",
   "metadata": {},
   "outputs": [],
   "source": [
    "y = data['SalePrice'].apply(lambda x: np.log(x))"
   ]
  },
  {
   "cell_type": "code",
   "execution_count": 46,
   "id": "24648bd0",
   "metadata": {},
   "outputs": [],
   "source": [
    "x = data.drop(['SalePrice'], axis = 1)"
   ]
  },
  {
   "cell_type": "code",
   "execution_count": 47,
   "id": "3b942d4d",
   "metadata": {},
   "outputs": [],
   "source": [
    "x = pd.get_dummies(x, drop_first = True)"
   ]
  },
  {
   "cell_type": "code",
   "execution_count": 48,
   "id": "5e95e334",
   "metadata": {},
   "outputs": [],
   "source": [
    "train_scores = []\n",
    "test_scores = []\n",
    "alpha_list = []"
   ]
  },
  {
   "cell_type": "code",
   "execution_count": 49,
   "id": "502b0306",
   "metadata": {},
   "outputs": [],
   "source": [
    "for i in range(10):\n",
    "    np.random.seed(i)\n",
    "    x_train, x_test, y_train, y_test = train_test_split(x, y, test_size=0.3)\n",
    "    x_scaled = MinMaxScaler()\n",
    "    x_train = x_scaled.fit_transform(x_train)\n",
    "    lasso_model = linear_model.Lasso()\n",
    "    params = {'alpha': np.linspace(1e-6, 1e-3, 1000)}\n",
    "    grid_search = GridSearchCV(linear_model.Lasso(max_iter = 1000000), params, cv = 5)\n",
    "    grid_search.fit(x_train, y_train)\n",
    "    train_scores.append(grid_search.score(x_train, y_train))\n",
    "    x_test = x_scaled.fit_transform(x_test)\n",
    "    test_scores.append(grid_search.score(x_test, y_test))\n",
    "    alpha_list.append(grid_search.best_estimator_.alpha)\n",
    "    pickle.dump(grid_search, open('lasso{num}.pickle'.format(num = i), 'wb'))"
   ]
  },
  {
   "cell_type": "code",
   "execution_count": 50,
   "id": "ef483ea4",
   "metadata": {},
   "outputs": [
    {
     "data": {
      "text/plain": [
       "[0.9299583002552687,\n",
       " 0.9378698103302403,\n",
       " 0.9425603208321138,\n",
       " 0.917653815911975,\n",
       " 0.9460390754450917,\n",
       " 0.9427712068034613,\n",
       " 0.9378009884880388,\n",
       " 0.9291332663888276,\n",
       " 0.9438321000649128,\n",
       " 0.9301489669479803]"
      ]
     },
     "execution_count": 50,
     "metadata": {},
     "output_type": "execute_result"
    }
   ],
   "source": [
    "train_scores"
   ]
  },
  {
   "cell_type": "code",
   "execution_count": 51,
   "id": "32c35197",
   "metadata": {},
   "outputs": [
    {
     "data": {
      "text/plain": [
       "[0.9103035926344657,\n",
       " 0.9119986523509891,\n",
       " 0.8364559115064465,\n",
       " 0.9053757599298827,\n",
       " 0.8762514895937815,\n",
       " 0.8396936203149413,\n",
       " 0.9081879984295078,\n",
       " 0.857637382574845,\n",
       " 0.8782579600583194,\n",
       " 0.9127110144706014]"
      ]
     },
     "execution_count": 51,
     "metadata": {},
     "output_type": "execute_result"
    }
   ],
   "source": [
    "test_scores"
   ]
  },
  {
   "cell_type": "code",
   "execution_count": 52,
   "id": "91564d2e",
   "metadata": {},
   "outputs": [
    {
     "data": {
      "text/plain": [
       "[0.0002690000000000001,\n",
       " 0.00021000000000000004,\n",
       " 0.00016500000000000003,\n",
       " 0.0007500000000000001,\n",
       " 0.000142,\n",
       " 0.00017100000000000004,\n",
       " 0.00024400000000000005,\n",
       " 0.0004090000000000001,\n",
       " 0.00025200000000000005,\n",
       " 0.0003940000000000001]"
      ]
     },
     "execution_count": 52,
     "metadata": {},
     "output_type": "execute_result"
    }
   ],
   "source": [
    "alpha_list"
   ]
  },
  {
   "cell_type": "code",
   "execution_count": null,
   "id": "cac4891e",
   "metadata": {},
   "outputs": [],
   "source": []
  },
  {
   "cell_type": "code",
   "execution_count": null,
   "id": "f3ab1bfe",
   "metadata": {},
   "outputs": [],
   "source": [
    "x_train, x_test, y_train, y_test = train_test_split(x, y, test_size=0.3)"
   ]
  },
  {
   "cell_type": "code",
   "execution_count": null,
   "id": "63b07284",
   "metadata": {},
   "outputs": [],
   "source": [
    "x_scaled = MinMaxScaler()\n",
    "x_train = x_scaled.fit_transform(x_train)"
   ]
  },
  {
   "cell_type": "code",
   "execution_count": null,
   "id": "ca7e9b9a",
   "metadata": {},
   "outputs": [],
   "source": [
    "lasso_model = linear_model.Lasso()\n",
    "\n",
    "params = {'alpha': np.linspace(1e-6, 1e-3, 1000)}\n",
    "\n",
    "grid_search = GridSearchCV(linear_model.Lasso(max_iter = 1000000),\n",
    "                          params,\n",
    "                          cv = 5)"
   ]
  },
  {
   "cell_type": "code",
   "execution_count": null,
   "id": "97f97fd3",
   "metadata": {},
   "outputs": [],
   "source": [
    "grid_search.fit(x_train, y_train)"
   ]
  },
  {
   "cell_type": "code",
   "execution_count": null,
   "id": "2ba5bd07",
   "metadata": {},
   "outputs": [],
   "source": [
    "grid_search.score(x_train, y_train)"
   ]
  },
  {
   "cell_type": "code",
   "execution_count": null,
   "id": "57034648",
   "metadata": {},
   "outputs": [],
   "source": [
    "x_test = x_scaled.fit_transform(x_test)"
   ]
  },
  {
   "cell_type": "code",
   "execution_count": null,
   "id": "72bdb5be",
   "metadata": {},
   "outputs": [],
   "source": [
    "grid_search.score(x_test, y_test)"
   ]
  },
  {
   "cell_type": "code",
   "execution_count": null,
   "id": "00229cc0",
   "metadata": {},
   "outputs": [],
   "source": [
    "coefs = grid_search.best_estimator_.coef_"
   ]
  },
  {
   "cell_type": "code",
   "execution_count": null,
   "id": "9c07f1a7",
   "metadata": {},
   "outputs": [],
   "source": [
    "grid_search.best_estimator_.alpha"
   ]
  },
  {
   "cell_type": "code",
   "execution_count": null,
   "id": "0da55a16",
   "metadata": {},
   "outputs": [],
   "source": [
    "coef_list = list(zip(coefs, x.columns))"
   ]
  },
  {
   "cell_type": "code",
   "execution_count": null,
   "id": "890ff42d",
   "metadata": {},
   "outputs": [],
   "source": [
    "sorted(coef_list, key = lambda x: abs(x[0]), reverse = True)"
   ]
  },
  {
   "cell_type": "code",
   "execution_count": null,
   "id": "a037c140",
   "metadata": {},
   "outputs": [],
   "source": [
    "best_coefs = pd.Series(lasso.coef_, index = x.columns)"
   ]
  },
  {
   "cell_type": "code",
   "execution_count": null,
   "id": "9ddd1d5b",
   "metadata": {},
   "outputs": [],
   "source": [
    "best_alpha"
   ]
  },
  {
   "cell_type": "code",
   "execution_count": null,
   "id": "990a8256",
   "metadata": {},
   "outputs": [],
   "source": [
    "max(trainR2)"
   ]
  },
  {
   "cell_type": "code",
   "execution_count": null,
   "id": "de791160",
   "metadata": {},
   "outputs": [],
   "source": [
    "max(testR2)"
   ]
  },
  {
   "cell_type": "markdown",
   "id": "15b3ef62",
   "metadata": {},
   "source": [
    "## Tree models"
   ]
  },
  {
   "cell_type": "code",
   "execution_count": 10,
   "id": "0699cd2e",
   "metadata": {},
   "outputs": [],
   "source": [
    "from sklearn import tree\n",
    "from sklearn import ensemble\n",
    "from sklearn import ensemble\n",
    "randomForest = ensemble.RandomForestRegressor()"
   ]
  },
  {
   "cell_type": "code",
   "execution_count": 11,
   "id": "810865b9",
   "metadata": {},
   "outputs": [],
   "source": [
    "x = pd.get_dummies(x, drop_first = True)"
   ]
  },
  {
   "cell_type": "code",
   "execution_count": 12,
   "id": "8b7ac2fd",
   "metadata": {},
   "outputs": [],
   "source": [
    "x_train, x_test, y_train, y_test = train_test_split(x, y, test_size=0.3)"
   ]
  },
  {
   "cell_type": "code",
   "execution_count": 13,
   "id": "e0cc2681",
   "metadata": {},
   "outputs": [
    {
     "name": "stderr",
     "output_type": "stream",
     "text": [
      "/Users/robert/opt/anaconda3/lib/python3.8/site-packages/joblib/externals/loky/process_executor.py:688: UserWarning: A worker stopped while some jobs were given to the executor. This can be caused by a too short worker timeout or by a memory leak.\n",
      "  warnings.warn(\n"
     ]
    }
   ],
   "source": [
    "grid_para_forest = [{\n",
    "    \"max_depth\": range(1,40),\n",
    "    \"n_estimators\": range(100,2000,100),\n",
    "#    \"min_samples_leaf\": range(1, 10),\n",
    "#    \"min_samples_split\": np.linspace(start=2, stop=30, num=15, dtype=int),\n",
    "    \"random_state\": [42]}]\n",
    "grid_search_forest = GridSearchCV(randomForest, grid_para_forest, cv=5, n_jobs=-1)\n",
    "grid_search_forest.fit(x_train, y_train)\n",
    "pickle.dump(grid_search_forest, open('random_forest.pickle', 'wb'))"
   ]
  },
  {
   "cell_type": "code",
   "execution_count": 14,
   "id": "c6727214",
   "metadata": {},
   "outputs": [
    {
     "data": {
      "text/plain": [
       "0.9847671540111933"
      ]
     },
     "execution_count": 14,
     "metadata": {},
     "output_type": "execute_result"
    }
   ],
   "source": [
    "grid_search_forest.score(x_train, y_train)"
   ]
  },
  {
   "cell_type": "code",
   "execution_count": 15,
   "id": "f22e7fc8",
   "metadata": {},
   "outputs": [
    {
     "data": {
      "text/plain": [
       "0.8789236483558582"
      ]
     },
     "execution_count": 15,
     "metadata": {},
     "output_type": "execute_result"
    }
   ],
   "source": [
    "grid_search_forest.score(x_test, y_test)"
   ]
  },
  {
   "cell_type": "code",
   "execution_count": 53,
   "id": "4f05b955",
   "metadata": {},
   "outputs": [
    {
     "data": {
      "text/plain": [
       "<bound method BaseEstimator.get_params of RandomForestRegressor(max_depth=14, n_estimators=500, random_state=42)>"
      ]
     },
     "execution_count": 53,
     "metadata": {},
     "output_type": "execute_result"
    }
   ],
   "source": [
    "grid_search_forest.best_estimator_.get_params"
   ]
  },
  {
   "cell_type": "markdown",
   "id": "ef5758ed",
   "metadata": {},
   "source": [
    "## Gradient Boosting"
   ]
  },
  {
   "cell_type": "code",
   "execution_count": 32,
   "id": "4a8d20a1",
   "metadata": {},
   "outputs": [],
   "source": [
    "from sklearn.ensemble import GradientBoostingRegressor"
   ]
  },
  {
   "cell_type": "code",
   "execution_count": 33,
   "id": "2b7360c0",
   "metadata": {},
   "outputs": [],
   "source": [
    "x_train, x_test, y_train, y_test = train_test_split(x, y, test_size=0.3)"
   ]
  },
  {
   "cell_type": "code",
   "execution_count": 34,
   "id": "0f2925f3",
   "metadata": {},
   "outputs": [],
   "source": [
    "gbm = GradientBoostingRegressor()"
   ]
  },
  {
   "cell_type": "code",
   "execution_count": 41,
   "id": "4b8597d5",
   "metadata": {},
   "outputs": [
    {
     "name": "stderr",
     "output_type": "stream",
     "text": [
      "/Users/robert/opt/anaconda3/lib/python3.8/site-packages/joblib/externals/loky/process_executor.py:688: UserWarning: A worker stopped while some jobs were given to the executor. This can be caused by a too short worker timeout or by a memory leak.\n",
      "  warnings.warn(\n"
     ]
    }
   ],
   "source": [
    "grid_para_boosting = [{\n",
    "    \"max_depth\": range(1,10),\n",
    "    \"n_estimators\": range(100,1000,100),\n",
    "#    \"min_samples_leaf\": range(1, 10),\n",
    "#    \"min_samples_split\": np.linspace(start=2, stop=30, num=15, dtype=int),\n",
    "    \"learning_rate\": np.linspace(1e-3, 1, 10),\n",
    "    \"random_state\": [42]}]\n",
    "grid_search_boosting = GridSearchCV(gbm, grid_para_boosting, cv=5, n_jobs=-1)\n",
    "grid_search_boosting.fit(x_train, y_train)\n",
    "pickle.dump(grid_search_boosting, open('gradient_boosting.pickle', 'wb'))"
   ]
  },
  {
   "cell_type": "code",
   "execution_count": 42,
   "id": "41d15fcd",
   "metadata": {},
   "outputs": [
    {
     "data": {
      "text/plain": [
       "0.9952901638576778"
      ]
     },
     "execution_count": 42,
     "metadata": {},
     "output_type": "execute_result"
    }
   ],
   "source": [
    "grid_search_boosting.score(x_train, y_train)"
   ]
  },
  {
   "cell_type": "code",
   "execution_count": 43,
   "id": "22e42a85",
   "metadata": {},
   "outputs": [
    {
     "data": {
      "text/plain": [
       "0.9130658497991263"
      ]
     },
     "execution_count": 43,
     "metadata": {},
     "output_type": "execute_result"
    }
   ],
   "source": [
    "grid_search_boosting.score(x_test, y_test)"
   ]
  },
  {
   "cell_type": "code",
   "execution_count": 44,
   "id": "01c086f2",
   "metadata": {},
   "outputs": [
    {
     "data": {
      "text/plain": [
       "<bound method BaseEstimator.get_params of GradientBoostingRegressor(learning_rate=0.112, max_depth=4, n_estimators=400,\n",
       "                          random_state=42)>"
      ]
     },
     "execution_count": 44,
     "metadata": {},
     "output_type": "execute_result"
    }
   ],
   "source": [
    "grid_search_boosting.best_estimator_.get_params"
   ]
  }
 ],
 "metadata": {
  "kernelspec": {
   "display_name": "Python 3",
   "language": "python",
   "name": "python3"
  },
  "language_info": {
   "codemirror_mode": {
    "name": "ipython",
    "version": 3
   },
   "file_extension": ".py",
   "mimetype": "text/x-python",
   "name": "python",
   "nbconvert_exporter": "python",
   "pygments_lexer": "ipython3",
   "version": "3.8.8"
  }
 },
 "nbformat": 4,
 "nbformat_minor": 5
}

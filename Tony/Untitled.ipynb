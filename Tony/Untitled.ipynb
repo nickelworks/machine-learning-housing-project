{
 "cells": [
  {
   "cell_type": "code",
   "execution_count": 47,
   "id": "1b292b93",
   "metadata": {},
   "outputs": [],
   "source": [
    "import pandas as pd"
   ]
  },
  {
   "cell_type": "code",
   "execution_count": 55,
   "id": "d9764106",
   "metadata": {},
   "outputs": [],
   "source": [
    "df = pd.DataFrame({\"time_stamp\": [\"2011-12-31\", \"2011-12-31\", \"2011-12-31\", \"2011-12-30\", \"2011-12-29\"], \n",
    "                 \"user_id\" :[678, 890, 567,123, 111], \n",
    "                 \"equipment\" : [\"mobile\", \"mobile\", \"desktop\", \"desktop\", \"mobile\"]})"
   ]
  },
  {
   "cell_type": "code",
   "execution_count": 56,
   "id": "f865ef78",
   "metadata": {},
   "outputs": [],
   "source": [
    "df = df[df[\"equipment\"]==\"mobile\"]"
   ]
  },
  {
   "cell_type": "code",
   "execution_count": 57,
   "id": "0404e49f",
   "metadata": {},
   "outputs": [],
   "source": [
    "df[\"time_stamp\"] = pd.to_datetime(df[\"time_stamp\"])"
   ]
  },
  {
   "cell_type": "code",
   "execution_count": 58,
   "id": "7de0ad1b",
   "metadata": {},
   "outputs": [],
   "source": [
    "df = df.groupby([\"user_id\",\"time_stamp\"]).count().reset_index()"
   ]
  },
  {
   "cell_type": "code",
   "execution_count": 59,
   "id": "3a5c5dc6",
   "metadata": {},
   "outputs": [],
   "source": [
    "df = df[[\"user_id\", \"equipment\"]]"
   ]
  },
  {
   "cell_type": "code",
   "execution_count": 60,
   "id": "481d7160",
   "metadata": {
    "scrolled": true
   },
   "outputs": [],
   "source": [
    "df.rename(columns={\"equipment\":\"day_count\"}, inplace=True)"
   ]
  },
  {
   "cell_type": "code",
   "execution_count": 61,
   "id": "a973a34b",
   "metadata": {},
   "outputs": [
    {
     "data": {
      "text/html": [
       "<div>\n",
       "<style scoped>\n",
       "    .dataframe tbody tr th:only-of-type {\n",
       "        vertical-align: middle;\n",
       "    }\n",
       "\n",
       "    .dataframe tbody tr th {\n",
       "        vertical-align: top;\n",
       "    }\n",
       "\n",
       "    .dataframe thead th {\n",
       "        text-align: right;\n",
       "    }\n",
       "</style>\n",
       "<table border=\"1\" class=\"dataframe\">\n",
       "  <thead>\n",
       "    <tr style=\"text-align: right;\">\n",
       "      <th></th>\n",
       "      <th>user_id</th>\n",
       "      <th>day_count</th>\n",
       "    </tr>\n",
       "  </thead>\n",
       "  <tbody>\n",
       "    <tr>\n",
       "      <th>0</th>\n",
       "      <td>111</td>\n",
       "      <td>1</td>\n",
       "    </tr>\n",
       "    <tr>\n",
       "      <th>1</th>\n",
       "      <td>678</td>\n",
       "      <td>1</td>\n",
       "    </tr>\n",
       "    <tr>\n",
       "      <th>2</th>\n",
       "      <td>890</td>\n",
       "      <td>1</td>\n",
       "    </tr>\n",
       "  </tbody>\n",
       "</table>\n",
       "</div>"
      ],
      "text/plain": [
       "   user_id  day_count\n",
       "0      111          1\n",
       "1      678          1\n",
       "2      890          1"
      ]
     },
     "execution_count": 61,
     "metadata": {},
     "output_type": "execute_result"
    }
   ],
   "source": [
    "df"
   ]
  }
 ],
 "metadata": {
  "kernelspec": {
   "display_name": "Python 3 (ipykernel)",
   "language": "python",
   "name": "python3"
  },
  "language_info": {
   "codemirror_mode": {
    "name": "ipython",
    "version": 3
   },
   "file_extension": ".py",
   "mimetype": "text/x-python",
   "name": "python",
   "nbconvert_exporter": "python",
   "pygments_lexer": "ipython3",
   "version": "3.7.3"
  }
 },
 "nbformat": 4,
 "nbformat_minor": 5
}

{
 "cells": [
  {
   "cell_type": "code",
   "execution_count": 240,
   "id": "95db41c5",
   "metadata": {},
   "outputs": [],
   "source": [
    "import pandas as pd \n",
    "import config\n",
    "import plotly.express as px\n",
    "import plotly.offline as pyo\n",
    "import numpy as np\n",
    "import matplotlib.pyplot as plt\n",
    "from sklearn.tree import DecisionTreeRegressor\n",
    "import numpy as np\n",
    "from sklearn import tree\n",
    "import matplotlib.pyplot as plt\n",
    "from sklearn.model_selection import train_test_split\n",
    "from sklearn import preprocessing\n",
    "from sklearn import linear_model\n",
    "from sklearn.model_selection import GridSearchCV\n",
    "from sklearn.preprocessing import MinMaxScaler\n",
    "from sklearn.metrics import r2_score, mean_squared_error\n",
    "import seaborn as sns\n",
    "from sklearn.feature_selection import SelectFromModel\n",
    "pd.set_option('display.max_rows', 500)"
   ]
  },
  {
   "cell_type": "code",
   "execution_count": 438,
   "id": "324f98dc",
   "metadata": {},
   "outputs": [],
   "source": [
    "df = pd.read_csv(\"/Users/tonypark/Desktop/machine-learning-housing-project/communal/Ames_Housing_Price_Data_cleaned_3.csv\")\n",
    "pd.set_option('display.max_columns', None)\n",
    "px.set_mapbox_access_token(\"pk.eyJ1IjoidG9ueXBhcmswMDEiLCJhIjoiY2t2dWVramFmODZqaDJucXBrbnhpZ2JreCJ9.-XXf1YI8YESgWbWODhZAZA\")"
   ]
  },
  {
   "cell_type": "code",
   "execution_count": 439,
   "id": "c0e0071d",
   "metadata": {},
   "outputs": [],
   "source": [
    "df.drop(\"lot_bucket\", axis=1, inplace = True)\n",
    "df.drop(\"Prop_Addr\", axis=1, inplace = True)\n",
    "df.drop(\"mean_LotFrontage\", axis=1, inplace = True)"
   ]
  },
  {
   "cell_type": "code",
   "execution_count": 440,
   "id": "b75aca9c",
   "metadata": {
    "scrolled": true
   },
   "outputs": [
    {
     "name": "stderr",
     "output_type": "stream",
     "text": [
      "/Users/tonypark/anaconda3/lib/python3.7/site-packages/ipykernel_launcher.py:1: SettingWithCopyWarning:\n",
      "\n",
      "\n",
      "A value is trying to be set on a copy of a slice from a DataFrame\n",
      "\n",
      "See the caveats in the documentation: https://pandas.pydata.org/pandas-docs/stable/user_guide/indexing.html#returning-a-view-versus-a-copy\n",
      "\n"
     ]
    }
   ],
   "source": [
    "df[\"GarageYrBlt\"][df[\"GarageYrBlt\"] == 'None'] = np.nan\n",
    "df[\"GarageYrBlt\"] = df[\"GarageYrBlt\"].astype(\"float\")\n",
    "\n",
    "#if garage year build is na, replace with when house was built\n",
    "#df[\"GarageYrBlt\"]=df[\"GarageYrBlt\"].fillna(df[\"YearBuilt\"])\n",
    "df.drop(\"GarageYrBlt\", inplace=True, axis=1)"
   ]
  },
  {
   "cell_type": "markdown",
   "id": "0fbaf915",
   "metadata": {},
   "source": [
    "## Lasso without Feature Engineering"
   ]
  },
  {
   "cell_type": "code",
   "execution_count": 224,
   "id": "02ebac45",
   "metadata": {},
   "outputs": [],
   "source": [
    "df[\"log_SalePrice\"] = np.log(df[\"SalePrice\"])\n",
    "\n",
    "X = df.drop([\"SalePrice\",\"PID\", \"log_SalePrice\"], axis=1)\n",
    "y = df[\"log_SalePrice\"]"
   ]
  },
  {
   "cell_type": "code",
   "execution_count": 357,
   "id": "e6cde504",
   "metadata": {},
   "outputs": [],
   "source": [
    "#dummify X\n",
    "X = pd.get_dummies(X, drop_first=True)"
   ]
  },
  {
   "cell_type": "code",
   "execution_count": 358,
   "id": "03b4e774",
   "metadata": {},
   "outputs": [],
   "source": [
    "#min max scale the variables \n",
    "xscaler = MinMaxScaler()\n",
    "x_train = xscaler.fit_transform(x_train)\n",
    "x_test = xscaler.transform(x_test)"
   ]
  },
  {
   "cell_type": "code",
   "execution_count": 359,
   "id": "d20ed9a9",
   "metadata": {},
   "outputs": [],
   "source": [
    "#test train split\n",
    "x_train, x_test, y_train, y_test = train_test_split(X, y, test_size=0.3)"
   ]
  },
  {
   "cell_type": "code",
   "execution_count": 263,
   "id": "ace00bd6",
   "metadata": {},
   "outputs": [],
   "source": [
    "clf = linear_model.Lasso()\n",
    "\n",
    "parameters = {'alpha':np.linspace(0.00001, 1000, 100), \n",
    "             }\n",
    "gs = GridSearchCV(\n",
    "    linear_model.Lasso(max_iter=1000), \n",
    "    parameters, \n",
    "    verbose= 3, \n",
    "    cv = 5,\n",
    "    scoring='r2'\n",
    ")\n"
   ]
  },
  {
   "cell_type": "code",
   "execution_count": 275,
   "id": "c581a755",
   "metadata": {},
   "outputs": [
    {
     "name": "stderr",
     "output_type": "stream",
     "text": [
      "/Users/tonypark/anaconda3/lib/python3.7/site-packages/sklearn/linear_model/_coordinate_descent.py:646: ConvergenceWarning:\n",
      "\n",
      "Objective did not converge. You might want to increase the number of iterations, check the scale of the features or consider increasing regularisation. Duality gap: 8.390e+00, tolerance: 2.769e-02\n",
      "\n"
     ]
    }
   ],
   "source": [
    "testr2 = []\n",
    "trainr2 = []\n",
    "clf = linear_model.Lasso(max_iter=2000)\n",
    "for alpha in np.linspace(0.00001, 1000, 100):\n",
    "    clf.set_params(alpha= alpha)\n",
    "    clf.fit(x_train, y_train)\n",
    "    trainr2.append(clf.score(x_train, y_train))\n",
    "    testr2.append(clf.score(x_test, y_test))\n"
   ]
  },
  {
   "cell_type": "code",
   "execution_count": null,
   "id": "1bbc2272",
   "metadata": {},
   "outputs": [],
   "source": [
    "list(zip(list(gs.best_estimator_.coef_), list(X.columns)))"
   ]
  },
  {
   "cell_type": "code",
   "execution_count": 565,
   "id": "26e9c88c",
   "metadata": {
    "scrolled": true
   },
   "outputs": [
    {
     "name": "stderr",
     "output_type": "stream",
     "text": [
      "/Users/tonypark/anaconda3/lib/python3.7/site-packages/sklearn/base.py:442: UserWarning:\n",
      "\n",
      "X does not have valid feature names, but MinMaxScaler was fitted with feature names\n",
      "\n"
     ]
    },
    {
     "data": {
      "text/plain": [
       "9232246759.990479"
      ]
     },
     "execution_count": 565,
     "metadata": {},
     "output_type": "execute_result"
    }
   ],
   "source": [
    "##MSE \n",
    "mean_squared_error(gs.predict(xscaler.transform(x_test)), y_test)"
   ]
  },
  {
   "cell_type": "code",
   "execution_count": 279,
   "id": "9e0637e6",
   "metadata": {
    "scrolled": true
   },
   "outputs": [
    {
     "ename": "AttributeError",
     "evalue": "'GridSearchCV' object has no attribute 'best_estimator_'",
     "output_type": "error",
     "traceback": [
      "\u001b[0;31m---------------------------------------------------------------------------\u001b[0m",
      "\u001b[0;31mAttributeError\u001b[0m                            Traceback (most recent call last)",
      "\u001b[0;32m/var/folders/h6/42c9p3812y7d0bfktf9ljfq00000gn/T/ipykernel_20891/636623473.py\u001b[0m in \u001b[0;36m<module>\u001b[0;34m\u001b[0m\n\u001b[1;32m      1\u001b[0m \u001b[0;31m##get feature importance\u001b[0m\u001b[0;34m\u001b[0m\u001b[0;34m\u001b[0m\u001b[0;34m\u001b[0m\u001b[0m\n\u001b[0;32m----> 2\u001b[0;31m \u001b[0mco\u001b[0m  \u001b[0;34m=\u001b[0m \u001b[0mlist\u001b[0m\u001b[0;34m(\u001b[0m\u001b[0mzip\u001b[0m\u001b[0;34m(\u001b[0m\u001b[0mlist\u001b[0m\u001b[0;34m(\u001b[0m\u001b[0mgs\u001b[0m\u001b[0;34m.\u001b[0m\u001b[0mbest_estimator_\u001b[0m\u001b[0;34m.\u001b[0m\u001b[0mcoef_\u001b[0m\u001b[0;34m)\u001b[0m\u001b[0;34m,\u001b[0m \u001b[0mlist\u001b[0m\u001b[0;34m(\u001b[0m\u001b[0mX\u001b[0m\u001b[0;34m.\u001b[0m\u001b[0mcolumns\u001b[0m\u001b[0;34m)\u001b[0m\u001b[0;34m)\u001b[0m\u001b[0;34m)\u001b[0m\u001b[0;34m\u001b[0m\u001b[0;34m\u001b[0m\u001b[0m\n\u001b[0m",
      "\u001b[0;31mAttributeError\u001b[0m: 'GridSearchCV' object has no attribute 'best_estimator_'"
     ]
    }
   ],
   "source": [
    "##get feature importance \n",
    "co  = list(zip(list(gs.best_estimator_.coef_), list(X.columns)))"
   ]
  },
  {
   "cell_type": "markdown",
   "id": "a2954fff",
   "metadata": {},
   "source": [
    "## Feature Cleaning & Engineering"
   ]
  },
  {
   "cell_type": "code",
   "execution_count": 441,
   "id": "ccf881e2",
   "metadata": {},
   "outputs": [],
   "source": [
    "#drop PID \n",
    "df.drop(\"PID\", axis=1, inplace=True)"
   ]
  },
  {
   "cell_type": "code",
   "execution_count": 442,
   "id": "f9f5b91e",
   "metadata": {},
   "outputs": [],
   "source": [
    "#remove outliers \n",
    "df.drop([115, 132, 141, 335, 490, 538, 2047, 2239], inplace=True) "
   ]
  },
  {
   "cell_type": "code",
   "execution_count": 410,
   "id": "a5ea1c70",
   "metadata": {},
   "outputs": [],
   "source": [
    "# #categorize neighborhoods \n",
    "# df =df.replace(\"Landmrk\", \"OldTown\")\n",
    "# df =df.replace(\"GrnHill\", \"OldTown\")\n",
    "# df =df.replace(\"NoRidge\", \"Somerst\")\n",
    "# df =df.replace(\"StoneBr\", \"Somerst\")\n",
    "# df =df.replace(\"NWAmes\", \"Gilbert\")\n",
    "# df =df.replace(\"Veenker\", \"Somerst\")\n",
    "# df =df.replace(\"NridgHt\", \"Somerst\")\n",
    "# df =df.replace(\"Blmngtn\", \"Gilbert\")\n",
    "# df =df.replace(\"Sawyer\", \"OldTown\")\n",
    "# df =df.replace(\"Edwards\", \"OldTown\")\n",
    "# df =df.replace(\"BrkSide\", \"OldTown\")\n",
    "# df =df.replace(\"SWISU\", \"OldTown\")\n",
    "# df =df.replace(\"CollgCr\", \"SawyerW\")\n",
    "# df =df.replace(\"Crawfor\", \"Timber\")\n",
    "# df =df.replace(\"Blueste\", \"OldTown\")\n",
    "# df =df.replace(\"ClearCr\", \"SawyerW\")\n",
    "# df =df.replace(\"IDOTRR\", \"OldTown\")\n",
    "# df =df.replace(\"BrDale\", \"NAmes\")\n",
    "# df =df.replace(\"NPkVill\", \"NAmes\")\n",
    "# df =df.replace(\"Greens\", \"Somerst\")\n",
    "# df =df.replace(\"MeadowV\", \"OldTown\")"
   ]
  },
  {
   "cell_type": "code",
   "execution_count": 411,
   "id": "f9186ed6",
   "metadata": {},
   "outputs": [],
   "source": [
    "# #convert MoSold to object to be dummified \n",
    "# df[\"MoSold\"]=df[\"MoSold\"].astype(\"str\")\n",
    "# df.drop(\"YrSold\", inplace=True, axis=1)"
   ]
  },
  {
   "cell_type": "code",
   "execution_count": 443,
   "id": "c72ac631",
   "metadata": {},
   "outputs": [],
   "source": [
    "#identify categorical vs numeric columns\n",
    "numerics = ['int16', 'int32', 'int64', 'float16', 'float32', 'float64']\n",
    "numeric_columns = list(df.select_dtypes(include=numerics).columns)\n",
    "categorical_columns =list(df.drop(numeric_columns, axis=1).columns)\n"
   ]
  },
  {
   "cell_type": "code",
   "execution_count": 444,
   "id": "a831f70d",
   "metadata": {},
   "outputs": [],
   "source": [
    "#number of bathrooms\n",
    "df[\"Num_of_Bath\"] = df[\"BsmtFullBath\"] + 0.5* df[\"BsmtHalfBath\"] + df[\"FullBath\"] + 0.5*df[\"HalfBath\"]\n",
    "df.drop([\"FullBath\", 'BsmtFullBath',\"BsmtHalfBath\",\"HalfBath\"], axis=1, inplace=True)\n"
   ]
  },
  {
   "cell_type": "code",
   "execution_count": 445,
   "id": "32be2468",
   "metadata": {},
   "outputs": [],
   "source": [
    "#drop lat and long \n",
    "df.drop([\"lat\",\"long\"], axis=1, inplace=True)\n",
    "\n",
    "#has a second floor\n",
    "# df[\"has2ndfloor\"] = df[\"2ndFlrSF\"].apply(lambda x: 1 if x>0 else 0)\n",
    "\n",
    "#has a pool \n",
    "\n",
    "#has a garage\n",
    "# df[\"hasGarage\"] = df[\"GarageArea\"].apply(lambda x: 1 if x>0 else 0)\n",
    "\n",
    "#has a basement \n",
    "# df[\"hasBmt\"] = df[\"TotalBsmtSF\"].apply(lambda x: 1 if x>0 else 0)\n",
    "\n",
    "#has a fireplace\n",
    "# df[\"hasFirepalce\"] = df[\"Fireplaces\"].apply(lambda x: 1 if x>0 else 0)\n",
    "\n",
    "\n",
    "#take the log of grLivARea\n",
    "df[\"log_GrLivArea\"] = np.log(df[\"GrLivArea\"])\n",
    "df.drop(\"GrLivArea\", axis=1, inplace=True)\n",
    "\n",
    "#total_living_SF\n",
    "# df[\"square_footage_1\"] = df[\"GrLivArea\"] + df[\"TotalBsmtSF\"] + df[\"GarageArea\"]\n",
    "\n",
    "#OverallQual * OverallCond \n",
    "# df[\"total_cond\"] = df[\"OverallQual\"] * df[\"OverallCond\"]\n",
    "# df.drop([\"OverallQual\",\"OverallCond\"], axis=1, inplace=True)\n",
    "\n",
    "\n",
    "#dropping all square footage that add up to grlivearea\n",
    "# df.drop([\"1stFlrSF\", \"2ndFlrSF\", \"BsmtFinSF1\",\"BsmtFinSF2\", \"BsmtUnfSF\"], inplace=True, axis=1)\n",
    "# df.drop([\"BsmtFinSF1\",\"BsmtFinSF2\", \"BsmtUnfSF\"], inplace=True, axis=1)\n"
   ]
  },
  {
   "cell_type": "code",
   "execution_count": 345,
   "id": "207e752a",
   "metadata": {},
   "outputs": [],
   "source": [
    "##ordinal categorie\n",
    "# dict_1 = {'Ex':5, 'Gd':4, 'TA':3, 'Fa':2,'Po':1, 'None':0}\n",
    "# dict_2 = {'Gd':4, 'Av':3, 'Mn':2, 'No':1,'None':0}\n",
    "# dict_3 = {'GLQ':6,'ALQ':5,'BLQ':4,'Rec':3,'LwQ':2,'Unf':1,'None':0}\n",
    "# df[\"ExterQual\"] = df[\"ExterQual\"].apply(lambda x: dict_1[x])\n",
    "# df[\"ExterCond\"] = df[\"ExterCond\"].apply(lambda x: dict_1[x])\n",
    "# df[\"BsmtQual\"] = df[\"BsmtQual\"].apply(lambda x: dict_1[x])\n",
    "# df[\"BsmtCond\"] = df[\"BsmtCond\"].apply(lambda x: dict_1[x])\n",
    "# df[\"BsmtExposure\"] = df[\"BsmtExposure\"].apply(lambda x: dict_2[x])\n",
    "# df[\"BsmtFinType1\"] = df[\"BsmtFinType1\"].apply(lambda x: dict_3[x])\n",
    "# df[\"HeatingQC\"] = df[\"HeatingQC\"].apply(lambda x: dict_1[x])\n",
    "# df[\"KitchenQual\"] = df[\"KitchenQual\"].apply(lambda x: dict_1[x])\n",
    "# df[\"FireplaceQu\"] = df[\"FireplaceQu\"].apply(lambda x: dict_1[x])\n",
    "# df[\"GarageQual\"] = df[\"GarageQual\"].apply(lambda x: dict_1[x])\n",
    "# df[\"GarageCond\"] = df[\"GarageCond\"].apply(lambda x: dict_1[x])\n",
    "\n"
   ]
  },
  {
   "cell_type": "markdown",
   "id": "527a9464",
   "metadata": {},
   "source": [
    "## Lasso With Features Reduced and Engineered "
   ]
  },
  {
   "cell_type": "code",
   "execution_count": 504,
   "id": "40aa0db1",
   "metadata": {},
   "outputs": [],
   "source": [
    "df[\"log_SalePrice\"] = np.log(df[\"SalePrice\"])"
   ]
  },
  {
   "cell_type": "code",
   "execution_count": 505,
   "id": "83632160",
   "metadata": {},
   "outputs": [],
   "source": [
    "y = df[\"log_SalePrice\"]"
   ]
  },
  {
   "cell_type": "code",
   "execution_count": 506,
   "id": "2cd12725",
   "metadata": {},
   "outputs": [],
   "source": [
    "X = df.drop([\"SalePrice\",\"log_SalePrice\"], axis=1)"
   ]
  },
  {
   "cell_type": "code",
   "execution_count": 507,
   "id": "4cce18fe",
   "metadata": {},
   "outputs": [],
   "source": [
    "X = pd.get_dummies(X, drop_first=True)"
   ]
  },
  {
   "cell_type": "code",
   "execution_count": 508,
   "id": "847d3c44",
   "metadata": {},
   "outputs": [],
   "source": [
    "# x_train, x_test, y_train, y_test = train_test_split(X,y, test_size= 0.33)"
   ]
  },
  {
   "cell_type": "code",
   "execution_count": 509,
   "id": "6461a9af",
   "metadata": {},
   "outputs": [],
   "source": [
    "# xscaler = MinMaxScaler()\n",
    "# x_train = xscaler.fit_transform(x_train)\n",
    "# x_test = xscaler.transform(x_test)"
   ]
  },
  {
   "cell_type": "code",
   "execution_count": 510,
   "id": "69359fe9",
   "metadata": {
    "scrolled": true
   },
   "outputs": [
    {
     "name": "stdout",
     "output_type": "stream",
     "text": [
      "999\r"
     ]
    }
   ],
   "source": [
    "lasso = linear_model.Lasso(max_iter = 50000)\n",
    "trainR2= []\n",
    "testR2 = []\n",
    "alphas = np.linspace(1e-4, 1e-3,1000)\n",
    "for i ,alpha in enumerate(alphas):\n",
    "    \n",
    "#     x_train, x_test, y_train, y_test = train_test_split(X,y, test_size= 0.33)\n",
    "#     xscaler = MinMaxScaler()\n",
    "#     x_train = xscaler.fit_transform(x_train)\n",
    "#     x_test = xscaler.transform(x_test)\n",
    "    x_train_avg = []\n",
    "    x_test_avg = []\n",
    "    \n",
    "    for j in range(3):\n",
    "        \n",
    "        x_train, x_test, y_train, y_test = \\\n",
    "        train_test_split(X.to_numpy(),y.to_numpy(), test_size= 0.33)\n",
    "        \n",
    "        xscaler = MinMaxScaler()\n",
    "        x_train = xscaler.fit_transform(x_train)\n",
    "        x_test = xscaler.transform(x_test)\n",
    "    \n",
    "        lasso.set_params(alpha = alpha)\n",
    "        lasso.fit(x_train, y_train)\n",
    "        \n",
    "        x_train_avg.append(lasso.score(x_train, y_train))\n",
    "        x_test_avg.append(lasso.score(x_test, y_test))\n",
    "\n",
    "        \n",
    "    trainR2.append(np.mean(x_train_avg))\n",
    "    testR2.append(np.mean(x_test_avg))\n",
    "    print(i, end = '\\r')\n",
    "        \n",
    "    \n",
    "best_alpha = alphas[np.argmax(testR2)]\n",
    "lasso.set_params(alpha = best_alpha)\n",
    "\n",
    "best_coefs = pd.Series(lasso.coef_, index = X.columns)\n",
    "\n",
    "    \n",
    "    "
   ]
  },
  {
   "cell_type": "code",
   "execution_count": 516,
   "id": "cea596ab",
   "metadata": {
    "scrolled": true
   },
   "outputs": [
    {
     "data": {
      "text/plain": [
       "0.00016576576576576575"
      ]
     },
     "execution_count": 516,
     "metadata": {},
     "output_type": "execute_result"
    }
   ],
   "source": [
    "best_alpha"
   ]
  },
  {
   "cell_type": "code",
   "execution_count": 517,
   "id": "ce52695e",
   "metadata": {
    "scrolled": true
   },
   "outputs": [],
   "source": [
    "y = lasso.set_params(alpha = alpha).fit(x_train, y_train)"
   ]
  },
  {
   "cell_type": "code",
   "execution_count": 518,
   "id": "622c80b1",
   "metadata": {},
   "outputs": [
    {
     "data": {
      "text/plain": [
       "[(0.9492105357646328, 'log_GrLivArea'),\n",
       " (0.5294296745208226, 'OverallQual'),\n",
       " (0.28392504351343956, 'OverallCond'),\n",
       " (0.27593269676453197, 'TotalBsmtSF'),\n",
       " (0.1604606899456587, 'YearBuilt'),\n",
       " (0.1556623723782854, 'BsmtFinSF1'),\n",
       " (0.11639533727233319, 'GarageCars'),\n",
       " (0.09987912865209776, 'Neighborhood_StoneBr'),\n",
       " (0.08545084003497923, 'GarageArea'),\n",
       " (0.08508184225316974, 'Neighborhood_Crawfor'),\n",
       " (0.08112954035261993, 'Neighborhood_NridgHt'),\n",
       " (0.07259296876304829, 'Num_of_Bath'),\n",
       " (0.0647595289599789, 'Neighborhood_NoRidge'),\n",
       " (0.06066887891982087, 'YearRemodAdd'),\n",
       " (0.05911549348476591, 'Neighborhood_Somerst'),\n",
       " (-0.0544140175498774, 'MSZoning_RM'),\n",
       " (0.050769908261099284, 'Fireplaces'),\n",
       " (-0.04986848753242479, 'MSSubClass'),\n",
       " (0.046041566018490014, 'CentralAir_Y'),\n",
       " (-0.045160676671483733, 'BldgType_Twnhs'),\n",
       " (0.04315645730629596, 'GarageCond_TA'),\n",
       " (0.04195197131267815, 'BsmtExposure_Gd'),\n",
       " (0.04135291757748472, 'Exterior1st_BrkFace'),\n",
       " (-0.039900365934758465, 'KitchenQual_TA'),\n",
       " (-0.039800658773478804, 'ExterCond_Fa'),\n",
       " (0.03195100808219943, 'MasVnrArea'),\n",
       " (0.0298315447565027, 'MSZoning_RL'),\n",
       " (-0.02850122508313709, 'BldgType_Duplex'),\n",
       " (0.028376454507216972, 'Foundation_PConc'),\n",
       " (-0.028207796045656847, 'BsmtExposure_No'),\n",
       " (0.025813240062504548, 'TotalPorchSF'),\n",
       " (-0.024642003451745075, 'Neighborhood_Edwards'),\n",
       " (-0.023266283547139593, 'BsmtQual_Fa'),\n",
       " (-0.020916940308390797, 'FireplaceQu_None'),\n",
       " (-0.020810887056074995, 'HeatingQC_TA'),\n",
       " (0.019740365192009238, 'PavedDrive_Y'),\n",
       " (-0.01811128458052768, 'GarageCond_Fa'),\n",
       " (-0.01767410579399854, 'KitchenQual_Gd'),\n",
       " (0.014576768068025554, 'WoodDeckSF'),\n",
       " (-0.013449760388631283, 'BsmtExposure_Mn'),\n",
       " (-0.013254174462945838, 'ExterQual_TA'),\n",
       " (-0.01323621555967481, 'BsmtFinType1_Unf'),\n",
       " (0.012688619968669497, 'BsmtFinType1_GLQ'),\n",
       " (-0.012204519799646004, 'Neighborhood_NAmes'),\n",
       " (-0.011908626001226436, 'LotShape_Reg'),\n",
       " (-0.011721063369967285, 'GarageFinish_Unf'),\n",
       " (-0.01060941481596257, 'YrSold'),\n",
       " (-0.010032204614408966, 'BsmtCond_Fa'),\n",
       " (0.00993980677383353, 'Neighborhood_ClearCr'),\n",
       " (0.009601592002897334, 'BsmtFinSF2'),\n",
       " (-0.0093431921287313, 'KitchenQual_Fa'),\n",
       " (-0.008832803366689242, 'GarageFinish_RFn'),\n",
       " (0.007296622243704439, '2ndFlrSF'),\n",
       " (0.007287126857731587, 'Exterior1st_VinylSd'),\n",
       " (0.0065399969202781195, 'GarageType_Attchd'),\n",
       " (-0.006171756303518287, 'BsmtQual_Gd'),\n",
       " (-0.004657554542839965, 'BldgType_TwnhsE'),\n",
       " (0.0027843012945858413, 'BsmtCond_Gd'),\n",
       " (0.0006089322308691879, 'FireplaceQu_Gd'),\n",
       " (0.0005863854091752649, 'Exterior1st_MetalSd'),\n",
       " (0.0003818966735479831, 'BsmtCond_TA'),\n",
       " (0.0, 'LotFrontage'),\n",
       " (0.0, 'LotArea'),\n",
       " (-0.0, 'BsmtUnfSF'),\n",
       " (0.0, '1stFlrSF'),\n",
       " (-0.0, 'LowQualFinSF'),\n",
       " (0.0, 'BedroomAbvGr'),\n",
       " (0.0, 'TotRmsAbvGrd'),\n",
       " (-0.0, 'MoSold'),\n",
       " (0.0, 'MSZoning_FV'),\n",
       " (-0.0, 'MSZoning_I (all)'),\n",
       " (-0.0, 'MSZoning_RH'),\n",
       " (0.0, 'LotShape_IR2'),\n",
       " (-0.0, 'LotShape_IR3'),\n",
       " (0.0, 'Neighborhood_Blueste'),\n",
       " (-0.0, 'Neighborhood_BrDale'),\n",
       " (0.0, 'Neighborhood_BrkSide'),\n",
       " (-0.0, 'Neighborhood_CollgCr'),\n",
       " (-0.0, 'Neighborhood_Gilbert'),\n",
       " (0.0, 'Neighborhood_Greens'),\n",
       " (0.0, 'Neighborhood_GrnHill'),\n",
       " (-0.0, 'Neighborhood_IDOTRR'),\n",
       " (-0.0, 'Neighborhood_Landmrk'),\n",
       " (-0.0, 'Neighborhood_MeadowV'),\n",
       " (0.0, 'Neighborhood_Mitchel'),\n",
       " (-0.0, 'Neighborhood_NPkVill'),\n",
       " (-0.0, 'Neighborhood_NWAmes'),\n",
       " (-0.0, 'Neighborhood_OldTown'),\n",
       " (-0.0, 'Neighborhood_SWISU'),\n",
       " (-0.0, 'Neighborhood_Sawyer'),\n",
       " (-0.0, 'Neighborhood_SawyerW'),\n",
       " (0.0, 'Neighborhood_Timber'),\n",
       " (-0.0, 'Neighborhood_Veenker'),\n",
       " (0.0, 'BldgType_2fmCon'),\n",
       " (0.0, 'HouseStyle_1.5Unf'),\n",
       " (-0.0, 'HouseStyle_1Story'),\n",
       " (-0.0, 'HouseStyle_2.5Fin'),\n",
       " (0.0, 'HouseStyle_2.5Unf'),\n",
       " (-0.0, 'HouseStyle_2Story'),\n",
       " (0.0, 'HouseStyle_SFoyer'),\n",
       " (0.0, 'HouseStyle_SLvl'),\n",
       " (0.0, 'Exterior1st_AsphShn'),\n",
       " (0.0, 'Exterior1st_BrkComm'),\n",
       " (0.0, 'Exterior1st_CBlock'),\n",
       " (-0.0, 'Exterior1st_CemntBd'),\n",
       " (-0.0, 'Exterior1st_HdBoard'),\n",
       " (-0.0, 'Exterior1st_ImStucc'),\n",
       " (-0.0, 'Exterior1st_Plywood'),\n",
       " (0.0, 'Exterior1st_PreCast'),\n",
       " (0.0, 'Exterior1st_Stucco'),\n",
       " (0.0, 'Exterior1st_Wd Sdng'),\n",
       " (-0.0, 'Exterior1st_WdShing'),\n",
       " (0.0, 'MasVnrType_BrkFace'),\n",
       " (-0.0, 'MasVnrType_None'),\n",
       " (0.0, 'MasVnrType_Stone'),\n",
       " (-0.0, 'ExterQual_Fa'),\n",
       " (-0.0, 'ExterQual_Gd'),\n",
       " (0.0, 'ExterCond_Gd'),\n",
       " (-0.0, 'ExterCond_Po'),\n",
       " (0.0, 'ExterCond_TA'),\n",
       " (0.0, 'Foundation_CBlock'),\n",
       " (-0.0, 'Foundation_Slab'),\n",
       " (0.0, 'Foundation_Stone'),\n",
       " (0.0, 'Foundation_Wood'),\n",
       " (-0.0, 'BsmtQual_None'),\n",
       " (-0.0, 'BsmtQual_TA'),\n",
       " (-0.0, 'BsmtCond_None'),\n",
       " (0.0, 'BsmtCond_Po'),\n",
       " (-0.0, 'BsmtExposure_None'),\n",
       " (0.0, 'BsmtFinType1_BLQ'),\n",
       " (-0.0, 'BsmtFinType1_LwQ'),\n",
       " (-0.0, 'BsmtFinType1_None'),\n",
       " (0.0, 'BsmtFinType1_Rec'),\n",
       " (-0.0, 'HeatingQC_Fa'),\n",
       " (-0.0, 'HeatingQC_Gd'),\n",
       " (0.0, 'HeatingQC_Po'),\n",
       " (0.0, 'Electrical_FuseF'),\n",
       " (0.0, 'Electrical_FuseP'),\n",
       " (0.0, 'Electrical_SBrkr'),\n",
       " (-0.0, 'FireplaceQu_Fa'),\n",
       " (0.0, 'FireplaceQu_Po'),\n",
       " (-0.0, 'FireplaceQu_TA'),\n",
       " (0.0, 'GarageType_Basment'),\n",
       " (0.0, 'GarageType_BuiltIn'),\n",
       " (-0.0, 'GarageType_CarPort'),\n",
       " (-0.0, 'GarageType_Detchd'),\n",
       " (-0.0, 'GarageType_None'),\n",
       " (-0.0, 'GarageFinish_None'),\n",
       " (-0.0, 'GarageQual_Fa'),\n",
       " (0.0, 'GarageQual_Gd'),\n",
       " (-0.0, 'GarageQual_None'),\n",
       " (-0.0, 'GarageQual_Po'),\n",
       " (0.0, 'GarageQual_TA'),\n",
       " (0.0, 'GarageCond_Gd'),\n",
       " (-0.0, 'GarageCond_None'),\n",
       " (-0.0, 'GarageCond_Po'),\n",
       " (0.0, 'PavedDrive_P')]"
      ]
     },
     "execution_count": 518,
     "metadata": {},
     "output_type": "execute_result"
    }
   ],
   "source": [
    "sorted(list(zip(y.coef_, X.columns)), key=lambda x: abs(x[0]), reverse=True) "
   ]
  },
  {
   "cell_type": "code",
   "execution_count": 519,
   "id": "1f2adb3f",
   "metadata": {
    "scrolled": false
   },
   "outputs": [
    {
     "data": {
      "text/plain": [
       "0.9360755501734416"
      ]
     },
     "execution_count": 519,
     "metadata": {},
     "output_type": "execute_result"
    }
   ],
   "source": [
    "max(testR2)"
   ]
  },
  {
   "cell_type": "code",
   "execution_count": 515,
   "id": "6573194d",
   "metadata": {
    "scrolled": true
   },
   "outputs": [
    {
     "data": {
      "text/plain": [
       "0.92537152272284"
      ]
     },
     "execution_count": 515,
     "metadata": {},
     "output_type": "execute_result"
    }
   ],
   "source": [
    "trainR2[np.argmax(testR2)]"
   ]
  },
  {
   "cell_type": "code",
   "execution_count": 193,
   "id": "705a8885",
   "metadata": {},
   "outputs": [],
   "source": [
    "def calc_vif(data):\n",
    "    vif = {}\n",
    "    for feature in data.columns:\n",
    "        X = [f for f in data.columns if f != feature]\n",
    "        X = data[X]\n",
    "        y = data[feature]\n",
    "        r2 = linear_model.LinearRegression().fit(X,y).score(X,y)\n",
    "        vif[feature] = 1/(1-r2)\n",
    "    return pd.DataFrame.from_dict([vif]).T.sort_values(ascending = False, by = 0)"
   ]
  },
  {
   "cell_type": "code",
   "execution_count": 223,
   "id": "4f6d6947",
   "metadata": {
    "scrolled": true
   },
   "outputs": [
    {
     "data": {
      "text/html": [
       "<div>\n",
       "<style scoped>\n",
       "    .dataframe tbody tr th:only-of-type {\n",
       "        vertical-align: middle;\n",
       "    }\n",
       "\n",
       "    .dataframe tbody tr th {\n",
       "        vertical-align: top;\n",
       "    }\n",
       "\n",
       "    .dataframe thead th {\n",
       "        text-align: right;\n",
       "    }\n",
       "</style>\n",
       "<table border=\"1\" class=\"dataframe\">\n",
       "  <thead>\n",
       "    <tr style=\"text-align: right;\">\n",
       "      <th></th>\n",
       "      <th>0</th>\n",
       "    </tr>\n",
       "  </thead>\n",
       "  <tbody>\n",
       "    <tr>\n",
       "      <th>square_footage_1</th>\n",
       "      <td>5.718855</td>\n",
       "    </tr>\n",
       "    <tr>\n",
       "      <th>GrLivArea</th>\n",
       "      <td>4.300150</td>\n",
       "    </tr>\n",
       "    <tr>\n",
       "      <th>OverallQual</th>\n",
       "      <td>3.085383</td>\n",
       "    </tr>\n",
       "    <tr>\n",
       "      <th>YearRemodAdd</th>\n",
       "      <td>1.900518</td>\n",
       "    </tr>\n",
       "    <tr>\n",
       "      <th>KitchenQual_TA</th>\n",
       "      <td>1.804537</td>\n",
       "    </tr>\n",
       "    <tr>\n",
       "      <th>Neighborhood_OldTown</th>\n",
       "      <td>1.759417</td>\n",
       "    </tr>\n",
       "    <tr>\n",
       "      <th>Neighborhood_Somerst</th>\n",
       "      <td>1.695000</td>\n",
       "    </tr>\n",
       "    <tr>\n",
       "      <th>HeatingQC_Ex</th>\n",
       "      <td>1.495640</td>\n",
       "    </tr>\n",
       "    <tr>\n",
       "      <th>GarageType_Attchd</th>\n",
       "      <td>1.480302</td>\n",
       "    </tr>\n",
       "    <tr>\n",
       "      <th>BsmtFinType1_GLQ</th>\n",
       "      <td>1.432999</td>\n",
       "    </tr>\n",
       "    <tr>\n",
       "      <th>BsmtQual_Ex</th>\n",
       "      <td>1.417175</td>\n",
       "    </tr>\n",
       "    <tr>\n",
       "      <th>MSZoning_RL</th>\n",
       "      <td>1.403463</td>\n",
       "    </tr>\n",
       "    <tr>\n",
       "      <th>FireplaceQu_None</th>\n",
       "      <td>1.402520</td>\n",
       "    </tr>\n",
       "    <tr>\n",
       "      <th>GarageCond_TA</th>\n",
       "      <td>1.309993</td>\n",
       "    </tr>\n",
       "    <tr>\n",
       "      <th>CentralAir_N</th>\n",
       "      <td>1.297721</td>\n",
       "    </tr>\n",
       "  </tbody>\n",
       "</table>\n",
       "</div>"
      ],
      "text/plain": [
       "                             0\n",
       "square_footage_1      5.718855\n",
       "GrLivArea             4.300150\n",
       "OverallQual           3.085383\n",
       "YearRemodAdd          1.900518\n",
       "KitchenQual_TA        1.804537\n",
       "Neighborhood_OldTown  1.759417\n",
       "Neighborhood_Somerst  1.695000\n",
       "HeatingQC_Ex          1.495640\n",
       "GarageType_Attchd     1.480302\n",
       "BsmtFinType1_GLQ      1.432999\n",
       "BsmtQual_Ex           1.417175\n",
       "MSZoning_RL           1.403463\n",
       "FireplaceQu_None      1.402520\n",
       "GarageCond_TA         1.309993\n",
       "CentralAir_N          1.297721"
      ]
     },
     "execution_count": 223,
     "metadata": {},
     "output_type": "execute_result"
    }
   ],
   "source": [
    "calc_vif(X[sorted_best_coefs[:20][\"index\"].values[:15]])"
   ]
  },
  {
   "cell_type": "markdown",
   "id": "043e0286",
   "metadata": {},
   "source": [
    "## Random Forest\n"
   ]
  },
  {
   "cell_type": "code",
   "execution_count": null,
   "id": "e4aad646",
   "metadata": {},
   "outputs": [],
   "source": [
    "### implement random\n",
    "from sklearn.ensemble import BaggingClassifier\n"
   ]
  },
  {
   "cell_type": "code",
   "execution_count": null,
   "id": "fbcf7665",
   "metadata": {},
   "outputs": [],
   "source": []
  },
  {
   "cell_type": "code",
   "execution_count": null,
   "id": "eed448e7",
   "metadata": {},
   "outputs": [],
   "source": []
  },
  {
   "cell_type": "code",
   "execution_count": null,
   "id": "7531f82d",
   "metadata": {},
   "outputs": [],
   "source": []
  },
  {
   "cell_type": "code",
   "execution_count": null,
   "id": "f4780649",
   "metadata": {},
   "outputs": [],
   "source": []
  },
  {
   "cell_type": "code",
   "execution_count": null,
   "id": "53a7b917",
   "metadata": {},
   "outputs": [],
   "source": []
  },
  {
   "cell_type": "code",
   "execution_count": null,
   "id": "8adc6997",
   "metadata": {},
   "outputs": [],
   "source": []
  },
  {
   "cell_type": "code",
   "execution_count": null,
   "id": "82116d40",
   "metadata": {},
   "outputs": [],
   "source": []
  },
  {
   "cell_type": "code",
   "execution_count": null,
   "id": "8c3e6a03",
   "metadata": {},
   "outputs": [],
   "source": []
  },
  {
   "cell_type": "code",
   "execution_count": null,
   "id": "2841c4d0",
   "metadata": {},
   "outputs": [],
   "source": []
  },
  {
   "cell_type": "code",
   "execution_count": null,
   "id": "33efae75",
   "metadata": {},
   "outputs": [],
   "source": []
  },
  {
   "cell_type": "code",
   "execution_count": null,
   "id": "11f6f5cb",
   "metadata": {},
   "outputs": [],
   "source": []
  },
  {
   "cell_type": "code",
   "execution_count": null,
   "id": "05e67649",
   "metadata": {},
   "outputs": [],
   "source": []
  },
  {
   "cell_type": "code",
   "execution_count": null,
   "id": "182702a7",
   "metadata": {},
   "outputs": [],
   "source": []
  },
  {
   "cell_type": "code",
   "execution_count": null,
   "id": "a539e381",
   "metadata": {},
   "outputs": [],
   "source": []
  },
  {
   "cell_type": "code",
   "execution_count": null,
   "id": "0dbadb3c",
   "metadata": {},
   "outputs": [],
   "source": []
  },
  {
   "cell_type": "code",
   "execution_count": null,
   "id": "74e7ada0",
   "metadata": {},
   "outputs": [],
   "source": []
  },
  {
   "cell_type": "code",
   "execution_count": null,
   "id": "1041290d",
   "metadata": {},
   "outputs": [],
   "source": []
  }
 ],
 "metadata": {
  "kernelspec": {
   "display_name": "Python 3 (ipykernel)",
   "language": "python",
   "name": "python3"
  },
  "language_info": {
   "codemirror_mode": {
    "name": "ipython",
    "version": 3
   },
   "file_extension": ".py",
   "mimetype": "text/x-python",
   "name": "python",
   "nbconvert_exporter": "python",
   "pygments_lexer": "ipython3",
   "version": "3.7.3"
  }
 },
 "nbformat": 4,
 "nbformat_minor": 5
}

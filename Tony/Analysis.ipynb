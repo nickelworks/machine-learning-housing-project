{
 "cells": [
  {
   "cell_type": "code",
   "execution_count": 155,
   "id": "68fd82ce",
   "metadata": {},
   "outputs": [],
   "source": [
    "import pandas as pd \n",
    "from googleplaces import GooglePlaces, types, lang\n",
    "import config"
   ]
  },
  {
   "cell_type": "code",
   "execution_count": 159,
   "id": "824541f4",
   "metadata": {},
   "outputs": [],
   "source": [
    "df = pd.read_csv(\"/Users/tonypark/Desktop/machine-learning-housing-project/communal/Ames_Housing_Price_Data_cleaned_2.csv\")\n",
    "pd.set_option('display.max_columns', None)\n"
   ]
  },
  {
   "cell_type": "code",
   "execution_count": 160,
   "id": "a56cbf93",
   "metadata": {},
   "outputs": [],
   "source": [
    "locations = df[[\"lat\", \"long\", \"Short_hand\", \"Neighborhood_x\", \"Prop_Addr\", \"distToUni\"]]"
   ]
  },
  {
   "cell_type": "code",
   "execution_count": 162,
   "id": "03f5744f",
   "metadata": {},
   "outputs": [],
   "source": [
    "API_KEY = config.API_KEY\n",
    "google_places = GooglePlaces(API_KEY)\n"
   ]
  },
  {
   "cell_type": "code",
   "execution_count": 163,
   "id": "807a5e4b",
   "metadata": {},
   "outputs": [
    {
     "data": {
      "text/html": [
       "<div>\n",
       "<style scoped>\n",
       "    .dataframe tbody tr th:only-of-type {\n",
       "        vertical-align: middle;\n",
       "    }\n",
       "\n",
       "    .dataframe tbody tr th {\n",
       "        vertical-align: top;\n",
       "    }\n",
       "\n",
       "    .dataframe thead th {\n",
       "        text-align: right;\n",
       "    }\n",
       "</style>\n",
       "<table border=\"1\" class=\"dataframe\">\n",
       "  <thead>\n",
       "    <tr style=\"text-align: right;\">\n",
       "      <th></th>\n",
       "      <th>lat</th>\n",
       "      <th>long</th>\n",
       "      <th>Short_hand</th>\n",
       "      <th>Neighborhood_x</th>\n",
       "      <th>Prop_Addr</th>\n",
       "      <th>distToUni</th>\n",
       "    </tr>\n",
       "  </thead>\n",
       "  <tbody>\n",
       "    <tr>\n",
       "      <th>0</th>\n",
       "      <td>42.017899</td>\n",
       "      <td>-93.651731</td>\n",
       "      <td>SWISU</td>\n",
       "      <td>SWISU</td>\n",
       "      <td>436 HAYWARD AVE</td>\n",
       "      <td>0.66</td>\n",
       "    </tr>\n",
       "    <tr>\n",
       "      <th>1</th>\n",
       "      <td>42.023035</td>\n",
       "      <td>-93.673386</td>\n",
       "      <td>Edwards</td>\n",
       "      <td>Edwards</td>\n",
       "      <td>3416 WEST ST</td>\n",
       "      <td>1.39</td>\n",
       "    </tr>\n",
       "    <tr>\n",
       "      <th>2</th>\n",
       "      <td>42.023035</td>\n",
       "      <td>-93.673386</td>\n",
       "      <td>Edwards</td>\n",
       "      <td>Edwards</td>\n",
       "      <td>3416 WEST ST</td>\n",
       "      <td>1.39</td>\n",
       "    </tr>\n",
       "    <tr>\n",
       "      <th>3</th>\n",
       "      <td>42.021605</td>\n",
       "      <td>-93.615604</td>\n",
       "      <td>IDOTRR</td>\n",
       "      <td>IDOTRR</td>\n",
       "      <td>320 S 2ND ST</td>\n",
       "      <td>1.64</td>\n",
       "    </tr>\n",
       "    <tr>\n",
       "      <th>4</th>\n",
       "      <td>42.033237</td>\n",
       "      <td>-93.617133</td>\n",
       "      <td>OldTown</td>\n",
       "      <td>OldTown</td>\n",
       "      <td>1524 DOUGLAS AVE</td>\n",
       "      <td>1.59</td>\n",
       "    </tr>\n",
       "    <tr>\n",
       "      <th>...</th>\n",
       "      <td>...</td>\n",
       "      <td>...</td>\n",
       "      <td>...</td>\n",
       "      <td>...</td>\n",
       "      <td>...</td>\n",
       "      <td>...</td>\n",
       "    </tr>\n",
       "    <tr>\n",
       "      <th>2619</th>\n",
       "      <td>42.028240</td>\n",
       "      <td>-93.629960</td>\n",
       "      <td>BrkSide</td>\n",
       "      <td>BrkSide</td>\n",
       "      <td>1021 RIDGEWOOD AVE</td>\n",
       "      <td>0.87</td>\n",
       "    </tr>\n",
       "    <tr>\n",
       "      <th>2620</th>\n",
       "      <td>42.023035</td>\n",
       "      <td>-93.673386</td>\n",
       "      <td>Edwards</td>\n",
       "      <td>Edwards</td>\n",
       "      <td>3619 MARY CIR</td>\n",
       "      <td>1.39</td>\n",
       "    </tr>\n",
       "    <tr>\n",
       "      <th>2621</th>\n",
       "      <td>42.028112</td>\n",
       "      <td>-93.607153</td>\n",
       "      <td>Crawfor</td>\n",
       "      <td>Crawfor</td>\n",
       "      <td>2140 SUNSET DR 2142</td>\n",
       "      <td>2.04</td>\n",
       "    </tr>\n",
       "    <tr>\n",
       "      <th>2622</th>\n",
       "      <td>42.021328</td>\n",
       "      <td>-93.685522</td>\n",
       "      <td>CollgCr</td>\n",
       "      <td>CollgCr</td>\n",
       "      <td>5319 CLEMENS BLVD</td>\n",
       "      <td>2.03</td>\n",
       "    </tr>\n",
       "    <tr>\n",
       "      <th>2623</th>\n",
       "      <td>42.034612</td>\n",
       "      <td>-93.683248</td>\n",
       "      <td>SawyerW</td>\n",
       "      <td>SawyerW</td>\n",
       "      <td>1025 VERMONT CT</td>\n",
       "      <td>1.95</td>\n",
       "    </tr>\n",
       "  </tbody>\n",
       "</table>\n",
       "<p>2624 rows × 6 columns</p>\n",
       "</div>"
      ],
      "text/plain": [
       "            lat       long Short_hand Neighborhood_x            Prop_Addr  \\\n",
       "0     42.017899 -93.651731      SWISU          SWISU      436 HAYWARD AVE   \n",
       "1     42.023035 -93.673386    Edwards        Edwards         3416 WEST ST   \n",
       "2     42.023035 -93.673386    Edwards        Edwards         3416 WEST ST   \n",
       "3     42.021605 -93.615604     IDOTRR         IDOTRR         320 S 2ND ST   \n",
       "4     42.033237 -93.617133    OldTown        OldTown     1524 DOUGLAS AVE   \n",
       "...         ...        ...        ...            ...                  ...   \n",
       "2619  42.028240 -93.629960    BrkSide        BrkSide   1021 RIDGEWOOD AVE   \n",
       "2620  42.023035 -93.673386    Edwards        Edwards        3619 MARY CIR   \n",
       "2621  42.028112 -93.607153    Crawfor        Crawfor  2140 SUNSET DR 2142   \n",
       "2622  42.021328 -93.685522    CollgCr        CollgCr    5319 CLEMENS BLVD   \n",
       "2623  42.034612 -93.683248    SawyerW        SawyerW      1025 VERMONT CT   \n",
       "\n",
       "      distToUni  \n",
       "0          0.66  \n",
       "1          1.39  \n",
       "2          1.39  \n",
       "3          1.64  \n",
       "4          1.59  \n",
       "...         ...  \n",
       "2619       0.87  \n",
       "2620       1.39  \n",
       "2621       2.04  \n",
       "2622       2.03  \n",
       "2623       1.95  \n",
       "\n",
       "[2624 rows x 6 columns]"
      ]
     },
     "execution_count": 163,
     "metadata": {},
     "output_type": "execute_result"
    }
   ],
   "source": [
    "locations"
   ]
  },
  {
   "cell_type": "code",
   "execution_count": 126,
   "id": "7e4b08a9",
   "metadata": {},
   "outputs": [],
   "source": [
    "query_result_2 = google_places.nearby_search(\n",
    "    location='Ames Iowa', \n",
    "    radius=10000,\n",
    "    keyword = \"Downtown Ames\"\n",
    "\n",
    ")"
   ]
  },
  {
   "cell_type": "code",
   "execution_count": 144,
   "id": "846cc7a5",
   "metadata": {
    "scrolled": true
   },
   "outputs": [
    {
     "data": {
      "text/plain": [
       "<Place name=\"Downtown Ames\", lat=42.024838, lng=-93.614092>"
      ]
     },
     "execution_count": 144,
     "metadata": {},
     "output_type": "execute_result"
    }
   ],
   "source": [
    "query_result_2.places[0]"
   ]
  },
  {
   "cell_type": "code",
   "execution_count": 129,
   "id": "f3833bf5",
   "metadata": {},
   "outputs": [
    {
     "ename": "SyntaxError",
     "evalue": "invalid syntax (753208142.py, line 2)",
     "output_type": "error",
     "traceback": [
      "\u001b[0;36m  File \u001b[0;32m\"/var/folders/h6/42c9p3812y7d0bfktf9ljfq00000gn/T/ipykernel_63790/753208142.py\"\u001b[0;36m, line \u001b[0;32m2\u001b[0m\n\u001b[0;31m    [<Place name=\"Downtown Ames\", lat=42.024838, lng=-93.614092>]\u001b[0m\n\u001b[0m     ^\u001b[0m\n\u001b[0;31mSyntaxError\u001b[0m\u001b[0;31m:\u001b[0m invalid syntax\n"
     ]
    }
   ],
   "source": []
  },
  {
   "cell_type": "code",
   "execution_count": 70,
   "id": "2c7cc8bd",
   "metadata": {},
   "outputs": [
    {
     "data": {
      "text/plain": [
       "[<Place name=\"Ames\", lat=42.0307812, lng=-93.63191309999999>,\n",
       " <Place name=\"Best Western Plus University Park Inn & Suites\", lat=42.0002899, lng=-93.63842009999999>,\n",
       " <Place name=\"Holiday Inn Express & Suites Ames, an IHG Hotel\", lat=42.033796, lng=-93.57853200000001>,\n",
       " <Place name=\"Hilton Garden Inn Ames\", lat=42.0107265, lng=-93.68320849999999>,\n",
       " <Place name=\"Jack Trice Stadium\", lat=42.0139639, lng=-93.63593059999999>,\n",
       " <Place name=\"American Eagle Store\", lat=42.049148, lng=-93.622564>,\n",
       " <Place name=\"Country Inn & Suites by Radisson, Ames, IA\", lat=42.0088318, lng=-93.5778952>,\n",
       " <Place name=\"Gateway Hotel and Conference Center\", lat=42.00102099999999, lng=-93.642798>,\n",
       " <Place name=\"Department of Statistics\", lat=42.0284915, lng=-93.64974359999999>,\n",
       " <Place name=\"Ames High School\", lat=42.0404553, lng=-93.6349486>,\n",
       " <Place name=\"Ia RC Repair\", lat=42.02338909999999, lng=-93.62553609999999>,\n",
       " <Place name=\"Iowa State University\", lat=42.0266573, lng=-93.64645159999999>,\n",
       " <Place name=\"Hilton Coliseum\", lat=42.02117139999999, lng=-93.63486929999999>,\n",
       " <Place name=\"Best Buy\", lat=42.011413, lng=-93.608092>,\n",
       " <Place name=\"Fairfield Inn & Suites by Marriott Ames\", lat=42.0088816, lng=-93.58344470000002>,\n",
       " <Place name=\"Microtel Inn & Suites by Wyndham Ames\", lat=42.0077738, lng=-93.58312789999999>,\n",
       " <Place name=\"Hickory Park\", lat=42.0100747, lng=-93.60967099999999>,\n",
       " <Place name=\"The Cafe\", lat=42.04866940000001, lng=-93.64373329999999>,\n",
       " <Place name=\"Jimmy John's\", lat=42.0493019, lng=-93.6227301>,\n",
       " <Place name=\"Gilbert\", lat=42.1069288, lng=-93.64966280000002>]"
      ]
     },
     "execution_count": 70,
     "metadata": {},
     "output_type": "execute_result"
    }
   ],
   "source": [
    "#takes in a string of category (i.e. \"school\", \"restaruant\", etc)\n",
    "#return a list of places for the category\n",
    "def grab_nearby(category):\n",
    "    \n",
    "    #import packages\n",
    "    import pandas as pd \n",
    "    from googleplaces import GooglePlaces, types, lang\n",
    "    \n",
    "    #empty result list\n",
    "    result = []\n",
    "    \n",
    "    #append resulting query to result list\n",
    "    search_result = google_places.nearby_search(\n",
    "        location = \"Aimes Iowa\", \n",
    "        radius = 10000, \n",
    "        keyword = category)\n",
    "    \n",
    "    result.append(search_result.places)\n",
    "    \n",
    "    #the query returns frist 20 results, iterate through next page token for rest of results \n",
    "    while search_result.has_next_page_token:\n",
    "        search_result = google_places.nearby_search(\n",
    "            location = \"Aimes Iowa\",\n",
    "            radius = 1000,\n",
    "            keyword = category,\n",
    "            pagetoken=search_result.pagetoken #add the token for the next page\n",
    "        )\n",
    "        result.append(search_result.places)\n",
    "        \n",
    "    return result\n",
    "        "
   ]
  },
  {
   "cell_type": "code",
   "execution_count": 49,
   "id": "012b9922",
   "metadata": {},
   "outputs": [
    {
     "data": {
      "text/plain": [
       "'Aap_uECF_j1dGZhYtRzrfon61IMQUwFYtM4vOVljWKuo1fm4FJG0BaUd56RQuUtvrjNiT6yyeau4W5QWy2-gxoZ-m-La4GJlW6-heQp2IdZJgpM20zopjLDTrZzIpn4VaZ7zkfmrINDw9WUAvl9iYi6VCYMxD_DiAB95PktIaPLBHfhXh1O8X5gWC_QpwAGr5_ReXpx0a-pHKtk-4mCpjGxrflTdNJl337Yono2LKlblzeOHeJ77jtYS7Fxg1F7D9m9aUW9NMs5sj4IqQWgzArRWl9fp4Z1Q3jAWrxaH44ucAaU6VtJK7m_-uZFZ6Aj0Wzgawqm4O1yCr71TxhJaH3IluJt-eeY_QId1NsnzEI5IKQWATqxTttFXI2fmJig4bIi_pkgX6VNv-7FVQjJqgGIREivrOBC7XtBZ8i8iT3IOshGCGrOe_00Pjbv6SA'"
      ]
     },
     "execution_count": 49,
     "metadata": {},
     "output_type": "execute_result"
    }
   ],
   "source": [
    "query_result.next_page_token"
   ]
  },
  {
   "cell_type": "code",
   "execution_count": 46,
   "id": "84a56dec",
   "metadata": {},
   "outputs": [
    {
     "data": {
      "text/plain": [
       "<bound method Place.get_details of <Place name=\"Pammel Deli\", lat=42.0235129, lng=-93.66361449999999>>"
      ]
     },
     "execution_count": 46,
     "metadata": {},
     "output_type": "execute_result"
    }
   ],
   "source": [
    "query_result.places[0].get_details"
   ]
  },
  {
   "cell_type": "code",
   "execution_count": 33,
   "id": "fdc1de9c",
   "metadata": {},
   "outputs": [
    {
     "data": {
      "text/html": [
       "<div>\n",
       "<style scoped>\n",
       "    .dataframe tbody tr th:only-of-type {\n",
       "        vertical-align: middle;\n",
       "    }\n",
       "\n",
       "    .dataframe tbody tr th {\n",
       "        vertical-align: top;\n",
       "    }\n",
       "\n",
       "    .dataframe thead th {\n",
       "        text-align: right;\n",
       "    }\n",
       "</style>\n",
       "<table border=\"1\" class=\"dataframe\">\n",
       "  <thead>\n",
       "    <tr style=\"text-align: right;\">\n",
       "      <th></th>\n",
       "      <th>lat</th>\n",
       "      <th>long</th>\n",
       "      <th>Short_hand</th>\n",
       "      <th>Neighborhood_x</th>\n",
       "      <th>Prop_Addr</th>\n",
       "    </tr>\n",
       "  </thead>\n",
       "  <tbody>\n",
       "    <tr>\n",
       "      <th>0</th>\n",
       "      <td>42.017899</td>\n",
       "      <td>-93.651731</td>\n",
       "      <td>SWISU</td>\n",
       "      <td>SWISU</td>\n",
       "      <td>436 HAYWARD AVE</td>\n",
       "    </tr>\n",
       "    <tr>\n",
       "      <th>1</th>\n",
       "      <td>42.023035</td>\n",
       "      <td>-93.673386</td>\n",
       "      <td>Edwards</td>\n",
       "      <td>Edwards</td>\n",
       "      <td>3416 WEST ST</td>\n",
       "    </tr>\n",
       "    <tr>\n",
       "      <th>2</th>\n",
       "      <td>42.023035</td>\n",
       "      <td>-93.673386</td>\n",
       "      <td>Edwards</td>\n",
       "      <td>Edwards</td>\n",
       "      <td>3416 WEST ST</td>\n",
       "    </tr>\n",
       "    <tr>\n",
       "      <th>3</th>\n",
       "      <td>42.021605</td>\n",
       "      <td>-93.615604</td>\n",
       "      <td>IDOTRR</td>\n",
       "      <td>IDOTRR</td>\n",
       "      <td>320 S 2ND ST</td>\n",
       "    </tr>\n",
       "    <tr>\n",
       "      <th>4</th>\n",
       "      <td>42.033237</td>\n",
       "      <td>-93.617133</td>\n",
       "      <td>OldTown</td>\n",
       "      <td>OldTown</td>\n",
       "      <td>1524 DOUGLAS AVE</td>\n",
       "    </tr>\n",
       "    <tr>\n",
       "      <th>...</th>\n",
       "      <td>...</td>\n",
       "      <td>...</td>\n",
       "      <td>...</td>\n",
       "      <td>...</td>\n",
       "      <td>...</td>\n",
       "    </tr>\n",
       "    <tr>\n",
       "      <th>2619</th>\n",
       "      <td>42.028240</td>\n",
       "      <td>-93.629960</td>\n",
       "      <td>BrkSide</td>\n",
       "      <td>BrkSide</td>\n",
       "      <td>1021 RIDGEWOOD AVE</td>\n",
       "    </tr>\n",
       "    <tr>\n",
       "      <th>2620</th>\n",
       "      <td>42.023035</td>\n",
       "      <td>-93.673386</td>\n",
       "      <td>Edwards</td>\n",
       "      <td>Edwards</td>\n",
       "      <td>3619 MARY CIR</td>\n",
       "    </tr>\n",
       "    <tr>\n",
       "      <th>2621</th>\n",
       "      <td>42.028112</td>\n",
       "      <td>-93.607153</td>\n",
       "      <td>Crawfor</td>\n",
       "      <td>Crawfor</td>\n",
       "      <td>2140 SUNSET DR 2142</td>\n",
       "    </tr>\n",
       "    <tr>\n",
       "      <th>2622</th>\n",
       "      <td>42.021328</td>\n",
       "      <td>-93.685522</td>\n",
       "      <td>CollgCr</td>\n",
       "      <td>CollgCr</td>\n",
       "      <td>5319 CLEMENS BLVD</td>\n",
       "    </tr>\n",
       "    <tr>\n",
       "      <th>2623</th>\n",
       "      <td>42.034612</td>\n",
       "      <td>-93.683248</td>\n",
       "      <td>SawyerW</td>\n",
       "      <td>SawyerW</td>\n",
       "      <td>1025 VERMONT CT</td>\n",
       "    </tr>\n",
       "  </tbody>\n",
       "</table>\n",
       "<p>2624 rows × 5 columns</p>\n",
       "</div>"
      ],
      "text/plain": [
       "            lat       long Short_hand Neighborhood_x            Prop_Addr\n",
       "0     42.017899 -93.651731      SWISU          SWISU      436 HAYWARD AVE\n",
       "1     42.023035 -93.673386    Edwards        Edwards         3416 WEST ST\n",
       "2     42.023035 -93.673386    Edwards        Edwards         3416 WEST ST\n",
       "3     42.021605 -93.615604     IDOTRR         IDOTRR         320 S 2ND ST\n",
       "4     42.033237 -93.617133    OldTown        OldTown     1524 DOUGLAS AVE\n",
       "...         ...        ...        ...            ...                  ...\n",
       "2619  42.028240 -93.629960    BrkSide        BrkSide   1021 RIDGEWOOD AVE\n",
       "2620  42.023035 -93.673386    Edwards        Edwards        3619 MARY CIR\n",
       "2621  42.028112 -93.607153    Crawfor        Crawfor  2140 SUNSET DR 2142\n",
       "2622  42.021328 -93.685522    CollgCr        CollgCr    5319 CLEMENS BLVD\n",
       "2623  42.034612 -93.683248    SawyerW        SawyerW      1025 VERMONT CT\n",
       "\n",
       "[2624 rows x 5 columns]"
      ]
     },
     "execution_count": 33,
     "metadata": {},
     "output_type": "execute_result"
    }
   ],
   "source": [
    "locations"
   ]
  }
 ],
 "metadata": {
  "kernelspec": {
   "display_name": "Python 3 (ipykernel)",
   "language": "python",
   "name": "python3"
  },
  "language_info": {
   "codemirror_mode": {
    "name": "ipython",
    "version": 3
   },
   "file_extension": ".py",
   "mimetype": "text/x-python",
   "name": "python",
   "nbconvert_exporter": "python",
   "pygments_lexer": "ipython3",
   "version": "3.7.3"
  }
 },
 "nbformat": 4,
 "nbformat_minor": 5
}
